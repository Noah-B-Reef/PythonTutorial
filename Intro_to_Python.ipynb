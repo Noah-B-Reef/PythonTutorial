{
  "nbformat": 4,
  "nbformat_minor": 0,
  "metadata": {
    "colab": {
      "name": "Intro_to_Python.ipynb",
      "provenance": [],
      "collapsed_sections": [],
      "mount_file_id": "1c4d58PREhIDfvp8mUJzaqFb2h6NIRyFj",
      "authorship_tag": "ABX9TyM/XQIfcI0r6SAyoSNkOr3p",
      "include_colab_link": true
    },
    "kernelspec": {
      "name": "python3",
      "display_name": "Python 3"
    },
    "language_info": {
      "name": "python"
    }
  },
  "cells": [
    {
      "cell_type": "markdown",
      "metadata": {
        "id": "view-in-github",
        "colab_type": "text"
      },
      "source": [
        "<a href=\"https://colab.research.google.com/github/Noah-B-Reef/PythonTutorial/blob/main/Intro_to_Python.ipynb\" target=\"_parent\"><img src=\"https://colab.research.google.com/assets/colab-badge.svg\" alt=\"Open In Colab\"/></a>"
      ]
    },
    {
      "cell_type": "markdown",
      "metadata": {
        "id": "MFHdgQu3WUln"
      },
      "source": [
        "# Introduction To Python, by Noah Reef\n",
        "# *Python*\n",
        "*Python* is a high-level programming language, that is, a lot of functionalities are built-in to the language itself, so there is no need to worry about the nitty-gritty low-level implementation of programming concepts. That being said, *Python* is still a strong language with many usages across many fields, such as Data Science and Machine Learning. In this \"Introduction to Python\" Notebook, we will cover some of the basic concepts to know when using *Python*."
      ]
    },
    {
      "cell_type": "markdown",
      "metadata": {
        "id": "ixreQjSFgHPS"
      },
      "source": [
        "# Variables and Data Types\n",
        "Here in this section we will cover basic programming concepts, such as: declaring and assigning values to variables, as well as data types. We start by discussing what are Variables. Variables can be thought of in a similar way to how they are introduced in math, that is, a symbol that represents a value, i.e.\n",
        "\\begin{align*}\n",
        "&x = 2 \\\\\n",
        "&y = 4 \\\\\n",
        "&e = 2.71828\n",
        "\\end{align*}\n",
        "We would say, for example $x$, is the variable/variable name and $2$ would be considered the value that is associated with the variable. We call the '=' the assignment operator, since it \"assigns\" the variable $x$ the value $2$. In Python we would do the following:\n",
        "\n",
        "\n",
        "```\n",
        "x = 2\n",
        "```\n",
        "This being the code that assigns $x$ the value of $2$.\n"
      ]
    },
    {
      "cell_type": "code",
      "metadata": {
        "colab": {
          "base_uri": "https://localhost:8080/"
        },
        "id": "kilP8gqzgFTS",
        "outputId": "b67338a1-57aa-4d27-88be-d409d921860e"
      },
      "source": [
        "# assings the variable x the value of 2\n",
        "x = 2\n",
        "# prints the value of x to the screen\n",
        "print(\"x is \" + str(x))"
      ],
      "execution_count": null,
      "outputs": [
        {
          "output_type": "stream",
          "name": "stdout",
          "text": [
            "x is 2\n"
          ]
        }
      ]
    },
    {
      "cell_type": "markdown",
      "metadata": {
        "id": "DmsFS6eSlPj1"
      },
      "source": [
        "*Data Types* in Python are the different \"forms\" of data that can be represented in python and be understood by the computer. The main data types to know are: *integers, floats, strings, chars, and bools*. There are more data types that we will cover later.\n",
        "\n",
        "\n",
        "\n",
        "*   *integers* - are whole numbers (i.e. $1, 2, 3, \\dots$)\n",
        "*   *float* - decimal representation of a number (i.e. $1.5, 3.14, 2.0$)\n",
        "*   *char* - is a single letter or *character* (i.e. 'a', 'b', 'c', $\\dots$)\n",
        "*   *string* - words or sentences (i.e. \"Hello, World!\" or \"Word\")\n",
        "*   *bools* - stands for boolean value, can only be \"True\" or \"False\"\n",
        "\n",
        "Note we usually enclose *chars* and *strings* in *single* and *double* quotes respectively. To bring it back to what we cover in *variables*, to show that we can assign these different *data types* to variables.\n",
        "\n",
        "\n",
        "\n",
        "```\n",
        "smallestPrime = 2\n",
        "pi = 3.14\n",
        "letter = 'A'\n",
        "name = \"Allen Smith\"\n",
        "skyIsRed = False\n",
        "```\n",
        "\n",
        "\n",
        "\n"
      ]
    },
    {
      "cell_type": "code",
      "metadata": {
        "id": "QMpcCLjqnjRh"
      },
      "source": [
        "# smallestPrime is assigned the integer 2\n",
        "smallestPrime = 2\n",
        "\n",
        "# pi is assigned the float 3.14\n",
        "pi = 3.14\n",
        "\n",
        "# letter is assigned the char 'A'\n",
        "letter = 'A'\n",
        "\n",
        "# name is assigned the string \"Allen Smith\"\n",
        "name = \"Allen Smith\"\n",
        "\n",
        "# skyIsRed is assigned the boolean value \"True\"\n",
        "skyIsRed = False\n",
        "\n",
        "# Prints the respective variables and their values to the screen\n",
        "print(\"smallestPrime is \" + str(smallestPrime))\n",
        "print(\"pi is \" + str(pi))\n",
        "print(\"letter is \" + letter)\n",
        "print(\"name is \" + name)\n",
        "print(\"skyIsRed is \" + str(skyIsRed))"
      ],
      "execution_count": null,
      "outputs": []
    },
    {
      "cell_type": "markdown",
      "metadata": {
        "id": "KZiNxU3pom6Z"
      },
      "source": [
        "## Other Data Types to Consider\n",
        "There are two other main data types that we should consider, *Lists* and *Dictionaries*. *Lists* are ordered collections or sets of items, usually of the same *Data Type*. These items are usually called *elements* and their respective location in the list is called their *index*. We can think of lists as being similar to grocery lists...\n",
        "\n",
        "\n",
        "\n",
        "1.   milk\n",
        "2.   eggs\n",
        "3.   bread\n",
        "\n",
        "here we see that each of the elements of the grocery list is a food item, and that each of their locations on the list are numbered. For example, *Bread* is an element of the list located at the *third index* location. we can replicate this same idea in code as...\n",
        "\n",
        "\n",
        "\n"
      ]
    },
    {
      "cell_type": "code",
      "metadata": {
        "id": "3SXtc5oTrzhb"
      },
      "source": [
        "# assigns the variable groceryList our list\n",
        "groceryList = ['milk', 'eggs', 'bread']\n",
        "\n",
        "# indexes groceryList at the 2nd index location, corresponding to 'Bread'\n",
        "print(groceryList[2])"
      ],
      "execution_count": null,
      "outputs": []
    },
    {
      "cell_type": "markdown",
      "metadata": {
        "id": "5SrtUi-buVI0"
      },
      "source": [
        "The first thing you might notice is that we needed to index at the *2nd location* in our list rather than the *3rd*. Normally we start counting at $1$ but for *Python*, indexing starts at $0$ thus the $1^{st}$ location corresponds to the $0_{th}$ index. Next we consider *Dictionaries*.\n",
        "\n",
        "*Dictionaries* act very similar to what their name suggests. In a normal dictionary each word is associated with its definition, for example...\n",
        "![Screenshot 2021-10-12 204614.png](data:image/png;base64,iVBORw0KGgoAAAANSUhEUgAAA5YAAAMOCAYAAABlPplQAAAAAXNSR0IArs4c6QAAAARnQU1BAACxjwv8YQUAAAAJcEhZcwAADsMAAA7DAcdvqGQAAP+lSURBVHhe7N0HnNPk/wfwL8recOypLEFAAWU5UEBFxYkoCg7AjX8VEAFRXKg/FGW4J+BCERyoiIpMUZYyj80hHHtvZMn983nypJe2SVd6q/d5+6okaZrVtJdPn5E8lZp2SRMiIiIiIiKiGOW5oGN/BksiIiIiIiKKWZ5Gdw3I9sGyeoUyUrNyOalRqZzUqlJeypUqIcWLFJQihQpK0UIFjEdBOXr8hBz+96gcPHJMDh89KnsOHJY1G7fJP1t2ytrN22Xlhi16aURERERERBRP2S5YFsyfT86tXV0aG49GtatJw5rVpHDB/PrZ2P333ylZlbpVFq5ZLwtXb5C/Vv4j+w8d0c8SERERERFRrLJFsMyX93Rp1aiuXHNBY7nwnDpqPDMsXpsqP8xaID/PWSKHjx7TU4mIiIiIiCgaWRosz6hYRm677AJpf0EjKVKogJ7q7sjsuXJi4yb1sBxdtlxO7T8gp5UoLgXrn62nGmG1ahX1KNyyuZ4S2s9zFss3M/6S+SvW6SlEREREREQUiSwJls3r15I7r7xQWjaoLXny5NFT/R1LXq6C5OHZc+TIn3Pk1IED+pnonVa8uBS+oIUUadlCBc0CDdIDaKAV6zfLJ5Nmya/zk+XUqVN6KhEREREREbnJ1GDZuE516X/7tVKnWkU9xR/C5L5xX8v+seM9Bclw8lWpIkWvukJK3nyTa8jctme/jPjqF1WSSURERERERO4yJViWKFpYHrv1KrnmwsZBJZSoxrr/q69lzwcj5cSm9CqudgXOrqeqtaKqKx6o9goohQyE0k3AclFNFg9UnT22fIWaHgghs/S93aXELTf5lms3b3mKPDvyG9m6a5+eQkRERERERHYZHizRfrL/HdeqW4LYIfjt+XCUCpSBpZN5K1eWIkZoRHAsduUVjoEvWgiXCJ14HPz5Vzl18KB+xoTqsgiYpe/p5ri+oV9Okk9/nqXHiIiIiIiIyJJhwfL000+Tvp2vkVva+neeEypQlrj5JhUkUU01ox2a9KsKmPvHfa2nmEIFzCl/LZMn3/tKjp04qacQERERERFRhgTLksUKy4ied8g5NavpKSaEue3PDPKr8npasWJmkDMe8SiZjJYKukbIVUHXVoqJKrLlnxsYFHJTNm+Xh4d+Ilt3s2osERERERERxD1YomOeN3vfKWVLpodEhLctvR6XQz//qqdkfaAM5BYwi155hVQaNsRvG/cf/ld6Dv9UFq3ZoKcQERERERHlXnENli0b1JLXHu4ihQrk11PMnl43db/fr5QSVV7LP/90tgiUgRAwtz/9vF8VWZReVhn5nl8PssdPnJS+b38pMxY6dwpERERERESUW5xeodHFz+phT665oJEMeeg2yZ8vr54isveDUbLp7vt9bSnRu2vld96Q0vd1lzwFC6hp2Q22q9hVV0jhli3kqBGK/9u5S23/vk/HyOnFS0ih8xqr+dCGtF3zhnLk2HFZsjZVTSMiIiIiIsqN4hIsb7j4PHnu3o5+txLZ2vNx2f3WO3rMLKWs/O4bkr92TT0le8PtTUpcf62c3LHTd6uSw9NnyImNm1UHQ4D9bdmgthw5ynBJRERERES5l+dgeUHD2jL4wU5BoXL/V+P1mEjFYUOkTJ+e2baU0o1VeomqsId+maymHVP3xUwPl9Cifi1ZvXGbrN+6U08hIiIiIiLKPU7T/8ak/plVZOgjXeS008zFoH3iP5e394VKdNBz5q8TpUSnjmo8p8L2Yz+wP4D9w35aEKpf7tFJGtasqqcQERERERHlHjEHy0plSslbfbpKgXz59BRRtxJBiR4ghFX/+ku/Dm9yMuwH9scKl9hPlMxa8uXNK2/0vksqJpXUU4iIiIiIiHKHmIJlvryny/BHb5cSRQrpKf7VXxMtVFoCwyX21x4ucTyG97xDHR8iIiIiIqLcIqZg+dzdN0ntqhX0mMiuV4cnfKi0OIVL7L+ljnFcnuneQY8RERERERElvqiD5c1tmstVLc/VYyJH/pwju4aO0GOS0KHSEhgusf84Dpb2FzSSay4wb0tCRERERESU6KIKliWLFpZHb26nx8zOejZ1v1+Pmb2/JnqotGA/yz//tB4TdRxwPCy9b71KChfMr8eIiIiIiIgSV1TBsk/n9lKkUPotQ1SYOmCGKdynMqf3/hot7C/2G3Ac7CG7VPEi8lCHy/UYERERERFR4oo4WJ5Tq5qq4mk5NOlXOTLbrP5Z4Ox6fqV3uQn2G/sPOB44LpZOl7WQMyuV1WNERERERESJKU+juwak6eGQvhr0sK/DHut+lSc2bVLj1cZ/IYUvaKGGcyO0r0zteJsazlelipw5eaKcVqK4Gp+5aKU8OvxTNUxERERERJSdnFWtolx7YWM5q3pFY7iSFCtcUA4eOSqrUrfIqg1b5Yc/FhrDW/Xc7k6v0OjiZ/Wwq9ZNzpbOV1ygx0R2vPSyHJ4+Uw2jKmjp+7qr4dwqX9UqciJ1kxxbvkJVic1ToIAvaFevUEZ+nrNE9h86osaJiIiIiIiyWqUyJeW5e26Sxzu3V7VTK5UpJQXy5VXP4V+MY3rH1s1U+FyaslEFTjcRVYV9+OYr9JDIiY2bZO+Ho9QwekXNrVVgA+E42HuJxXGy3H3tpXqIiIiIiIgoa7VuUk++fP5hVYAYCcxnzm82AXQSNli2Pb++nFkxvZ3gng9G6iGRMn16+qp85nY4Djgelv1jzft6wlUtzpGyJXmciIiIiIgoayEcDn3kdlXl1fLDrAXS+/XPpFWPQdK465PqX4xjugXz43Xn1z1TT/EXto3lh/3vkfP0i9G2cm3zi1V1T5TO1Zo3i8HSRh2fZhfJqYMH5bTixaXW3N99x+ejH6bLm19PVsNERERERESZDdVfUfJohcqtu/ZJLyNAhmpDiWqww4xAWdF4LaA67K1PvyFbjNfahSyxLFequDQ56ww9ZpZWWrcXKX1vd4bKADgeOC6A42Qv3b3mwsZ6iIiIiIiIKPM93vkav1DZyQiI4TrmwfOYD/MDXo/bUAYKWWLZrX0reeTmdnpMJKXZxaonWJZWurOXWqKH2JrzftfPiNz/ykiZtzxFjxERERERUVZ64Ia2qpNSe7XQeBnz658yZMxEPZb1UPL45fP/p8dEbn36zYh6e7WEe33IEstrLkgvZcMtNazbixS78gpfqFy//YA89/lc32P05OVqupvvZqf4zT99SXonN/GE7eo2dLLsO3RMT8kcOC44PoDjheNmYaklEREREVH2cf8NbTIkVEKkHeNklusuaqKHzDaV0YRKwPz2Npf25YFrsDyjYhmpUbmcHvPvjKZEp456yJivfHF59PpG8s+2/fLs53Ok27DJKtS56fXeTDXftCUb5a7L6sml51TRz8QXtuHbP9fKvsOZGyzBfnzsx63tefX1EBERERERZTWUKh4KcQsNL763hbDsACWOlmkLQhcGurG/zr48cK0Ke0vbFvLEHdfqMZHVdc9V7QbzVq4stebP0lPTPfvZHFm0bqdMmLNOBc3h91+in0mH0szRvy2XGUs3yyUNK8v0l9MDWKJZ2/QiObl5s+rEp87KxXqqyF2D3pUlKRv1GBERERERUcb7/e2BUlSXzqLX11D3pHSD0t2ZxnIAr8dyLK7B8rWHu0ib88zi22PJy+WfK8wGmqXu6eZ470oES5i+dJMsXrdL/hnVTUoWLaCmWVr3+1qVUqLEEiWdiRwstz/9vO9+n2f+OlEKNDCP5Zvjf5WPfpyhhkNpWq+GvHDfzaoDJcuOvQfkqffHSf/br/UrTV63eYfs3H9Qmp9dU08R+XbmX/L8yG+l/QWN5Ik7r5MiBc334vDRY/K/T76XiX8uCnrOgtfCja3OV/8Gsi/Dybt9u0uDGlWC5glc39zlKfLAK+kdHH394qO+/cI+3fTkCDUM4V5LRERERETuFo5+UQ+JuqVIrNyW41oVtmm99PuTHPz5Vz0kUqRlCz3kD4ESYbHrZWer6qdoS2mHqqkLU3ZI18vPVvOh1NLOaqvZ6/2ZMuK7Rb62kfh3wux1ajrgOcyH6XjNx7+tkOHfLVTjVrtNWJSyU73GqVou5kHIDdxGbJP1GjwwjAeWZcH60XYT6w3FfpwOz05vZ3m+ERjDsULlP1t3qjcLDwQpCwLX+xOmyYmT/6kQiHGELEzbe/CICqBXNGuowhiC3UUPPK9ej7CGYUx7uvuNah3J6zb51mEtExBKEWIRIvFaa577Xv5Itu/er+ZxgnBoD7gW7BM6grLWh3U1qXOG2g5AGF2ckup7rmr5JDUNwr2WiIiIiIhCs1f5jbVdqf11gVWIHYMl6ssWK1xIj5kd91gKX+AcLEEFSyM4Vi9XTEZM8C/NQvjDc05QRbbr0F9VFdph97WSvYeOypndRqlw1/O9GXLXa7+o12O+UZOXqQeq3eK5R9+drgIihhFc8Zy1PLzGHizRUVDX135V1XCxjTcO+tH3PF7zzGez1WsQJvEv5pm2eKO07m+G0Bue/0H+2b5f0tLS1PKtUlon9uNkP36NalfXQ+5QSpkvb15ZvCZVTzHvg4k3z16CGeidb3+TDdt2+kocu7dPr468ZddeFdwAgRPBE0HTXuqH1//450KpVKaUnhJs/op1Ksi6lVbiOWv9dtjuIoUKqO2Av1auM0LwYTWM4JiyabsKs4DtWLB6vZxZsax6LtRriYiIiIgoPHtnPefXTS9EjIb9dYGd/zgGy1pVyush05E5ZilggbPrud5iZMP2g3pIVKklgp/V4ytKE1HC1/MGs1fUM8ql9yiL5xDkRve+wld19tnbW6hST9Um87ErfK/DMhe91UXWj+6uOv357ulrpVHNsmrd+BfjeA4BNrCNJ0odERDxHF5rhVwrWGL82S5mGLy+RQ31eqwXy7S2BcOYjm3CPIHh2Q7HCccLDv0yWf0LBfPnkyrlSusxZyhxPHHypHRpd4EKgRAu0Nlt3L5bfp23VFUrdSrVO884IVCl1Aqadgh3blVMsS2jnrxPj0UH242STqsk9fy6NWT3/kNqfdg3p66YEaTxXKjXEhERERFRePYgGGuPtfbXRRQsz6yU3n4P92W0FKzvvgHrdxyQRjXKqmErtCGMAUr7zq1RRpVogvUvQh0687GCG0oArQdKFa35LFbADJRm/Of2nN0znZv7tjEU+3qt4cDXYTxcj7P242U/jmdUKKOHnCFMfTfzb8mfN6+qrop6zNFW+0ToQonkhQ3rqFI/O5RIosrrzr3pPwaEgqqt2AZsS3FbSXa0EIwRELGcG1qdJ8PGTtLP+MP2Vja28be/lukpkb+WiIiIiChSuI8lOqPBtW68H493NvuoyS7svdRee1GToF5dw8H8eJ0lsNdbx2BZ0xYsjy5L71I2X9XQtwaxShwRxu5qW08+nrJClUiiZA+lmE6sEkOUUtof6NjHCqiWwKBpcZtuhxJNLNfaRnQwFC+ohos2m3hg2GI/XvbjeEbF8OEW1UGb3fO0r90jOtL5ZVi/oJAYCoJZqWJF5O5rL9VT0h0/eVJSt0d2DKw2lmhzeeDIv3pqbPD6Feu3qOqtTtsFV7U8Vzbv2quOgV0kryUiIiIiilRuuo8lShinL0jvJ2boI10i3nfMh/ktWE5EJZa4h6XFHojc2leiymuJwvn1mMkKhbivJe5xaQ+JCHmA15UsYga9zID1IfhZJaLxhFJT/GdnP17241g9TImlnRUwEe4QqBC6ImW1VURHNzUqpv9YgLaKqAqLKrHRQJXUbi++r8eih4590CFR52ffUu0wURIaWBKLqq5oWxlYHTeS1xIRERERRSM33ccShoz50be/qMX45fP/F7bkEs9jPqsfFrweywnkGCztHffYq3CGYoVFC9oxovMb1bFOQDVVe5i0ShADe2iNNwRK1eFOF7NENHB7vUC7S5Sw4uF0/06wH8cyJYvpIWcITIGhCR35WD22RgOd/qCjm3NrV9NTRP5e+Y/q7fXcmunTLAh2CHGhSkYjmScQXlOqeFFf9Vurqq59G7A8dDg0fto8PcUUyWuJiIiIiKKFfj4u7jFI1c6L9+Pd76botWQfW3btk6c/HK/H0sPlc3ffJJc2rucrwcS/GMd0e6iEXq9/ppYTyDFY5st7uh7y51Zi6dbW0OoMJ7BKqwXVYFFFFqWd1i1ELBi22mjGA6rj3tCypi/IWh0LZSS341WyaGE95A5VX+3hEsEQ1VcRCt0ggNWuWsGvJNJqr2kPpSh5tDr3QUC0INihnjmq0OJ1bqy61aHmCWR1SHTZ+fXVOLa1fFIJdf9NwLqf7najWrfVQZEVsMO9loiIiIiIIjNtwQrpbYRDe0ntdRc3kWGP3u5rb4p/MY7pga69MHganF6h0cXP6mGf+65v7QuXez4YKcdTzABR5rGe6l873PvxvZ+WyqqNe6VxzXKqNLJg/rzqObR93LbnsF+wxPxo3/jz3xtk/+HjUq9qabNH1z9TVPhbtWmvev7dn5bIA+3PkcX/7JIJc9bJSmN64xrljGWfrsIhQime+3jyCrUc+7rxHNaDdeA1FUoVVkESy8G8Y2esVuPWuo4d/08K5jtdxv6+Ruas3CZnli/ha7f5y9+p8uXM1ZLH+O/MCuZ0LNvaJjVvueK+fQ606zXzJv+nFS8uxW+4Vg0fOXZCvprifquSSxrXk3rVK6kHgh4e6Min39tfyvSFK1QYvKxpAzn9tNPUPFc0bSh1z6gkD3W4XM1nTftqqtmbL27PgbB50Dh5Zixcqabh39PynKbW1aPDZWodV7Y4V8ZNnaeq0CLQWcurUra0bzvwwDhKQa3l2+Hek5ed30C97uJz60re009X60f1W7zmypbnysMdr5A259WXhas3qCqvCIov3H+zlClRTG2ntZ6k4kXl/QlTVYB1ey0REREREUVn/dZd8svcJVK5TOmI+n+xO6t6RamUVErlErs8je4a4N8w0DD/o+dVIIDUDrf6bjdSd0twaVngvRwRIkN1poNSSKvDHosVPPEcSj8REO3T7FDFFg8Ew8BSR2vdgdsE6tYhurotXg94PXp3RbDF7UjsJa/YBivA2lnrtsM63fZ5ZSWz9LBwi+ZS7Zsv1fCeA4ek7SP/U8NERERERERZBW0or9O9xOJRtHBBVZqJznnwQCHR8/d0VNPtvv99gTzz0dd6zCVYovjTEi5YUmhOwRJQ75qIiIiIiCi7Q+D8sP89IcOlY7Cc9e7TqtdQYLD0xilY4hcANBImIiIiIqKsg+ZXna+4IOLbbkQDPc6ic6BEES5cOnbec+TocT0kclqJ8PeIzEyomhpYPTUnsN/TEj2yEhERERFR1spN97H0CtVi7xn8oV+nP4AOftB7rEuwTA8+BeunH5BIbz2SEdAG8tJ+4+XMbqPi2ltsRrIfL/9gmR7ciYiIiIgoa+S2+1h6FSpcOlaFHfPsQ1LvjEpqeNerw2XXULNn02rjv3C8hUbrfma9WnsnNs90aa7+hRsH/ag6ybGznkfpY7ehk9WwZdh9rRzvM4lbkJS65V15pnNzdS/K7O7In3MkteNtarhM70elTB+zV92lKRvlzkHvqmEiIiIiIqKcxKlarGOJ5c596SVt9qqwbiWW016+Sa5vWUNG/7ZcFqbskEevb6SfMX078Br5Z9t+efbzOVK9XDG/0IkgiufTjP9KFMmvhp1CJVj3oMwp3Eosd+7j/ReJiIiIiChnCiy5XG2MOwbLDdt26SH/qrBHl7lXQcXtPEoUzq/uC+kUAK1beSxat1P9a4f58TrcLiQzwmPg7UIyiv142YOl/fgSERERERHlNFa4fO+7qerfqILliY2hA9kNLWvK+h0HVHtIO1RhnTBnnRqeMNv81w73l0xLS1Ovz2jYNpScZgb78bIfRwZLIiIiIiLK6RAu3/1uihw8ctQtWO7WQ2ZV2NOKFVPDR5evUP+6ufQcs1QOVWLtEBxRBfb6FjUcg+d3f6ao0krLx7+tkF7vz5TnPp/rWrqIsIrn8cD8gUZ8t0i6vvarWo61DKy3df/0m3gGwnZifrQJxeuxDsC/WIfVFhTPYb7A/QhkHS8cP3uVYgZLIiIiIiJKJI7Bct2WHXrIZHXYc2zZ8pA9w1oljoGlkghseM563h48VWibskK6Xna2Gm78f2Nk76GjqgMfBNGuQ38N6twHhn+3UM337Z9r1TxWB0KAYbTZHP3YFXJX23pyw/M/qPkRKlEld8bSzZLn6hHq8exnZuklgiICLtaLdp5oK4oeaBFKsfxH352uths90o6avEytFyHZDY4TjhcEdniUsnm7HiIiIiIiIsr5HIPlngOH/ErV7MEIPZ26QftIq1TSutckwiKqwaINplPwtEoz0WFPz/dmyLlnllHzAqYhcCLQBd67Er3CDr//Eln0VhcVHqcv3aRCH+bDsH0ZVqjdO+4BuaRhZfVI++lR9cByEB5H/bpMLc+CYYRQbN93T1/r61AI82Kd60d39+2PE/txsh8/hEoUFRMRERERESUKx2AJ85anh78iLdOD0eHZodsnWmELgQwQChEW0furPXha1Uit0kyr5HL/keO+Kq54bNhh9qCK590gBKLjIKzLmg+lnNYwSi6t26A4QZvLUkULyogJi3zrxbCTSG9zYj9O9uNnP65ERERERESJwDVYzl9hBkMo0OBsXzvLQz8HV0u1s4Kl1e4R/9rbT1rPWyEQpZkolbR6i8WtSnA7EusxqvflqmTR7RYkgMCK5/cfPq7+RZDF8nHPSwTMcG0hN2w/KNXLm7dBsT+wXnspJoQKqHbWccJxw/Gz2I8rERERERFRInAPliv9S9aKXXmF+vfEpk1yaNKvatgJQh6qmiIoqmqjxr8IjhYrWKKdo1WaaQ+N1m1JotWoRlnV5hKmv9xRnuncXFWxxToaPzzGV4LqxHpdvOD44DiBddwsLLEkIiIiIqJE4xos9x08InOWrdVjIqXv7a6HRA7+7B4swQqPKC1E1Vf7vSmt6rAInKhyapVmlixizmP14BotLA+liVZbTFRZRTvIaYNvUtVk0XkP4H6ZgRBsnabHyn587Mdt1pLVcvhobMGZiIiIiIgou3INlvD9rAV6yKwOm7dyZTV88JfJEfUOi7aU1rCdNQ2lk9Ywwh1KGNGxj1N7SnTMEwqCoerox5jPXjqJW6BYt0EB3C8z0KUNq6htscKnHZYVqn1nIBwXHB/A8bJXg/3BdjyJiIiIiIgSRchgOeWvZfLvseN6TKRkp47q31MHDsieD0aqYScoOUQVV5QU2ttXWqwwaXXqY3m2SwsVRnFbECtgon0k7keJqq4WVKO1QyA8t0YZtS6EyMD7WiJ0IjwCAixej+Vi+eiJFj3IItRa9860nscw5rGXuIaD44LjA6XvSy+txHGcvjD0fUCJiIiIiIhyojyN7hoQXIRn81TXG+SmS5uqYZTGrW12kZw6eFBOK15cas393e/G/3YIewhn6JHVCe4tiRBo3RbEghJChD2rN1iEU7SZRCBENVk8h6CXx/gPr/9n234VTrEcTEdVWCwbHfkgaOJ+lAilVm+uWIZ6/shxFSa/G2jeSsQKmeiZ1jKq1+Vq2eo2Jvqelaiyi2DsFJjV8Wl+sQqW6LSn1rxZvuMzfto8efHjCWqYiIiIiIgokYQNltXKJ8l3g3tJnjx51PiuV4fLrqEj1HCZ3o9KmT491XAgBDVUL7WXSNohACKkuZUG4vWYB6HPzipBxL8QTWmiHUJv4LK9cjs2qH57Q/9hkrp9txonIiIiIiJKJCGrwgLC0IxFK/WY2RmNdeuRPR+Ocm1ricDnFioBz4UKhXjOKfhZr8G/oV4fTrxDJY4Djgfg+Ng77cHxY6gkIiIiIqJEFTZYwgcTpukh4wUlivtCE6p8bn/6eTWc2+E4+NpWInzbqgjbjx8REREREVGiiShYLl+/WeavSL//IoKT1UPs/nFfy5E/56jh3Ar7j+MAOC720soFq9ar40dERERERJSoIgqW8PJnP8jJ//5TwyiNqzTiVTUMW3s+7lolNtFhv7H/FhwXq7Tyv1On2GEPERERERElvIiDZcrmHfLxT7/rMZHCF7SQou0uV8MnNm2SLb3Sw1Vugv3G/gOOB46L5bOf/5B1W3boMSIiIiIiosQUcbCE9yZMlfVbd+oxkUrDX/VViT30868h722ZiLC/2G/AccDxsGzZtVfe+fY3PUZERERERJS4ogqWJ07+J8989I0eM6vEVh31vh4T2fHMIDk0yQxaiQ77if214DjYO+wZ+P54OXbipB4jIiIiIiJKXFEFS1iyNlXe+nqyHhMp0OBsqThsiB4zq4YeS16uxxIT9s9e9Rf7j+Ng+eiH6bJg9Xo9RkRERERElNiiDpbwoRGc/l71jx4TKdGpo5S4+SY1jFtubOh4W8KGS+wX9s+6tQj2G/tvSV63Ud75dooeIyIiIiIiSnwxBUvo/85Y2XvwsB4TqTji1YQPl06hEvttOfTvUXn8zS9Ub7BERERERES5RczBcte+g9Lj1VFy9PgJPcU5XO4fO16N53RoUxkqVOJWLA8P/US27dmvpxAREREREeUOp1dodPGzejhqu/YfkpUbtsiVzc+RPHnyqGnFrrpCTqRukmPLV0jasWNy6JfJcnrxElLovMbq+Zxo7wejZGuvx9X+QGCoTEtLUyW4fy5do6cQERERERHlHnl27dqVpodjVqBAASlatKgeM219tI/sH/e1HhMpeuUVUmnYEL+eU7O7U/sPqE56rFuKQKl7ukn555/WY6YjR47Iv//+q8eIiIiIiIhylzz79u3zHCwhf/78UqhQIT1mQjVYlPRZTiteXKqMfE8KX9BCT8m+jvw5R7b2fFxObNqkxk8rVkwFSntHPXD06FE5pksyiYiIiIiIcqM8hw8fjkuwhNNPP12VXtqpW3P07KOqxlpQeln+uYGSr2oVPSX7OLFxk2zH/ThtpZQFzq4nlYa/6ndLEUCg/O+///QYERERERFR7pTHCEdxC5aAtpZ58+b1tbkEVCnd+dpw2fvhKD3FLL0sfW93KX1Pt2xRPRbbuMfYvj0fjPR10AOo+lr2sZ5B23jixAnVtpKIiIiIiCi3y3Py5MkMSUennXaaX7gEVC/d8mgfObl5s55iBkxUL0XAzIoSTJRQIlCi2q49UKKUElVfnartspSSiIiIiIgoXZ5Tp05laLFbYLiEXa8ON0sGDx7UU0yoIlvMeJS4xbxlSUba/9XXcvDnX/2qvALaUqIktUyfnnpKOpZQEhERERERBctjhKUsSUuq6qkRLp0CJkoxUVJYpGULI2xeHpeSTJRMHvp5shyePUeVnNpLJ8EKlHjkpJ5riYiIiIiIslqWBUsLAiZKDhEw7R382OWrUkWFS3Sek98YtneiU7hlcz0kcmT2XD1kdhr0nxEeESIRKq3eXQOhyivCZGBvr0RERERERBSZLA+Wdqq9oxEwD0761a8dZrzlrVxZil11hQqU2bFnWiIiIiIiopwkWwVLO4RMlDbicXTZctfSzEigVLJg/bNV9Vo8GCaJiIiIiIjiJ9sGSyf26q12GA/svRXjpxcvHnTvSSIiIiIiIoqvHBUsiYiIiIiIKPs5Tf9LREREREREFBMGSyIiIiIiIvKEwZKIiIiIiIg8YbAkIiIiIiIiTxgsiYiIiIiIyBMGSyIiIiIiIvKEwZKIiIiIiIg8YbAkIiIiIiIiTxgsiYiIiIiIyBMGSyIiIiIiIvKEwZKIiIiIiIg8YbAkIiIiIiIiTxgsiYiIiIiIyBMGSyIiIiIiIvKEwZKIiIiIiIg8YbAkIiIiIiIiTxgsiYiIiIiIyBMGSyIiIiIiIvKEwZKIiIiIiIg8YbAkIiIiIiIiTxgsiYiIiIiIyBMGSyIiIiIiIvKEwZKIiIiIiIg8YbAkIiIiIiIiTxgsiYiIiIiIyBMGSyIiIiIiIvKEwZKIiIiIiIg8YbAkIiIiIiIiTxgsiYiIiIiIyBMGSyIiIiIiIvKEwZKIiIiIiIg8YbAkIiIiIiIiTxgsiYiIiIiIyBMGSyIiIiIiIvKEwZKIiIiIiIg8YbAkIiIiIiIiTxgsiYiIiIiIyBMGSyIiIiIiIvKEwZKIiIiIiIg8YbAkIiIiIiIiTxgsiYiIiIiIyBMGSyIiIiIiIvKEwZKIiIiIiIg8YbAkIiIiIiIiTxgsiYiIiIiIyBMGSyIiIiIiIvIkT5pBDxMRJbzdUwZL+9E7pEXXfjK8bXk91WbFSGnxUrLr82FfnwGSR/WWe6Y2kA8/7S4N9LR4sPYFYt6fnVOkZ++JIhl9PPR65ujRQJ0GDJVe9fRIDmC+p3rE0qabzOnWUI9kpe0y8dmXZZC0N/5tK0l6apYL89k06W1P0aMGr59V++dEqRnquCyVYXeMkrF6TKScDBzaX9qX1aN+YttWa3ty2jlPRImPJZZElKsktW0vnYx/5/yeLLvNSX6S5ySrf92e35qKC8wGck9GhqhMYA/Icz4dGuZiFhfAvaXnlO16PAshfBnba3982EZk7Eu9pcUdI8V897IxhKM7zFCJYODbjwENRKaOUs8NW6HnjQHe1xbPTnE8d3MytV9GqAwNoQ5BDWHOPK4Tu5aTOaNflhajlup5ooMfAOyfkzlD20uLlInS3ulcw48fCJUInup97ScDa+6QQb2d3tPYttXaHiKi7IjBkohymXJSp6bxT8p8mbPTnJJuqUy2SpFCPV+zulQ0J+RQ243gbFycGhfAA3N4QIYG3XBh3k06GZf692TnUIXggXCkg4dfaVO97jqIICQPlolB517u5Qt3bRpICz3Nye4pE2VsQAlhUtv+KrDJ1InRH1Pj/frQ+Lz7lSKWbSvDES6Nc+1Dvx9atsvEtybKHL/SzPLS/lnrPfUPotFvq/njjvpBwjgORETZEYMlEeUy5aXFxcbFm+yQ1bvMKT4r5psXewNw4bhDJi8JKKFTzxsXmhc3yD7VA72oXi7C/TCOla26XvbUUHqh1C9logzKDiWrDpJ/RFVe4/x6yK0aJYIIAvIOGfRWbAHZLFFPHFaVYZTuDr+mup7qRP9Y0qZ9ULXTpEoun/cwdi+Zb7xfDrUTypYTbMkc+7HemSyTjc9Ip06B763xnnZCEDSe95VaRrutVpVZs3SzV6h0TUSUhRgsiSjXSTqnqSr5GDvHv8qZqgZb03iuXgO5vGZwdVizmmw5ufycwFI+szQB1Rith2O1UVUNEiUX9vkDS6dQRc62rGir8OmqlumPgCp76nndrktXvcTDrfolLuxb6DZjqpqe0zI1VV3Rt173UjdzmemPuFWxrdfUpZpzwDEN2DZrux2PgT6e7tVTrffS+Zik06XdDmHCX0O5vI3xj1OJuapqad8P2zptVWwRrtvreYK2O9z5ESTC8zFwuQ4lx+p9x+vt+xGmhNksjY6kLSFCuTGvQxvV3VsQAMtJnTLmeKRQgjjHqV3zzh2ywfinRTWEQJMZQl3Woc/LDVus8zzabdXzf+rWVpOIKHtgsCSi3KesGRxl6nzbRbV54W+WRupSTb+L++2yAVeTCJ5+F3dWWyl0rmNeBKO9nHtbqWS5x5h/8sW6zZb9YtFqo2VcylrLmlhtYnAnLy6sdmi+9mCqaiXWZwtStiqXVpXMUBfu6sJeVf0zqwSayw2+2Mb+tk9tr5/XpW69A0OLGVLMjojM9WLZ4qENnD+rmvMG2WpOSD+mQe3e0o9JUttuZnXFsYEhxwiNY409MF57p2uwsUpzjbARGATtrNJuWxhxU1HNE1BqheCGzotsbUw/bIP3Vh/jCN7XiM4POxVQ58vlellmNc1RQT8EqMBoLDe9zaixXHFph4gfM3oby9TtCudkeOdAS+UTtEkM+tzGzip5tv/AZJYUl5PqIdbhV8LpKP7bSkSUmRgsiSgXsqrD2qqn6Wqw1sWiWappqw6rq7oFVoNNHmUFQVvYwkW+7ozFqaTLr82WjXnB6r8slJqgc5qwjAA1SHcykr5slHToIBVj1cpIqbDiK4HR1VLtx9dgtisLOFZos6aOlT3kx6q8VFe1JW0hD8v3CzDGMXkosKqz9UPCRPnE/n65Vm+0M/ZVhamMLE0yAjnaZgb0GmuW5jmUqDmJ5fxQATX4XJwzemL6e2UsF+0Q/XsoxXLNNq/299/k364wo5mfz3DvYRSMgK9+6Alb8hy9uG8rEVEmY7AkolwpsDqsrxqsdbGoSzWtapVWVTf/arBW9camwRf3uvpbYHVbqF4pOFSGXFYEnLcPnEpfM0GZ6ur4ptPtyoywcY9VDdJ6IDSFK/GLiC5VDlNyZLWRs7N6C7a/XyrohyytzCS66mWnFrHfiiRe54dVmmq9V+ZyjeOmeuW1P8yQlF790xLmvYkjlNAiBCJMh69KGwGUfuNcReCO821h4r6tRERZgMGSiHInqzrshh1GcLRXg7XYL7itXlRZRc0zWzVN/0c8SrF0tVSHXnv923WaocdfQ7nTr0dOp3PCAx20w1eHTK9W6Wtnt2uDCm/Zgdm5TCCzU5ng9zTcbWwyDoKadZuQuGwDQiWqIuP8dai+Gxi4nbhVg477thIRZREGSyLKpXS1SQTHKf7VYC2+6rA/TlRVIiPvRZWCWdVUM5BTr72+Tm3s4QfVNIPZqz9b1Xbjdr/Ssm3lHlRpDnvbC11ynU1/xDA7l0nnHDSzVmaHSrDOHceeZ/V56VRTgaGSiBIJgyUR5VoNWqDSqREk3EojreqwU5NViVFwVUTdg6dT+0B9MRl59UXd8UyMbQ2D2oT6ZJ/SVlWqE9iOMW50O0Tj4t9+b06zijNKSSMoEdXhb87oUTLIOGYturaPqVqymwbXmG073du7oodZlKYG3JIkRLXqSMXn/HCYV5XEGvv0Yzw6X/LOCmpojxrXUGmcCR+G6mhIf1e4dgBlvP7ygCqucd9WIqIsxmBJRLmXdXuKFCNEOFZ5tDr5geALQzDDgq13TkApmQ45kbfPK++73136Tf7NW1lE1CusLxS9bOu1E683by3iqUMQ6759qr2pscxRsXUE5Ot99SX7bTCs21mEu+2Fu/RbogRf/AeFWQQFx6qwJiv8zUlxao/oxNp+99ur+FgdFenbgfh17KRKVvV7NSAwBFvVdEf59Z5r7rf9uNlK4Y1t2T1lZPo2xXJ+YDt963OZ11juQNdtC3WblvizBzWnW3nYmdsX5j2zh8qwnSTpTqFwzPw+v9Z76v/6aLaViCinyJNm0MNERLkOLjDNapIuJVrWxWXIC8D0C0iLY9U2HTj9e9AMYIVSTc0rmCYRXNwaAl6PQBz8Or294l61L5DvQljz7YM+PhK4v3p6dYd9NY+5HgFVxdDYwp3lJcmt1Mx3ke/M/ZgGvDd6XXOMabjlS3BJkZ6/eqQX/NbyIwkf6YKOAYQLGZG8t4HHKXCZ0ZwfxjHA7W7S3/cQn5Og5ZrztjCWlVTWPMbmPkd3nMzg7vZDgH1ZoeYzpX8m08+JUJ9Fx/fITp1LgZ+fwO1wOmbRbKsW6vx33A4ioszHYElERGRRAWmHe4CiBIFwOVGqPxtNyCUiolBYFZaIiEgLuu0MJaTkUSixjm8bWiKi3I4llkRERAarum/IqspERETkiMGSiIiIiIiIPGFVWCIiIiIiIvKEwZKIiIiIiIg8YbAkIiIiIiIiTxgsiYiIiIiIyBMGSyIiIiIiIvKEwZKIiIiIiIg8YbAkIiIiIiIiTxgsiYiIiIiIyBMGSyIiIiIiIvKEwZKIiIiIiIg8YbAkIiIiIiIiT/KkGfQwERFRTFrc0VsPEYU359OheoiIiBIFgyURERERERF5wqqwRERERERE5AmDJREREREREXnCYElERERERESeMFgSERERERGRJwyWRERERERE5AmDJREREREREXnCYElERERERESeMFgSERERERGRJwyWRERERERE5AmDJREREREREXnCYElERERERESeMFgSERERERGRJwyWRERERERE5AmDJREREREREXnCYElERERERESeMFgSERERERGRJwyWRERERERE5AmDJREREREREXnCYElERERERESeMFgSERERERGRJwyWRERERERE5AmDJREREREREXnCYElERERERESe5Ekz6GEiIqKEdurUKfnr7wXyxdivZPHixXL8+AmpWaOGXH1VO7nu2mulUKGCek4iIiKKBoMlERHlCvv3H5A33npbfv7lVz3F35lnnCEDnugr9erW1VOIiIgoUqwKS0RECe/Iv/+GDJXwz/r18vygl+Sff9brKURERBQpBksiIkp4U6dODxkqLRs3bZJPPvtcjh49qqcQERFRJBgsiYgooR08dEimTJ2qx8L7448/JWXdP3qMiIiIIsFgSURECW337t2SunGTHgsP1WZZHZaIiCg6DJZERERERETkCYMlERERERERecJgSUSUg6C94Pz5f8nX33wrx48f11MplKSkJKlWtYoeC69woUJy5pln6DEikf/++082b94iY78aJ6tWr9ZTiYjIjvexJCLKZnbt2iWTfv5Fjh0/ocb37dsnK1euVBe2CJZw+WVtpd/jj0nBgryhfyR+nDhJBr8yRI+FxmObe82Y+busWZuihk+d+k9Wr1krW7ZskdTUjWoavDFimDRudK4eIyIiC0ssiYiymUOHD8t33/8ooz/+RD2+m/C9rFy12hcqKXpt2lwqV7a7Qo+5q1qlitx5exeGylxq+YoVvs/dJ59+LnPmzPULlURE5I7BkoiIEh6qtz78UI+Q4fLMM86QpwcOYDVYIiKiGDBYEhFRrlCiRHEZ0L+vDH31FWna9HzJnz+fml6zRg0jdD4o77/7ttSrW1dNIyIiougwWBIRUa5x2mmnSTMjVA4zwuXUyb/IrBlT5eNRH0qnW26WQoVY/ZWIiChWDJZERERERETkCYMlERERERERecJgSURERERERJ4wWBIREREREZEnOS5YHly9TnZO/1M2jflG1r76jnpgGNPwHBERERERUW528uRJOXz4sOzdu1d27NghmzZtUo/t27eraUePHpVTp07pueMjRwTLnTNmy7J+L8iUuhfJ7Cs7y8pnhsi2HybL0a3b1QPDmIbnppx1oZoXryEiIiIiIsoNTpw4IVu3bpXly5fL4sWLZfXq1Wp8//79cvz4cfU4cOCAbNmyRZKTk9U8KSkpsnPnThVEvcqTZtDD2Qo2a+/8RbLs8efl5N4DUuH6K4zHlVLq/HP1HM72/r1Etn03SbZN+FXyliou9Yc8LaWaNpI8efLoOYiIsrf1GzbIY4/3V78qurn8srbS7/HHpGBB3iKDKF7eee99+XzMl3rM2RsjhknjRqGvRYiIMgsy03///adKJXHdULx4cSlatKgUKlRI8ufPr26zhRxkZSHMjweCJILowYMH5ciRI6oEs0yZMlKuXDk5/fTTY8pO2bLE8vjefTL3+q4y/8buUu2uTtJ6yRSpN6hf2FAJpc47R82L1+C1WAaWhWUSERERERElAlRlPXTokKxZs0b9W7VqValUqZKULl1ahcsCBQqocJkvXz7JmzevemAY0xA8ixUrpoIkXlO+fHnfsv79918VPqOV7YLlwZVrZWbTq6Vkk4ZyWcpsqd79Vv1M9PBaLAPLwjIPrkrRzxAREREREeVMKG1EtVZUY0VQRJgsWbKkqsmE8GiVVLrBc5gHry1SpIiUKlVKLQPjqCqL9pnRtsHMVsESne9MrddKajx6t9R9to+cHocqXlgGlnXW0z1l1oXXsYMfIiJyhT/SBw8d0mNERETZD6q+onTR6oSnQoUKqhorSiRjqcKK1yBQJiUlqZJLVI3FsvEv1hWpbNPGEiWVsy6+QZp89oaUb9daT42v7b9MkzlXdpE2K3+XYmfV1FOJKBC+pFLW/SOLFi2WhYsXq3r7Gzak+n25VKtWVcoYX0DnnnuONGncWGrVqinFihbVz3qHr6ZDhw+rdebPl08KFy6sn8m+cNyOHjsmBQsU8NT2MSvbWFrH/fTTTgt7zPEH5/iJE5J26pRs2bJVdu3eLf/884+cdtrpcmunm9UfqVDw3q5cuUqmTJsuf/39t+8cy58/n9StW1cuufgiufTSS6R8uXL6FeHhF9zDxnZBEWP78attIKvqELZ948ZN6pfZFcZ2zJ03T7Zu3ZZt2tAh4K5dmyILFi6UxYuXqOObmrpRPyuqDUz16tWkapUq0rBBA2nYsIHUrHFmtmh3i2OM7V29eo0sX7FCkpOXyb79+4O+R/BeV69eXSpVrOjbhzq1azm+b5khEdpYZofvbyLKOPh+tUoq0RlPjRo1VLXWeMLf91WrVqkSUIRNVKtF6WY42SJYov3jjGZXy1lP9ZRqd92ip2aMdW98JOtGfCSt5v8k+UuV1FOJCBcdS5Ymy1fjxsufs+f4XYREAhe5557TULp0vk3OP6+JGvcCF0cvD3lNJv82RU+J3dn16skrL78kJUuU0FNC+3HiJBn8yhA9Fr3+fR+Xa9pfpcfSxXOfvOjS+VZ58P779Ji/eGxjuNCLP4rz5s2Xt42L+HXGBXAoOI+uv+4aubtbNylRorie6m6hcTH98KO99FhssjI4HDt2TObN/0vGjf9aFi9ZGtPn8IKWLeSWmzvKOUZI8/o5jAYuJ9D74M+/TpYff/xJdhgXPbFA2Lzi8svUd0mVypVj+vU9UDzOC69QCvDakMFyhhGk4y27fX8TUcZQP/4eOmT87Vynwh7aRsY7VFoQLvFjMZaP7y/82Bzu+zjLgyVWP++6u6TEeeeoKquZYeWzr8q+BUul+YTRcfmDRZSThbrIL126lHTs0EHatmkt5cqVVaUIVknErFl/ymefj3G8eKxR40x56MEHpFnT82P+jDFYZpysDJb79x+QDz78SL77/gepXLmSdLjhernowgt95xd+hf1o5Gj5+tvv9CtM9erWlYFPPqFKWkLJqcHy+PET8tuUKfLhR6McP1PnGBf9N914gzRoUF+VNOHCX11gHD6sSjHnzpsXFObwOexhvM/NmjWN6JfmWCHE/PX3Avn4089kiRGGrZBy0UUXSn3js1epUkV1AWSVQuI7BBdGGzdtdtxuC5YTzY8KoSRqsMyu399ElDHQkytuE4IOd9AeMqNrqOC7GrWnUDJau3ZtVdU2lCwPlnvmLVQ9t6KTnXi0qYzEf8aF0281W0rTb0dK6WaN9VSi3Gfbtu0y4o035fdZf+gpJlzQoSpj1zvvlEKF3D+XCAlvvPW2/PzLr3pKOiyjw43Xyz3du6lG4bHABSsulr4a/7X8Ovm3qH6Fx0VVt7vulNaXXmJclJaI+gIJX43ognvVqtXyzXcTwpYCICTdeXsXuaRVK+MiOrb9tWSH243gAvSAsf9rVq9Rx3/2nLn6mfDctm3L1q0y6IX/yeYtm+X+e+8x5rtMlU7Z4Rj/MPEneePNt1XpnV2jc8+VZ595SgWrcBCQd+/eI1OmTpPx33wje/bs1c+El9nBcqVxjr3+5lsqlAW62AhnPR68P6KSO4TTOXPnylvvvCubN2/RU0WubHeF9HjgfvWZiCd8RlauWmV8B7yjth3v5R1dush1RhhMMi54IvXvv0dl7FdfyaiPP3X8jEX6o0I85KSqsNn9+5uI4m/Tpk2qUx30/ppZTYR27dpl/A3d4yshDeX0Zw16OEv8fduDUuuxB9S9JjPLaehqt1RJWTvkbaneLfZeZ4lyKlwQLlq8RPoPeEq1f7JDO5tnnn7KuKi4IWw7p4IFC8j5558nO3fukrUp/r0uYx3Ll6+Q9es3yHlNGsdUVQOlLElJpeWiCy+QcmXLqnATyW9hhY11vfTi8ypUItzE8qs7XoNuuhEYrV/83dZ/w3XXyrNPD1Ttw8K1K4wE2qIhSOOPh5uaNWqo4xLu18NYYf9x7LD/l7Vto9pgzZ//l/rVMhynbftn/Xp58qln1Ov/9+IgadG8mbp4tUOQ/ODDkfLeBx86BoxtRtAukL+AETDPCVsCh3UXL15MtSFrd8UVqmTmn3/W62dDu/qqK6VihQp6LONgH7//caI8/exzqo2qHUJar56PyoP336vauERyDuN4os1l29at/fYXn805c+dJ48bnSiljWfGAEDvu669l0IsvqW1HaB307DNy9dVXRn2xky9fXlUi6/YZx0XNgoWL4rr9btDWd+nSZD3mLLPODzc55fubiOIHn0mUVqYYn1W0S8f3bEbWRLHDdwn+BqGpQ1njezrUejNni1zsnP6nHN97QKplQbjDrUhOGuveOWO2nkKUO+DLCaU4A54cGFQihouSAU/0U6Eg0jCGEPfAffeojjeczPrjT1W1Er2LxQpfYu2vvkr69ukdFEac4Fe1EsUjq/YaCRyLVq0uliaN/X8Aw7agNKlXz0c8V9XLznD8W118kdzdvaueEh1UvXtt6Aj1R/H5Z5+WWjWDO0/DeYmS0TFfjtVTnE2fOVO279ihxyKD0IP3qXbtWnpK1kOIfu/9D+XV14apkGanPof9+8n1114T0fkeCPvbp3dP9Tm2INgPePLpiMN1KEf+/Vfefvc9eevtd33brtp0GuEw0u+NQDjH2rRpLZde0kpP8Yftf/3Nt1VV6dwsJ35/E1F84Ec21MDCDz3RhEr8iIkfqnFvylggWKLmAq6tsA2hZGmw3DFpqlS8oZ0eix6qtM699k6Z2+FuPSU6Fa6/Qnb8lLVtnYgyEy5K0LHGS4NfDrqlAi5g/++hB6O6KLGgi+s7bu/sehGMi5NPPvvcsRQqUtim1q0vVdUsw0Fpzd8LFqj9zSjY10cf/j/pZFxQx3Lxn9Pg+OOiv+5ZdfSUyCCEvPveB+pX1seMsHPmmWfoZ/yh1Ounn37WY+7Qu+X27dEFS0DPste2b6/HshaOybARrzuGaOtziFLyWEMaqjGv++efoPNy46ZNMvqTT9X6Y4XP8Jgvxsr4r7/RU0x4j2++tbP8+tsUtf5YIORcdWU7188TSsxRkp+Rn+vsLCd/fxORN/j84weeYsWKqc9qNJ9zNA3ZsGGD+juMcBnLdyhqASFY7t+/X09xlqXBctuEn41wd6Ueiw5C5bzru8m2H3+T4ztCp2c3FW64SrZ9N0mPESW+vxcslNdffzOohAQQ2BDcYr2YbdToXL8SkkDffDtBZsz8XY/FBhee997TPaKSp88+/0JWr1mjx7zbjVs9bNykx8S4EOuiOhZxuxhLROhyvOn55+ux8PDHa+rUaaojIFz0okqdm6XJySr4RGLfvn16KDpNmjRSHahkJSuYoYMoJ2jXhjaRsX4OERpRsvfQwz0dP2/TZ8yUOVG0lw2EZX5qhAwnaMf64kuDZdLPv8Qc/vDDRd26Z+mxYGgPiM9ibpTTv7+JKHb424FeWhHuoimtBMyPZjroNwLVWWMJlwiWKCnFNoT68TDLguXB1evk1LETUur86BvAW6Fyx68zpFSL86TFT5/pZ6JT6rxz5L8T/6ltIUp06MxjhHFR4nTzd3SGcnPHDiq4xQqvRZtGN/hS/Pqb72T3nj16SmxQ8vTAffeG3VZUv3z3/Q/jVnVuwYJFvqpnuPDvfFunXBUqARetderU1mPhbUhNVR2y4NYR4UrgTp6MvDQEbQ5jgWBcrWoVPZb58IccwcgtmOEHk1s73RLzeeVWmmiHedDZC37Bjha+O374caJahhs89+Zb76j2ebFAdasaZ56px4Kho6Olycv0WO6RKN/fRBQbNJ9AoEPfD9H+gIRQiV5k8f26bds2VeqI/g6iCZdYJ/pdwGtC9bWQZcHy6JZtUrBa6J6FnASGypa/jJF8xYvpZ6NXqGpFtS1EiQwXkagCh3ZKTlq3vsSx3Vu0zj67nuo8xM3iJUtk9uzYS0ssuM/aTR1u1GPuUHVuwg8/xlx6YsHFFNo1AS7+UWrq5SIuJ4s01OEPD+7F+N/Jk9LxphvVH6R4QIljqRjvQZwvb96YQ2k8IGwhdLkFM1TVxQ8nscLn+0cj+IWD+Q4eDA4o4QSW2rtB+Jk6fUbIAOoGbXnQ6VIo6LgmlmXnVIn2/U1E0cPfVJQYxvLDI16Dks4zzjhD/S1eb3yXoFrtiRMnIr4+QrDEchBSQ7XVzLJgeWzrdilYMboqSfEOlVCoUgU5xmBJCQ49KqJtkhMEpDatL41L6VvpUqWkTu3QJVpTpk51/NU9GtjWmzrc4NrhhN2YMV/GXHoC+NKdNm26uqhC5xi4v5uXi/+cDqEukuqkuE3L5MlTVKdLkVz0Vq9eNaKwjpv+V4ixOiv+oKJ336yAkvMPR412PfdRBbTVxRfqsdisXZuiSurDQag8fMS9x2E3e/fuC3kLHDvcvDvWtpxVq4S+rQi2IfBWNIks0b6/iSh6CJb44S3WH8pRHRbtM+vUqaPC4T///CM7d+4MWfroBCWm2bTE0giWlaK7OJh/y/1xDZWAbcC2ECUqXNCO+/ob11/469arK9Wruf9KHQ1cuNczlhfKsmXL1Q3dvUKHE+ilFGEvFFwEvffhRzH3aoheNL8YO04N33RTh2xx/7rsDm0wfvxpkhQrXlwuv7xtRBe9tWvVkktcegS14L3u2CF+pZ+ZBRcCCAYoQXdz8cUXqaq6XmyMoDTRi9ONC5NIA8zhw0cyrFQRbXFxS57cIFG/v4koOuhVHYEw2mqwdngtSi7POussFVLRoQ+qxkb6XW2VWqKk002WBctYnGakZDh1/Jik5aJqMERezDMuZkNd0NavV0/9ihUvodpHAUox/v57gR7zBiEPYS+cBQsWyncTfoj6Qhfbip47UULSpEljuenG6+NSMpDo/jLeX3QSg15kq1aJrE0jLmp7PHCfawci1q0UUF0vp0EvxRMnufd4i1Kn8887z9MFA1SsWFEPhVasWFEpUjj6m96XjLC0GooUKZxhn5V/j/wrx47mjhLLRP7+doIfYcI9iMgbqxosqtaiBDLazoBCybJgGUtJ4fmfvynlr71c9i9Ilj8vu0WO742tZ0C7WEpOiXIKXARMmz5DjznDTf29XtDalSmTFPbiEzfj/vff6DsPCYQL1xuuv1YanRu+FPGrceNlSZgbn9vhAgZVYNGjKTrHeOjB+6VUqVL6WQrFqqbY9PzzogoXOL7PP/uMDHn5f3JJq4ulXt26qrpz9253ycgP35eLL7owrudqZvnjj9myZs1aPRasfv2zpVq10NU/IxFpdeKz6tRR90KLVoXyFSIusa9Ro0ZE2xILBPXcUGKZ6N/fFiswomMSPPADIEpnAh+Ybs3DkEm5DXplRRVUL+c9PjsbN26UTZs2qVCJ72l06hPpdwjWjc8hSjvdZFmwLFDRCJZbowuWp+XPL83GfxDXcPnvlm1SoFIFPUaUWHDPolC/dleqVEmqVKmsx+KjRPHiUqpk6IvWVOOL7VCc2ukg9HW9646IqsR+NHJ0RG3QAFVgR47+RH2J3nN3t7Btj8gfbhkR7T0vIX/+fNKyRXN5cdBz8sF7b8s7b70u3bveJRUr5szvaVRlnD5zph5z1rhRo7DnbyTOqnOWqnocCtZz3TXt1XGOFl6DHpHDbSs+k1dEWAU6VtHWPsiJEv372x4mERxRgoILZ/wwhQc6LbIe1jQ8j/kwvz1kEiU6VIPFuR/rD0n4zGzevNkXKmvVqhXTrUvwOcS2uMnCEssKcjR1ix6LXLzD5b8bt6ptIUo0+GP7559z1K/ebipXqhj3Urg8xpfUaaeFvqDcsnmLKnWIF5Si3HJzRz3mbtHixRFViT106LB88NFIVQUWF9JtPNysPrdqYoSlWErFEs3yFStl8eIlesxZrVree/QEBL9H/u8hueuO2x2DY+XKleR/Lw3yVJ0YnSfdcUcX19BYunQpefKJfhn+Q8y2bYndN0Iif39j36xQie9iK0wiQKK3SbTRdnvgeSto4nV4vRUu8SBKVFZvrLH8qIZAiraUuKZBs5MzzzxTCheOrrkCPl/W5xXB1E2WBctidWrIaQXyyd6/FuspkQsMl7Pb3aafiQ7WfXr+vGpbiBIN7lO0YNEiPeasQoUKUlC3XY4XLA8XsKHgYgnbFy9WlVi0gwzn66+/kYWL3L938OX57YQJ6l5/aB94R5fOGValL5Hhfpe5PYzjj/DsOXNDXgjEu9QJ7WVwO5xxY7+QQc89I13vulPu6d5Vhr36inwy6iNVbdzL+4LP2m2dbpH3331L9fiL2++UK1tWmjRuJI8+/H/yyeiR0rTp+fwhxqNE/f62AiA+E7jYtQdKDOP8QikKAjOq6KFaLv7FOKbjecxnD5hYDpZnLZsoESFYWuc/fkyJBkorrVoGaIsfS0klPlv4zOF12bIqLFS44SrZ9t0kPRYdK1xWuvlaKVI7tmC4bcLPUuH6K/UYUWLZvGWr/LPuHz3mrKJxYRLqCyIj7dkTWy+tbnDh0c24iI6kSuzojz91rRKLe+ThFiX4AscFeqj7upEzBI0zqlfXY7kXznHcpiaUpNKlpWQGlOxiubjhPUIlwiXCHkJnPCA0op3mE/0el1Efvi/fjB8rrw8fqm7SnxH7khsl4ve3W6jERS8udBEgUcsBpSHYL+vHCfyLcUzH85gP8+N1DJeUW6CNJT4DCIixnOMIpuhNH58fXN9EC583/KCDbQj1+iwNluWubC1bJ/wa85cAwmXTr96T8z9/S0+JzjZj3eWuDt0ehSinWrZ8echqVFDauPjMKlu3btVD8YNqel6qxCJsoh0mwmeHG69XHchQ9FAdsmSYdlq5wabNm1Vb3VBQOpTTbp9CGS/Rvr+twGeFSisQ4tzHxW6oqnVOMD9eh9dbAZXhkhIZfmDBD+gHDx70neeRsqq/Vq9ePeqSSotV6hmuiUuWBsuyl14g+UqXkNRRY/WUzLNh5JeSt1RxKXtJSz2FKHHgD2y4C1oIV+UpI53876Qeih/8inZThxtU6Uw4X301Tt0Ww4IvaoRNhE5UF+zS+baYftUj8x6j8Sody8nWrF0b9ONFoKSk0uqXZDLheOG45WaJ9v0dGCqtEkZcoKLkMdZq03gdXo/l2JdrXXQzXFKiwd9WVENHyWE01WHxWbEescDn6vDhwypYYhtCyWN88LL0k7dn3kKZf2N3uSxltpyeSb/a/nf0qPxWs6U0/XaklG4Wvk0WUU6DErenn3lO5v/1t56S/XTpfKs8eP99eiy+cBPvPn37q+MQCm5lMei5p9UX5dx582Xg08+qMDno+Wfl/POa6Lky3/oNG+Sxx/urhvZuLr+srfR7/LFML+3KztsWiXfee18+H/OlHnP2xohhEd9Www3+EA8d/rr88ONEPcXZIw8/JLd0vEmP0bp1/8jj/QeEPL+gf9/H5Zr2V+mx+Mms8yOURPv+todKlCyi8w9858bzhzssf/fu3arKLL538C+WH+uFNFF2hV5dEfKqVq2qOuDJDLt27ZI9e/aoH3LQL0AoWVpiCaWaNpKSTRrKmsFv6ikZD+sqcd45at1EiQhVJeLZ62pOg14vOxsXPuEsTU6Wr7/5TrZs3Srvvv+BqnqGqrQZedFIucPRY8dUL3zhFC6UORcGOcFG44JpyGvDwobKRJdI398IlShZQTU661YhJUuWjHttECzPKrnEerA+q7dYokSCTrtQYrlv3z71Q01GQyklSknx4w3aZ4aT5SWWgNuFzGh2tdR8+G6p8cjdemrG2PjJV7Lq+eHSav5Pkr9UST2VKLGsXrNGevfpp754QkGvkejgIxHhliEv/m+w6t01FFyQFClSRN1vEDfgf/KJ/lK0aBH9bNZgiWXGyawSKfxY8Xi/J2TDhlQ9xdkrg1+SC1q20GO50/HjJ2Tyb7/Jex98KCeM4fPPP0+mTZ+hn3WWyCWWifT9jXCHC1KrHSS+E1DqkVFwEWytB9Xx8f0ea5syouwIsQ3n+QbjbzGuXdDLa0b9rcUtfnA/XbRpxnpQQhquFkC2+LQh4LX48VNZ+uhA2f7LND01/rDs5Meel+Y/fsJQSQnt8OEjYS9KAL8cJyqEw6533aFu1h4KLnoQKtGt/b13d8/yUEmJAaUmR48e02Puou20JJEgUM78fZbcc/8D8r+Xh6hpqIbevFkzNZxbJcr3Ny6A8UDpIUoSMYwL4YyE5WM9WB/Wa20DUaJAsLMCJX6wWbt2rSrBjDeEylWrVqmaAFgX/lZFUrU82/yMU+ysmtJm1SxZ0OX/JPXjr/TU+Fn3+kcy58ouctEf30uxurX0VKLEFElVMlyUFCmS2NXwcJP227tEdp/bFs2bStWqVfQYkTd79+7L9VU6neAif9u27fLp52Pk1s63y4CnnlbtKlFb4N233sjSts3ZRSJ9f1sllgh5XjrqiRSWj/VgfVhvNB2cEOUUKIUvXry4+kEc5ztKFdHuMh7wHY0S0XXr1qmep5OSklSojLTkP1vVDyhWp4YKfqteGC4rn31VdbLjFZaBZaW88ZG0WTFTrYMo0Z08GbonSkA1oUTvjRIXGVdffZW0bdNaT3H348RJYavNElFsUDV90i+/ykOP9JSOnW6T997/UHbv2aMC5VtvDJcXBz0XtlOI3CJRvr9xgWoFSwzHUjp/8tARPWQ6tCpF5txwl5zYf0BPCYb1YH1WsMQwUaJBB1XFihVTtyDBOY82/ehkxyqpjxZeg5o26AQLP26h2iuCJarZRlOdPFsFS0DJ5SXzfpL9fy9RPbfitiCxfimkjvpSLQPLwjJZUkmU+xQ2vnDvuuN29cteKLgIGTX6E9m8eYueQkReoJrWn7PnqLam7a+7QV58abAsWbJUihUtKvfc3U2+GT9W/vfiIDn3nHPYDi7B4LoNDytYRnv7oVPHjsuCbo/I5DrN9RRT3uLFZPfvs2XxQ/31FGdYnz1YxnodSZSd5c2bV4VLdKqDUIieW61OfRAww/2wYn1G8VqUeO7du1ctA+PoJAilodF2tJUtv8nR/rHZ9x+r24GkfjxWpp3TVlY8NVj2/rVYz+EO86wY+LJMbdhGBUssA8tim0qi3OvMM8+Qbnfdocfc/bN+vYz58kvjS/WEnkJE0cBFytq1KTL4lSFy1TXXSd/+A2T2nLnqIr9GjTPl6acGyHffjJOud94hSVl4g3/KePZgGU3p6rHtO+X3Nh1kw+gv5eRB85ZR+xcvkzWvvSMFK5aThsNekI1jvpYDS1eo55xgffZgSZSo8KMcAmDt2rXVvxs3bpQtW7ao0ktUabXu74qwiLCJB4YxDW0z0ccESijxGvxrLSvSNpWBsu1PhNgZ3GPy4hnfSsM3XpBTJ/+TBbc/JJPPbC6/X3KjzL/1AVna+xn1wDCm4TnMc8q4KMRrLpr5nVpGRtfpJ6LsDd8Bbdq0jrhK7JRpGdeJGFEiwsXLr5N/k65336se+BxZP9A0adJYXh/2moz68H254vLLoi69opwJgc56oGQllBP7D8q/G7fI7j/my7Rm7WTPn/P0M6bD/6RKcp9nVCeMVTvfZATM8rLxs/H62WBYn339RIkM1zg459GcoEGDBqoaK0oeV69eLStWrJA1a9bI+vXrJTU1VT0wjOeWL1+uhhEyUaX27LPPVsvAsmLNTjmi7knZSy+Q+oOflLYrZ0mLX76Qus89LhWvbyeFKldUDwxjGp7DPPVffkq9hojIsn3bduOLdI0ec4dfuT/55LOwt4kgIjNQTvxpktzW5U55/oWXVEc8lsqVK8mrL/9Phr82RIXLeN+7kLK/SIPlL9Uby8/VGsnMi9rLv6mb9NR0la6/Ukqc20A2jBwjefKeLuUua2WE0Ln62WD2YEmUm6DtJXpxRUhs1KiR1KlTR42jwy+U5OOBYSuEnnPOOVKjRg0pW7Zs2M9pJHJcowZ0voPQWOW2G6XWYw+oB4YxjR3zEJGTI//+K6M/+VTdgB2lJeEucDHfZ2O+yJSbD1PuFsltJbIjXLDPnTdf7ux2t7pVSOAN/a9sd4W88+Yb0qJFc7afpLClH6E641GM15ducZ7qvAcKVa0sR7fuUMNOWFONyPyBBbcmQWkk2mFWqVJFPTCMadF2zBMJftsTJaC8ecOXDBw8cEDdLy3RoQRyzBdjZcrUaarTkOeeGahu4B8OqvXhNfzFm2JRskQJKVe2rB5zlxM/gyilfP+Dj1T7SafOrtBZVt8+j0np0qX0FIpGIn5/x+N7FOEzb1HzFiv/HT0mpxdyr1LN722irMFgSZSAwvWACijFQwPuRDdj5u/y6Wefq1LK/3voQbnwgpZyR5fOUrVK6HtWIpB+9vkXsn79Bj2FKHKnG+Egb758eszdkX9zVrBEz4EvD3lN3YcSn5FAXe+6U7p3u0vy5w+/7+Qskb6/UXKIBzoMCaX2Yz2k8s3XSemWTfUUf8d37ZFtEydLmUsvVOP7Fy2VInVqqmEnWJ+1biLKPAyWRAko0tKSRL+1xj//rJcPPhypLoA739pJVc/DhUb16tXkzjtvj6hK7OdffKku4oiigZtX43MYDu4ZllPgczBsxBuqNN8JOsfqfFsntqX0KFG+v61gh0e4YNng1Wel2VcfSqtZP8hZA3rpqen2L1kmeYsWkZoP36M6+dk1c45UuNK95ok9WOJBRJmDwZIoAaG76OIliusxd1u3btVDiQf3Yxr2+hsqHDY691y56aYb/S54W1/SSvVQGc7k36bItGnTWbWKooL7p1arVlWPuduxY2eOaMuLH2fGjh0nP//yq57iD/vb0fiM4V/yJlG+vxHo0H4L37uRlq7mMeY/+8UnpOnn78ppBQvqqSJl21wsV25aLAXKl5VlT7wg+UsWlypdbtLPBsP6sF6sn8GSKPMwWBIlIFyYVKsa/qIWoevffxOvgxpcBH/97QRZsGChqvL6WK9HpUxSkn7WhEbruJfemWecoac4w7JGjv5ElX4SRQo970XyGUSp09Fjx/RY9rVy5Sr5apz77R3Q62vNGuxALx4S4fvbKim0giXa5UajSucO0mrGBKn56H16ihk6/924WTZ+Pl7OfXOw5C1itrd0gvXZgyXDJVHmYLAkSkCFChWUWjXd259YUtatk7379uqxxICSRZSqWO0q772nu5x5pnN4xO0QunW9U80XCm4a/PGnn7FKLEWlVq3wn0HcxHrvnuz9GcSPK1Onz5CDh8yb1Ts5u149de808i5Rvr/twRLDuBl7NEo1ayxnv/CEHjOhN9h2GxZK5Vuu11OCYT1Ynz1YElHmYLAkSlB16tQOG5hwr8ZE65wGJYsoYcTF8B23d5FLWl2sn3F20YUXyjXtr9Jj7tBD7FT2EktROOOM6qo9byi4TcfWbdv0WPa0fccOmTPX/Z6BEEmIpsglyve3FSxx24NDhw7F5fuzcLXKeigYlo/1YH1WsCSizMNPHFGCQrU0t5I6u78XLFQhLBHs2r1bhg5/XZUwRtqRCHqv7HzrrWGrxMKojz9llViKWJmkMtKgfn095m7p0uRs/YPF9u07VIhxg89Y0SJF9BjFQyJ8f6OkEA+EPNy0HcPoVTgjYflYD9aH9VrbQESZg8GSKEHhHnLnNWmix9z9+eds2bZtux7LuXBx9fmYL2TR4sWqXSXaT0bakQiqxD74wH1hQygC6wcfjZRDhzL24sj6lT+jnDhxQv76e4Fq35coPypkR/jRokXzZnrM3YJFi2T//v16LGMhwJ46dUqPRSZc76NlypSJqLOZnCDv6Xn1UMbYsnWrLFy0OGS1YkiU72+EOnyfWeHyyJEjUbe3jBSWi+VboZLVYIkyH4MlUYJCMLn0kovDhit0ADF33nw9lvFQqvjeBx/JmjVr4xZqcLGMdpXffDtBihUtKo/17hnRr/12zZs1lQ43urfbsfw+6w9jXb9kaAlTpLeqiNW+ffvlzbffkV59+srmLYl9y5ms1rBBfal7Vh095gwd46xctVqPZawtW7bKfQ/0kKHDR8iBAwf01NBy2r02vahYsaIeyhiz/vhTHn60l3z55Vd6irNE+f62B0t0aIXQhx9R4v2DFpaH5WL5WA+DJVHWYLAkSmA1a9aUpk3P12Pufpg4UbWjymgIY9Onz1Ad67z97ntx6wxn+fIV8uZb76iLi1tu7iiNG52rn4kcLuRu7XSL1K5dS09x99nnX8jqNWv0WPydZlwMZWSJ5Zq1a2Xt2hSpXKmilCpVSk+ljJCUlKTunxoKzttpxufi+PETekrGwOdv6vTpKsSeOHFSCkVYor9/X+jS1INGQD18OD7hE9t4+HDo0ryMlDdvxn3uUJqGnqohkjapifT9bYXLAgUKqPCHTqviVXKJ5WB5WC6Wb4VKIsp8/OQRJTD82t3+6qvChhT8+oybnmdkKRykpm6Ur7/5Tg23bdNGlS56hV/Q33nvA1W1DLc8uOH6a2MOZeXLlZMH7rs3bCkB1vnu+x9GXOITLfziXqFCeT0WXwgxVgkHep5k27iMhRKTiy++KOwPFnPnzpN/1v+jxzIGfgz5+utv1fmNNsi4EI9EuFI8BIx4VeVFZzTfTfhBj2W+8uUz5nMHmzZvluRly6Vc2bJyRvXqeqq7RPn+xmcAD+yHFf7wHYdzxkuHPngdXo/lYHlWaMV6rHUSUeZisCRKcE0aN5I2rS/VY+7GjPlSlfxlFNwE/rMxX6iqW+eec460bNlcPxM7XNC+a4RKtKvExcQN113ruQTu/POayE0dbtRj7ubP/0sm/PBjhlzM4R6b5cqV1WPO9u3bJydOntRjkUN7rHk6WDY2zg1efGU8/GCBkvRQAQE/VnxvnE8ZVWqJz8qYL8aq9Vx44QXSoP7Z+pnwIinFQwm4V9jGz7/4Un1HZJVSpUqGDZf47EUL3xOz58xVr0WPr+XLl9PPhJYo39+B4RLfcQiCWC5KG6O9FQnmx+vweiwHy2OoJMp6DJZECQ5/cO/o0jnsxRJK/FDyhwvPeMNFFW7XgV/V8Yf/pg43SFLp0vrZ2GCZ06ZNl8m/TVHj5557jgqFXlnb17BBAz3FXUZezIXrpfbgwYNy8kR0IQTHDFUhcXGIqni1a4Wv9hsLhNfjx4/rMQLc9ubSS1rpMWc/Tpwkf/39tx6LH5RSI1TiM4hSpo4dblTfC5GqWrVq2FL8vxYs8FSCb23jH3/8Kc0iqP6ZUUqXKqVKFEPBZy9aaNv6229T1TBqVkR6z89E+v4ODJdWIETVVZQ87tixQ5U+IjSigzGsF/AvxjEdz2M+65YieD1LKomyDwZLolwAHdl073qn+sMbCkr+UAKIkoN4wUXBvPl/+dpAXnH5ZXJByxb62dihm31rmXBW7dpSrFgxNewVerm8u3vXsFW9cDH33ocfyd698b9JeY0aZ0rJkiX1WDBUS9uyNbr7H+Li9tdff1PD6HESPU9GC23p0KYulAMHD8ihDL6tQCxwcXrgQPhQEEuJVDgIZuipGD0Wu8G5/Mabb8f1ljboAXbSz7+odnFww/XXSd26Z6nhSJUvV1aqVauqx5yh7eDM3//QY9HBfn/y6edqG1Gye/VVV+pnMl+RIkVUiWIoK1auUudSpKwfdP5Zv17KJCWpUshoJNL3t1u4RHtfDGMdCI34TkWARE/c+BfjmI7nMR/mZ6gkyn4YLIlyAfyxRQcid9zeRU9xh95VX37lVdm/33v7QVyUoBfEZ58bpEIYSgHvv/dudUHgBS68Xxs6XC3TUqlSxbheVKADoJtu6qDH3OGCGm3CcMETT1WMAHLuOQ31WDBcPCYnR37/Q2zfjxN/Uhe3CDnocTLchaoTlBiEu3DFPQ8zslperBAGIvkRYOeuXXoovhAQ0GNxqB8sUJr82rARcemMBdVqv/jyKxny2jD1/jc6F+f0jVG/76hefq7x2nBwu59lUb7vuO/g62+8JR+NGq0Cy80db1IlhuG28dSp+H7eLFhvyxbNQ65/2fLlsieKH5PwfWW1G23evJlUq1pNDUcq0b6/rQCIDnZwnK32kVbARGmu28MeKPE6vN7q/TWe3/9EFJvTnzXoYSJKYPjji5KKnTt3ydqU0O2hcCG0cOEi9ct9mTJJemp0/v33qHw4cpS8/ubbcvTYMVWV67Hej0qNM8/Uc8QG94H73+AhqmdTO3SG0fT88+J2cYHjhVKalStXy7btoe8Tt9bYlnr16qlwGy/4FR4XdtNnzNRTguG9bN6smRQvHrqkFstBqRU6HMLw1VdfKe2vvjrsxXsghJPvf5goy5Yt11PcYd4WzZuri7/sYkNqqqpuGS4Y48K1pRFy8B7EW8WKFVRQQ3s7tx8FcL6hDe9ZxuevbNkyMZ3TW7ZskZeHvCZff/udWg9Kp/v3e9z4nEQXagCfhZIlS6h7JoY6dqgK++fs2VK5cmWpWrVKyO1GSSo6LHriqYGqM6l6devKY716qv097bTTZf7ff8uePe7hrVrVqq6fdwRqPPLli+2elPg8LV+xUra61AjYu3efaot5TsMGYd8bVE3938tDJMX4zsUPCg8/1EOdA9FKlO9vOxw764H9wwPfSdYDVV2dHtbz1uvCvQdElHkYLIlyEVwon29cjKHUZvUa/2AWCB0j4H6Np06lqZKWSH+lPnTosEz8aZI8+fQzMm/eX76L2qcG9I+6ClggVP98btCLqsQgEErSUL0TF3zxgl/IT548KX8YF9ShoD0hwtZ5TRrHdf24KFxthFaEBCeosrlt2zZpdO45aludqDD440QZPuJ1tS+oivd/Dz2oOpSJFi60Pxo5OqK2dHivcPGHUg78m9VwHqLEFiUw4ezcsVPOOadhXH8osOAiGL3x4vjPmz/feH9O6Wf84b39dfJkOXb0mLqYj+TWINjHrVu3ygcfjZTBr7zqq1KLQPPcM0+r8yRWpUqWVLd1WLhokZ7iDIEE7fFWrlqlXlOsWFH14wL2GyXGaH876eefVSnq2HHjVXtFtCd+euAAX0+pBQsWkM2bt4T8AePkyRNy4QUtg857lNQNM8711NRUFfwQPKKF0jA8Zv4+yzX8r161WsoZ7yG+G92CDX4Ee/F/L/uO2fXXXaOq+cayTZDTv7/d4PjZH1bIdHpYz1vzElH2ksf40oh/l4ZElK3h1/xx47+W9z/8SAWPcPLnzydtW7dW7Wtq16ktxYsVU3/cAfdmwy/4aN/z+6w/1MUylm/BReOAJ/qqEolY4Wtq0eIl8sJLg1WbGzdYR+9ej0jds86Ky0UHjs2HH42STz8fo6eEhvZzTz35hNQ/u56e4h0urvv07e9X7TdQ5cqV5M7bu0jLFi1UyRLeG/SWiFsbfPLZ575750HPR/5P9Xob7fHBheqrQ4dHFMzsLr7oQunx4P1SpXLlLLsQROnYb1OmyrDhr4c8jnY4lwb076suyjMCzmn8YPHKq6+FLJkD6/PXuvWl6ty23mPA52/79h3qc/fr5CmyavVqNd2CUDBwwBMqkHg9/iitHDpshKpuGS/oyKZ/3z5SKeCWJpGc9+gFuutdd6g20Qit8//6W0a88aYKpSjNfPKJfuq5WOA7bMQbb8iE73/UU4LhBxN8J3a86UapXq2aCm8411BK+dOkn2Xs2HG+7cftZga/9EJMP+gEymnf30SUezBYEuVS+OgvXrJEVdPChVhGaH3pJfLoww/FfHGHi7RNmzarYIceCSO5iAKUNt104w3SoEF9VUIXbYkZ1rNu3T/yxdiv1HqjgYu4jjfdJNdd016VeFkXcLHC+4QSoMA2pbFAO63evR4N28MnYL3ogAcljzN//12+Ny6wvaz/rDp1jAvbtupWBTgu6CQlI0syETT27NmjwjWqgy5ZslQ/Ezm8l7gYb3fFFSpg2i/I4wUleAhDuKiPN3wOHu/dK67hGCWCb7z1tudwiVLUzp1vlVs63qRKBwPhMzjq409l9Mef6CmRwXvW9c47VVvNQoW8tQVEySCqE0f7Y0og7Oug55+NS6/Vlpzw/U1EuQ+DJVEuh6prqDI1yriAC1dyEimUoPV65GFp1qxpzBfiqG7Z74mnZGlysp4SO3Ra8tILz0nx4sX1FHe45cPgV4boMW/6931crml/lR6LHb6mIymxDQVV8HCRiEAXCko6cTFt3cYlo8XrGFkWLlosDz/aS4/F39n16skrL78kJUuU0FO8ww8ouLfo2++9r37Q8MoKV51u6egY2rxCidaMmTNVG7xoQw16O+50c0e5pFUrKVo09LmIqrejjXA55suxEf2ohNLxhx96UCpVqqSneIfOhd7/4CP140Qs4lli7CS7fn8TUe7EYElECi7i0K08qlgtXrI04tJBO5SQdL61kzRr2lRd3Hqxb/9+6dtvgCxf4b130WjCQHYMlhZcOOL9GTtunF91tVDQw+Y9d3eTy9q2jeg9YbAMLSOCpQWfuSVLk+WrcePlz9lzov4MIsSgmvP1112bIdsXCNu3fsMGmTNnnixcvFi1BUYJtwUldQgpdevWVe2PGzaoL0lJSVEHLPSQO336DHU7k3Xr1vlKznE+16pZS7X9u6xtGxVaMyIIIfj/9fcCVS0+0u8jlMZfdOEF8tCD98c16LrJbt/fRJQ7MVgSURC0pVq7Zq3qGRElhuiEYoNxAWkPM7iIrVypsjSof7Y0Ni7s8G8kJYKRwsUc7lsGRY0L1Jzyy7m13aeMr9aCBcwu9OMNHWz8vWCBalOGjozs7w0uCKtXry7nNGwoF13QUl0sZkSpFWUsfAZXrVotCxYulMWLl8jWbdv8eim13me0TUQ7RYQr9JSaHTpKSlT4bK9fv0H16Isgjc+d/T1Bb694T5o1PV9aXXSRlC9fLkvaFWeH728iyp0YLImIiIiIiMgTVp4nIiIiIiIiTxgsiYiIiIiIyBMGSyIiIiIiIvKEwZKIiIiIiIg8YbAkIiIiIiIiTxgsiYiIiIiIyBMGSyIiIiIiIvKEwZKIiIiIiIg8YbAkIiIiIiIiTxgsiYiIiIiIyBMGSyIiIiIiIvKEwZKIiIiIiIg8YbAkIiIiIiIiTxgsiYiIiIiIyBMGSyIiIiIiIvKEwZKIiIiIiIg8YbAkIiIiIiIiTxgsiYiIiIiIyBMGSyIiIiIiIvKEwZKIiIiIiIg8YbAkIiIiIiIiTxgsiYiIiIiIyBMGSyIiIiIiIvKEwZKIiIiIiIg8YbAkIiIiIiIiTxgsiYiIiIiIyBMGSyIiIiIiIvKEwZKIiHK0ml376CEiIiLKKgyWRERERERE5AmDJREREREREXnCYElERERERESeMFgSERERERGRJwyWRESUiZJlUNc+MmilHqXMs2uqdOv6sny9S4/HaOHHfaTmx8l6jIiIyMRgSUREmWflfBktZeXsMno8S5jhFr3JBj0GTZWdei6RHfL1oD7SbdoOPW6zcpSa3/E5IiKiXIjBkoiIMs3OrQhi5aRGlgZLU9f+r0rK6IDHwDZG7A0DoXLwMvX6Ua3L6Yne7Jz2MkNqKCht9Qv9RESU3TBYEhFRptmUakSD1k2lsR7PcRBwdKgcWFdP82yHzJzFyBTKzqXzZaYeJiKi7InBkogol1Nt5hxKg9T0rqNkoR4HlKzZq44GtZVEaZ5aVnp10/SSuB2yLlWkVbVyvqqk6pFTSqIQKvv8JHJX3+hCpWrbmH7M/PZZPfeK9E0RmfnxK/p5eztIHEdzPP3Y255Xx9Gh3aRep3NbVrOKb/r2xKndZeBy7O+xfvhtj9u2G9LPSXNbW3xsHK2Un6SFXg5Ld4mIsh8GSyKiXK5KNYfKn0YweX0aqot285Uu4mK/xccir7xqVhsd31pk9Dj/UKiqulbbIO92HS2iq5r6qovuSpYfjQAls4xAMbeprn7aVboagaFvtg8KRsDToTKq6q86jNbwq3Zr7LMRrtVRL9NGRmHcGGxlLNt8vp/cFFBVePnEl6XFrKYyx+X5yO2Uvn1ekeU3p2/P+NaY5v8DQjRwXnScVl/GB2zXwrk7fOcKHnPuKiujB9uCZN328krNnfLj0sD33jhPjHOv1UUNjGNUTm4aaJ5rUvNqvf/xq4JMRETxw2BJRJTLla1oXKSnbJBNehwWTvxJZhoX8g9YJXMrRxnhoawRFNLDQ3Ag1VU6jZB4thEogkr1dm1Q1RlnVmsvKXc1MKdJA7nGCA0zZyVneqnl6MH+pWnuJWEoNRytOh26pmGUgUbtc325xu9YNJCBvv2PxE4ZnWqEykjaf0YAAdb+3jRuf7W0kmXyYww99aaHyvQfICyN7/IPmmVbtzcC9E5Z7iuhLGeEx7Iy8+OJ/qFWdfBUXx5heCQiylEYLImIyJ8qrTRC5INWkNkhX49bJmIEAysomKWXO6Xrzfaws0OWo0TSNp+d2XGPEUKiClUZx6nzHqeSsJkf/yTr7uqqStf6vhNltV1VKrdMOhqh1cstVszSu3hwCMdlykkNPRgNVM11C5WRMsOmPdRa51oObodLRJRLMVgSEeV2ZapLK+OCfp0qSTIu7N/5SWb6hUMdGKeN9pXsdUw1qyX6lUruMpZhBJdX2jsHR+eOe8x2l2JVDc2GUMI3qnUDuenBq6UV2vkF3cMxsM2iPUSaVTlT+tdPLyGNoU1pDZQqZ5pQ+6MZ54Jq94j3z6GNpKLbeaYvB6W+gcwS69Fz9THV1aW7Ns8ePz4QEVHkGCyJiHI7VWKlqyiunCh9UwLCoRUYbe3lnG7LYfbc6XYrEd1uDh33+DFDa44IEmgPaQREhCr/oKXDo3VsAgM31O2mnzPblLYI6BQpe4lgf1DybEx3a5+pOhrqM1+usZ8zui1poMbNcUwnqraX6hyyV8EmIqIcg8GSiCjXKydn18S/ZjXEVnd1c6jKam8b5yzkrURUOA228GOUYgW2QczGjICoOi0aHGswbCADX0WbxhAlffGg27NmGP0+N76rr1nV168U12xrG3QeuZwD6Z34JJuvi1u1XyIiykwMlkREpKwbN0r6pjh0mlKmgVxjBE//MJUsg/yqdBqhwbqViBMEnZpGXLB11GK20fPveTYn8IWpSKq0rhwV1CGQ6hjJr2TXDPYxdWBUt6nqEMev7Sdu4zF4mR7JaOXMKsLTRgftp3+nPOhVd76I+gEjkO7EZ9ZE+THFuYMk1VFUynyZmZFhnIiIPGGwJCLK9YyQU80IAikoZWrvEPJQNVKHKVt7uXV+JUtmlVa3toDouKfVRd1k1KvV5XW9DOvWJcHVLDOHU6+wkbV/1GHKsb1lgDLVjTBt3Z/SfAR3eGNbnponmvtK6hJQ32uNx2Axlo/3S8+S0XQVYdyH0wyXOF9Q7dV+vsyXa0b3k0eM88yJ6sTHOP/82/amK9u6myrV7NvHXB7vY0lElP3kSTPoYSIiohwHQQNt+CgnM2/pgnufZtUPDURE5A1LLImIiChL7Zw2MWe1tSUioiAMlkRERJR1dk2Vvh+7VcMmIqKcgsGSiIiIMh86GUL7yz4/iah7hbp0/ERERDkC21gSEVGOxjaWREREWY/BkoiIiIiIiDxhVVgiIiIiIiLyhMGSiIiIiIiIPGGwJCIiIiIiIk8YLImIiIiIiMgTBksiIiIiIiLyhMGSiIiIiIiIPGGwJCIiIiIiIk8YLImIiIiIiMgTBksiIiIiIiLyhMGSiIiIiIiIPGGwJCIiIiIiIk8YLImIiIiIiMgTBksiIiIiIiLyhMGSiIiIiIiIPGGwJCIiIiIiIk8YLImIiIiIiMgTBksiIiIiIiLyhMGSiIiIiIiIPMmTZtDDmeqv1J16iIiIiIiIiHKi86uVVf9mWbAkIiIiIiKixMCqsEREREREROQJgyURERERERF5wmBJREREREREnjBYEhERERERkScMlkREREREROQJgyURERERERF5wmBJREREREREnjBYEhERERERkScMlkREREREROQJgyURERERERF5wmBJREREREREnjBYEhERERERkScMlkREREREROQJgyURERERERF5wmBJREREREREnjBYEhERERERkScMlkREREREROQJgyURERERERF5wmBJREREREREnjBYEhERERERkScMlkREREREROQJgyURERERERF5wmBJREREREREnuRJM+jhTHRCZr/VT3rNMcdadO0nw9uWN0f8nJDkUc/IPVOPSv4yLeXDYTdLHf2Mn7Xj5I6XZsuaE8Zwi1tlxkPNpIAxuHvKYGk/eocxVE4GDu0v7cti5mxm5xTp2XuiqENRs71MfLatJKknvNpuLOtlGZSC4YJyx4Dn5KF6+dQzoW2XycbrBqrXiXQaMFR61TOHiYiIiIiInGRRiWU+adCkuh4WmfN7suzWw36OJ8vE34+ag7sWypy1ajDI6jkLzVBpuKxJXRUqM98eSZ4yTt76eaUc1FPi5vBmmf3DJ/LW7M16QrSOyqdjZzof4wDH/v5Oh1EiIiIiIqLIZFlV2GK1GkgLPSwpa2X1cT1sl7JQJurAiHA0ecV6PWy3XpL/NsMnSiZb1iquhzPZih+lx+jZ8umczeK0K17snvOF9PpqkXy6co+eEoOUKfLJCt/BdLFZJo5dFfftJyIiIiKixJZ1bSzLNpDLa+phWSVzHErJkuck+4WcNVMXGTEywL4UmblLD5epK/WzqLrr7i07MiyQbU3dooe8OCpjw5RaHvv7Rxm+VY8QERERERFFKAs77ykv9c8rpodFZv4dWM91rSzQbTCrlyhoDuxaKct2moOWYylrzfaJhornNZAz9HBmi0/4c7JHtm7Qg16lTJQP/3YrtWRpJRERERERxSZLe4U9o15dqaiHt/6d7F8auXa+fHsEA8WkU7e2utrsDpm8ZLsasqxZskoPFZQbW9TSw04OyOop78nd9/eWFnf0llb3D5ZhIdosHtwyT758ZbB06m7O36L7AOn72cKgEr+Df78nd/TqKz2m6glGeGuP+fF4dkpE7RrdrP9hsNzxf4N9HenI1FHmcvEYtVRPjEDFUlJfD347dqI4FUraSyvzG/PXNgddnJDdS8bJU08OkMv09lzd61UZNnOte/tStBMdO0J6/F9fvQ99pdOLX8iCnQ5BFx0aYZ7ub8mMw3pdfftKKzWtr/R8/0/HfVDv8cyR0tdvHSNl8oYD+nkiIiIiIsoIWRospVYDaWV1VLprrazZp4cN61esNMND4brS4Lya0qqMmixz/k6xhZf0Uk3JV0uauObKA/LJc8/KnaNXyTIVVkWOH9khY99+TXpO8Q+qmHfB+89I+35fyvClO2SDlXtOHJWZv3wqNxph0R5qju/bK2t2ncyQkr5Du3bImv0n9ZgH9drJQ1aD1q0z5ZOgUkt7aWU56depoRpy9q8kj3pBbhwyW35LPSqH9NQ9u7bI2A/elhtf9D8+cPDvkXLHw69Jrx83yALf/pyUDSvnS49+I2RiQCm0z4kU+eSlwea6tupjfOKkzPl9vHQKCu3YrsFy5wfJMtNvHcky8Kln5amZHtqnEhERERFRSFkbLKWhXH6xHpQtsiDFCjzrZcFUMz5WvLix1JEzjHCpq8MunS8LDpuDsiVZJuugKOc1CFHKdlQ2HCkld/R4RCa++6xMfKaVtNCBds5XU2W1OagVkvz5ThghJq80aXerfDn0WZn87mPy4TWVJL/x7PGUifLW7PQSsKS2jxrP95C+1fSEaq3kE2Mdk/F4vJWnW4c06PKisZxb5UY9jlupqOXi0aWunhiJQtLklva+zpICSy3tpZUV290g7QvvkTXmaJCDs9+XHsZ7c1wKSvsu3eRbtT1PyZc9Gkl945geWjlRhs30LyHMXzivHDfe2qLVmsqwF55S2//tgJbme3Biiwwa9adrSeey1L1Su41+H4Yax1m3yz2eMkUm2mtPb/lFhk01O3GqbhwntV1DH5G3u5wlTYz13npeafUcERERERHFXxYHS5Ha55ylh0QmLllpDuxM75Cn1XlmgKrToqGuNrtB5qw0A+jBDRt8ASj0bUaKSc9nBspDLc+QpCLFJanWDdLzRt2+88haWeNXYpZPGnR7TmZ89Iq8fXszOaNscSlWpLI06HSD3FPYnOO3pfaehgoZzxeTAlbJa75iah3F1MOaGKP8WLYRdPWoFMa4Xnb+KJddtq30aKfDuV+ppa20Ml916XlNqMC6Vr4dvUHNW73dbdLj4upSVE3PK0nn3CD9biylxmZOne9Xmlig3p0y9qOX5bcXb5OW1Uur7a9Y72bp0cb6sWCla5Ctfc0j8lE3/T6UrSUd7mulf0A4KnPW2kqb9++RZWqglNx5SzOpiGNU9gxpcuX98rax3gZF1JNERERERJQBsjxYFqjbUC7Tw8fnJKvSw91L5psd8uQ7Sy6xeo61VZv9ds5COSYnJHmB1atNdbn8nFC3GTECmQ6FlmJGSDPtldVWr7I++aSAL81ZjMBoNQjdssdT28msUufGG+RG6xjqUkt7aWX9G6+XS0qaw452rpQ5uoR4wy+jpP0Dz8rltsedX+01n0zZEFQdVhyCcFJF6z3bIVtdqsMmlbHeJw3BXQ8u2LpDDxlKlNbtSPfKy8NHyuS1e4xzhIiIiIiIMkOWB0spUlNaWuHxyEpJ3nJAkv/WgeG8xlLfF/Bs1Wb/TpY1YoScv/V4zQbxL5E6vFkWTPlEnnryGd2Bz8syyOGWKDlKkWbSSZcqytZ5KnzN/NkqrTxLHmoXpk/dXTtkgR4MyQjtQblcDsj6JVPkrVfQIZHZuU770bZg6FWldtKrTTGzunJqsgx87gW5RHX0M0NWW1WniYiIiIgoQ2R9sJTy0uLicnr4oCz4e6pM1h2eBlZv9VWbPZEsM35OkQW6Nmft82p6asvo74RsnfKqXPbAa9Jj9CL5LfVgegc+CeCMdjdIJ1V6e1Q+HPWWfKlrH7focoM0CU6DAfL6AmOLrk/JnE+HOj/eu03q6PmULVOkb/dn5dYhE+XTpXHqkChIIWnQ7SmZ+MKt0rNhMbOKruroZ4Lc+fCr7h0EERERERGRZ9kgWIok1avr63hn5rd/ykw1FFy9tUDDxr6ObH77dp5ul1dQLq8Xx7tXrh0vPUdvUb2dFq3WQAb2uE934GProCcny99Q7ulaXZfs7TXbJRZuKj3alsdQaBUrSxM9uMFeDTWktfLJSxNlJsJ5vnLSqeut8qHuwOeTW3Tpadzkk2LVm8mtfZ+T3z41lt+1pnEWGU5skZd/1AmaiIiIiIjiLlsES6nUQC7XbSCPn9C3lXCq3pq/rrTQd8LYesTsAVQKN5SQt6+M0uo5S8VsudlAXnmxu7RvWVd34FMsROdAOUuxlu3lnhJ6xHBZ1/b+JYxuStaVVrqd6dapM2R2UBXTE3Ls8L96WMP9SPebg5169pdebZtJA92BTzGPfRuFVlzqtO0od1q9yBrbRkREREREGSN7BEupJU2se2FoLS5u4FC9tbgxXyU9bMrfokFkoShCxXydxayVybM3y8HDB2T3hoXyzbC35eVU/VQoqQtlxtrNsnrmdzI73tUv//5TZm/ZLAt+mOKx3WAt6fRQI6ltBLuiddvLQy1DdXxkV1nadzrLrA57YpX0e2qkTN6wRx+jefLlKy/I5Q886X9v0BLFdG++InN+nydbjXkP7lwvC35+S/panf3Ew84p0rN7b7lj2Heqne7Bw3tkvfEefKLbxbaoZlW3JiIiIiKieMsmwdJsP5nexK+YtKrnXDWzWL3GvvsxQvtzormfY3gVz2moexc9Kt++/Zrq7bT9U5/KKynlpFMLfYuSIOWNwKurdZ7YIq8895rc+cFM6fXWj8G9o0atrlxi7fD+VdKr32vS46uJ0u9z9IwbO9wC5NORQ+W3J9v6gl8kCpx3p3zYrpRZlXZXsgx8CmESx+hLGb4U97dMb4eplG0sl+kVbJjzpdyIHmR7vy49Pt8sdS4+K8S9R6Ozdcl81eZ2zYKZck8/9FL7gtz6wSpV+py/TFO55+IIqvoSEREREVFMsk2wRPvJ9npYyjSWJv4Fk+nKplfHRDvMFnXjXJ+y0g0yfEArIwzlNcfzFZRWF18vn7z8kDx0TQOzzZ6Dilc+JG+3Kyel9eaUrlhdena4IKrQ5iyfNOn6iAw0Qq11z8jqdRtIj3Y1s6hqbiGpc/tAmfjC9dKpbjHf/uYvXExatWglbw99UV7xa69ZWTo8c5/0tTrU0ds/6IX+MrBbO2lvq5LrRcW2/YO2qWiJcnLZNXfIt8NukwZ+aZeIiIiIiOIpT5pBDxMRERERERFFLduUWBIREREREVHOxGBJREREREREnjBYEhERERERkScMlkREREREROQJgyURERERERF5wl5hiYiIiCgh/XvsuDz5xsfy5+IVeoq/XrffIJ3atVLDe/YflAdffEs2bN2hxqFE0SLy5hMPSu1q/vfBW5O6Rf7vf+/I/kOH9RTTjW0ukH7dOuoxkbG/zJSR300OWob1+uce7CItbPdkx/zDPvtOj6Ub/vh9fvNZ5ixZKT2HvO+3H2DtS5N6tfy2B14eNV62794rLz58lxQq4H8/NqdjcMG59RznDRTtvlqcjqXT/mK7v536Z9C+YvqCFWvlnScfktIlzHvOW8usX7NaRNtO8cESSyIiIiJKSAgUQ/vcK3M+HSo/vfmcVK9YTgWlaR8OVtPsAcViPY/5SxYrogIKgooThBwsx3oEhjhAYHrnq4kq5EYCYfbTF/uo5WE7sD0Ijwhu0UIQQ/iMBOa7+v+eUcPYd6wf+4dQ/vqY79X0cKLdV+zTHU++qgIg9jXU/nZoe4E6Nuu3pIdeBGGESgTh1Rs266kiu/cdUNvSvOFZDJWZiMGSiIiIiCgASr8QrBBQEF68iCac2VnBGCWhKA10C7ihPPPO52Ffh4CGklKEutGDevtK/hC83QKzm0j3FduEfcK+YR+xr6H2t0r5MiqA4r3A9gLCpFW6OuPvZPUvYBghFCW2lHkYLImIiIiIMhhKD2MpdQSU1sE3U/5U/0YDwfipNz/xhTEnVkC75YqL41LCF8m+WmHd2jc7p/3FdqEE0l46iQCJMHx5y8a+wInSUlT1RQhFGKXMw2BJRERERBQAAeWrX3/3XPKF6rdoM4jloFQw0qqpdkkliqlquQhMkVYzBZS4ovQPYeyFD750fS2ex/YllSyup8Qmmn1FlVbsE/YtkNv+YvmA7bUCZPmkUtL+oqa+wLlp+y5ZlpLKarBZgMGSiIiIiEhDVc7W9/RXDwQUp857LAhPLe7orR69X/3ANbjVqV5Zut9wuRrGa9AGMLPc26GdCmTYr++nz9FT/dnbLVoQCq19Qwc5kcrIfcWysS9zl65S1WTx/lxyXgPfdIRLlFyilNYKoZR5GCyJiIiIiDRUrUTnNfjXrUTNYu+8x2on6AbtFa3SQ3ROg/ATqd37D8q+g4dV6Vy0pXBoL/nC/93pK0VENdVACGfYHnsIRK+sVmc60YpkX8+oVE7tE/YtkNv+Yl9Qerx5x26Z+fdS9f4gVFrTETiTUzaoUInplLkYLImIiIiIbAoVLKDaGyIYffDNL3qqd490vi6moGa1NXRqjxgJlLjidh9urBI/VP2NpqptKOH21ape7NRuNNT+IgTjffls4jS1DKujIUxHqezk2Qv9plPmYbAkIiIiIgqAEjuUukVzy45wUPr21L23RlxNEyEPVWyxDahe6lYlNxLYH5SwOkEIs24tckPPQb7eWBevWqemxSLcvmJfsE/YN6sacST7i3agKH0FhEmL23TKPAyWREREREQOrPaJqM7pFC7tbSwjbYtohTg3qDaKeztieWjniWCHDnGc7rkZresubeFaiojgad2701o/9hv7j+MQi3D7in3CPTvRVtJq1xpuf63bjmC77NVdrenx6ISIYpMnzaCHiYiIiIiIiKLGEksiIiIiIiLyhMGSiIiIiIiIPGGwJCIiIiIiIk8YLImIiIiIiMgTBksiIiIiIiLyhMGSiIiIiIiIPGGwJCIiIiIiIk8YLImIiIiIiMgTBksiIiIiIiLyhMFSWSQjLmkjI5bpUaIwdk96SC4yzhnzMUx46hBR9hXd3zj1/fb497Jbj2cNc5ut79nHJm3T04mIKLvKBsFym/z0ePofD/sj04Le7lRJ1YOU/dkvesyAl8nBbtkwuX6wyIBvpsqsGXj0kvr6KSKinG7b2hUi81KMv85ZBdcFvWVcx6H6O3aqvHZVBf0cERFlV3nSDHo4i+BXyd4ib0+VRz1fnWNZ0+Sy7Hihb4SRi6a2llkPN9ITKFYIk9dPbScThlwnSTiuo2uaw/r5jD4Plr3RRu5P7RmwTiKirIXvxpdkoEMIi+ff2Uyw+3t5rMNwqZZTtpfI8O7P8/QQxeKBK5vpIcrJsj5YIhj0WCsDvnlLrvZ4la4Cx9p7s2F4w6+vnWVNV/6RjAt7SHcKluqcEnkvI4OlDOWPBESUjZh/Z6a0GZMgwfIXaRuH6wIiIso8WR4s/Uqf9LRATiVEatp4kZvxh1IQJH7Qz2jNbPOrP1Ip0n3GbbLB+MP7En5UQhUbHQxcg4L+1XSuHhWpFxSA1fYPXmGOqHVWk88u+UBq6/ms7bRr3t//D7/fMgxqn8L88cdyR9YyllPtC799N19rXmCo/VSCt9sSuH2B22YJ3o9rHYIbLl7Mfa8+xn9+530yL3bG6TGT03ID2IMl3qMx1eQ1+3sZcLzt77UpeL2RHHMzsAacZ/bt9Z1nvUR82xGwP0HnlPv+RvreuAk8r/w+Eza+c6nZPN+2hVtXRK8JPF5O63f6bII1b+Aygt5LS/j31DwetRyOt/68VAtYdiTb7yLo2BucjmnU71Emfd4j/oy4vX8htsHLcYWMPK8j/07yeHyiPb/DfW8EPQ/298DcXgTLy6aG/25Wxzjw73K077XjNpkcj5USeC6b7O9bRO9r0LqdtzFenysiItIQLLNS8uut0y58faEec7FrQlrvVj3SJu7S48lD0y60j4Oap3Xa8GQ9bof5+wxNG96ndVrvn7bqiZataROdpqt1+G/bruSFafZVqm23bceun3qk9e7Tw5g2NM2+GZgeOM0SuAw13meC33qcmK/z3z5rWb399sfcP6dlBq7bOobBx2ihcezsr3dbpjEftilgGeb+B7xfel7/dRnLfT38vocT6nhb++j3vqr5nfbbmTpuTuesWrZxnoV83v858z0I3tbI3xtnQa/3vTfO6+r9+lBj+YHvkbuwr9Gfn/TtdTlnrGPisK8XGp8lHE/f9uplBn3GHY6r43uq53N+fcB+RLr9DhzPP2N5geuN9j3C9gSfOxnweY/0eII1r/Gw75+5ruD98HJcIdpjFt15HeF3UkzHJ/i4ezm/nY+v0/ZbrOPk/7y53cHHR013/axG8F7ree3rUvNF+D6br3d+38K+r0HnmLWNwcfWmu7lc0VEROmyOFjqL2t8sdsfbhdF+PLXf7CC/viqPyYOFzIGtz8qiuPyQv2B1tT6Av+w6f2x/ZEC37YHcliG4x90B+Y+OV9YBK3L6Y+0y3E0LzScj6Mfx+Ptsn6n4xniwsGrUPugjpvD8Y14vw2u76c+po7PGZzX7XZsPLw3Lq93O6/Ncym69yL0a5w/B47bpacFbpO5r8HLdzr2zsfV+Xg5vV7N5/f6KLbfgdM6gsT0HkX4eVPLjv3zHs3xdHv/nNfn7bi6zxen81otP/z88Tg+5rxezm+nfXY+DiaXc8XlNcGfCYPLvji9L6GORdj3GUK8F6HfV5dzzOB0HM1lefhcERGRn6ztFXb3PJkyD9VLrN419cOhWlP9zj2l+fjeclGH4SL9xwRX3UldK9KspgRXctomG9Dla7OecrtT1ZttKTJXrpXLbM/tnvSBjDOmdXetMrVNfhr9g0jHex2rxTSvZX+duX7/aRC8DFTLQRWvm7tGWC2sY2vHKpTB6wq2e94vQfsNSdVqGf9fKxs89DN/c5vAqlwVpHZgm+yk66R7xxXyUofM7EZ+kfw23jg+bZoFHd+kZu2kucf9tgTvP7it2zw2c9emHwOv743b60UayWUd/dflg/2P6KSzcXuN+lw7HIekalLN+Cc1NXD99aRtM6dztpZUD7tN0b2n9dtcKzL+A/nJN22RfGZ85vxeH/X2+/N9V4XorTim9yhTPu+xfEYc3j99rPx4PK4Zfl5H9J0Up+OjeDm/g783IhHRd3NIEb7XGS3a7x6D+uw79XTr4XNFRET+sjZYqlAXyR9Xg/XHq+NQxzYyqnv0atWC/tgjwK3BHxqXsOYUSNWyXP7YmPQyA/946T9q1ar5LU3N6z8NzOmiLkDN26uodqRGsHZue5IRfpD7bbd3UQ97ex8btLmJZL5o1H94qsz6pqfI4M56uZlz25Dg98KyQtZEd53moJ7Udlu8Ya5vX61HcHsiU+TvjSPHH1m01NTg+9M5fnbCCPOacT0Ctj+o7Vr8RPye1m8tNxvTpszTE5dNM7bJ+cI/5u03Asprxuf4vY7p76FjUIn2PfIs8nMqIz8jns6LDD6vI/1OytjvkGCRf29kD2bI/kFG2s77ZWPQ5tHph4EYhHxfQ30Hh/9hjoiIYpelwdK9lDEQGtEbFx/N6klzv9IGi/5V1+kXRn3h6PyHZpvMnRoYSN1KGG1c7ntp/qIesC639atlBJTWRtGBRVygAwlr3X4PewcFOPZtzI4c7PO8fa1+3iN9ET5rxhgZ0AwXvg85vL/x5V4yEjoUxgM6hfA/1voR2GFHRO9NCKHuQRdLiIyaQ00E/QjdeUpsIn9PG8nt/esZn/t5KoQsm+pfayCd9+1XIQWvMT4rKhi8sUg/o2X2exTFOZVxnxGPxzUzjlkE30mZ/R0S8fdGdoFjaJ33OgzfP969o7L4ChXuI/whm4iIYpKlwdK9lNHfsjc6y0uCXvQGSttmttIGiw5pTqUOZnh1qw7lUvJoiLaKkVWlLnBdodefMb9uR0L9oowgHC7EqVJY42Kwv3/oVfsVVxXk6iFDVWlSxh0TXWVOhwo780eBjLzoMNc9bmpAuHAQ8Xvjwiot+C2oqCXEDzDxlNTM+XOaIaJ/T9OPr3k8gqtmxnn76/eSCUaYtZeoZfZ7FPk5lYGfEY/HNfPPa6fvpMz+Don8eyN7MZt6oLfW9CCcCaFSnWPOx0v9iBTRD9lERBSrLAyWLhd1AVAFU/3SqUrzjD/0XfEr6BcO1ZOcA0nI8KoDqf8vzBWkeRvjInB8bxlhW8mySd+nX0joarm+P17o2vySaVIbF49O63L6ld36A9jDXtVqkYx43LaejGRrT2TfT+dtMOYbY/tDvWyYXD/VuJDTozHBMQsowTHbtnr/xd9sN+Z0AWpc46P927zhcr1t3dbtC5r3vy1DL3x8be8Cji/W7/ceRPXeOFCvx7llL2mxbo8Qqu1wvFif0+BSumVvxL9EOur31Ao4g8221MFV87xtf/A8+kcn+3dDZr9HUZxTGfcZ8XheZPQxi/A7KbO/QyL+3jCOr2p36RB6M59bE5CMZp5j+Pttr35u3WYn4v4LiIgoJlkXLHV10uD2NulBy+zMRmTAN7ZfOuvfpqon2dtupF9wmMtI/2MbplqrSxvPpKveUiUM9m273whS6RrJo9/oP/Z4Xt+7sLoRYgPXlXTVvXKzEXLMtk32EGn8ARxiVbWy1tNbUh06hcgoqKoXuJ9B22AcW1RpsrcFVfeQHHKvtw4bEM7tyzQe5nsdh/uE1e8l79nOB7+LWOzPjKFys23dqsOktzOmiqYfa924KNXrNtdfKyjcRPTehGC+XlSQsF47TlWFzIyqaAbjPUBbNd9nRD/uT20XeWcqkYr6PdUBZ16IIOBh+yvUsh93PIxj73B/wsx+jyI+pzLyM+LxvMjQYxbpd1Jmf4dE/L1hnNf9jWPrmy+CsJ5hzCrn/uea+fAPwxlAn2Pp7WQRKs0q2JnXfwERUe6UB13D6mEiIiIiT8wSwuA2leZ0hLw4/IBIRETZTtb2CktERESJY/f3MlKFx+BSZFWt16XZChER5XwMlkRERBRHAe3ylUUyosNwmdvM5Z7SRESU47EqLBEREcUPOkJCiNSjFvQSm+Ft2YmIKMswWBIREREREZEnrApLREREREREnjBYEhERERERkScMlkRERES5wO7f58jPZzRRj4MrVuupRETxwWBJRERElMjS0mTH5Oky95Z75N8Nm/TE3AuhGuF614w/9RQiigcGSyIiIqJEZYTKTWO/k3md7pVj23boiURE8cdgSURERJSgNn7xjfx150NquNZjD0qhqpXUMHmzrP8g2TByjB4jImCwJCIiIkpQSS3Pl9LGo9nYD+SM7p2NKz9e+nn135EjcmTjZj1GRBZ+uxARERElqMJnVpdWM76XcpdfKpInj54aHyixm9/lAfk3dZNMb3GlfJunnHpgGsLX8V27/aZjGNMCBc5nX4adtT7Mj3+teUN1RmS1p/Rb7mH/5Voi2Q60y/y+yBmyacw3suDunr75AttrYlvty0EJJ1GiY7AkIiIiopggYP1cvYk0ePlpuTFth1y2fJbs/mOeLLi3t/x5TRc58747fdOPbtshix99Migwbv3+FylS8wy57vB6v2WsfP41PUc6rG9i2XpSrm0rNS9ek3RhM/njqluDwiXC3m9nX6Set5aN1y16qJ+ew18k21Hmkguk/c4VUqp5E2ny0XA1Hx6YbkGIXPH8q+r11nI2fvmtY1gmSiQMlgls96SH5KLHv5fg3wYp0+z+Xh67pI2MWKbHtWVvtJGL3likx2z0/Bfph/116v30PTdM1FNq/ofkpwx+k123l4iIcr2Lp3/nC1bF6tWRek/3UQEQobI6qt/q6ed//KYKakcCeqbFPE0/f1dOL1xYjVvL2Dn9D8cSTgQ6a7l4zbkjXpSCFcrJntl/qWmAAPfP+59Ilc4dpMkHQ33LxuvKtr7IsXfcaLfDCcItQiT2Fa8Ha99xTPbO599SSlwMlkSZbptsSDX+SU0NCP2LZESH4SL9x8isGVPV49H6+qllw+T6wSIDvjGnz5rRS9RT21JkrqyQNdvUXAlgm/z0eBt5bBJ2yBxmoCUiyr4KVa8iBcqV0WMmlPphOtp22mG+guXL6rHQsAwnTss9vXChoPn/O/KvHE5Zr0ooraBoKX9VWz0Untt2uEG4RcgtXv8sPcWEcZRyYpuIEhWDpWdGGLBKjyjToPTODB85UQW5eogRDodcJ0l6irJsmoyTetK2WQU9Id2yqT+INGsnzf1eYKjfyz+AZqqMPvcrSPVqIs1rBR8PIiLKHhCiCpQN/OMUPVQftbdJ/P3SG/Qz/iJd37Gdu1XVW6dgiICLgOok0u1wc2h1iuydu0BV17UvB+OYTpTIGCy9UmGAMtc2mTt1hR5ONLWkutvfy2rV/INoVsuQc98Mk9WqMUwSEeUGVuc6qG6KtotWm0VUr81M8dwOVL+12mkGPqwqvESJKMuDpWq7ZWtT5ms75gclI2Y7ssD5A9uuhaar1oV5PdahSsOWDfObN7BKntqWHj8YQz/I/aHmsS8jTvsXvFz9iKhNpbfjYM4buAz3dn6B2+pU0qjaD+LYBbQxDNof9XxneWmeyNzBnfV8EbYxDFy2y+t826LeFz1vRNUxbfOrh/FeJ1UTIycFUcfEt0z9uoBzSR1nfezvH28Mj++dvly8DEK0sQw+RwJf5/S+m9sSrjRYLdvx3A9RfdV1ne4q1KrHkElElMBSPx6rSiEv+PFzyV8m/edTr1VGUaqJ5Ua6nHhtR9E6NdVrUBWXKNdJy1IL04b3mZC2S4+lpW1Nm9inddqFftPAmK+VMd149P5pq56Wlrbrpx7GtB5pE/1ndqGX3WpoWrKekpY8VC1zuG+CKfl1c11+27FrQlrvgPWDuQ22ZfrJmP0zt8+2Tr1tgfuhXh+0rhiOw+sL9RRrWo+03sYy0rfVbb/S5/ftQ8jjiHntx1IfF9v6Teb0wGWEpPfR/hpr/xyP2+tD1ToCn3Ont9XhnHE9toH7pbbR+VxynB/UOgLPEes9tk/fmpacbDteLueM27F1Wr/rue+yH67zExFRhlr18utp05pdkfZbw1Zp3+arqB4YxrRNX03Qc0Vv/Uefp01r3i7t2E7/v/47p/+RNql647QDy1fpKSaMY5326cn9nk+b1/n+tJOHD+spaWoY0wKX7bY+a348b7GmBS4bMN83UlZtpyWa7cAwptnXZ8G+Yd+dniNKdFlcYtlIHvVrZ1ZBru56rci8FHEsL+k4VF67Kr30Iumqe+VmWSFT5oUuXVGWfSEvzasnA77RnZ5A/V7yXkeRcaOdSvmulffs25Z0nXQ35p07dV4UvaxmxP4tkt/GizTvf1v6fuhtc96PALEch4cb6WFj1oeHqm2aW82+rcZ+9e8pzef9InPtC9j9vYw0tvXmt9+Sq62DYGzrgP71ZO7gLxxKbgO2yzh+txvzyvhpDvNGY5v8NPqHoONb/+Gp7vs93pj/7cjbLu6e9IFqHzmgv/8589rbxvud2Xzvse24G+9R/fqZVPJXv7VxjvwgI/1KPc3qy37nLRERZYoTe/bJ3nkL5cDSFZJ24qR6YBjTTh48pOfKGuhIB72lbvrSrHKK3lxxqxJssxfosAe90mLZ9tuF4P6SuP9koGi2w+osCL3OBvYWix5gq956o1qH/d6V1r03I+1dlignylFtLG9ukx5wTBWkdjM9GIZb5yeoaucY9Dq2DroAVvNmIC/7F6l4HAeIpEOV3QiaRjC9LGABSdVqGf9fKxsCv1sdtsuc16Pd84xw7nR8jQzUxi3oB293KNvWrnDuXKdCTWmuBzOLa0c/mcb8QcDvRxgddp06JiIiooxVf/BAx/Z+eGR1mz/cpgS3D0EQQyc33xc5Q/Xk2nDo85I/qZSeKzZYtnUPSasTnR1TZsqVGxaoHlrtotkO6xYnYHXSg3tmWnC80TZz9ctv+NaL+QChlChRZXmw9L83n/FQ7bYyyLzhcr19Xcbj+sEZ2wlM/PevkVyGklN7iZ8uGWzepllknbtk6nGwtcGzHhn5HruqJ7VdM41TyK1pxPooZafOdbJ4W5IQbG0l2FkfdomIKN4QSi+d87Nfm0RASLty/QLffRwtGL907i9B07GcwLCLeS6Y+IXfst3Wh6CH+086hWQsB9tiLRvzFapWRS3HuvemJdLtAIxjGda8gcvCuH1ZeNjvkUmUiLIwWJqdfFw/tZ1M0PfsU4+MrDrYcWj6evwe9uqX8ZJx+1f/4TEyoJktsOl7H9qreYaUmcehWU///fc97NU0M0Ooez2G6Ik1GkH3pcxCWb0tSc2kbbMV8tIYsxMkVN++uWvA7VWIiIiIKGFkXbBU1RMD2qQZdqeu1UPxpao8em6rF4WM3D9VrfBaec8W1CINlZl5HAJLrbKMCjki46YG91RqlqTFUDoZwLUq8bYUmasHM4u5LTEe992pkqoHvdHtiXGuqduSRFe1mIiIiIhyliyuCmuVaGjLhsn1UyVj2qTVv02X8gXcmgG3QIjoVhLOzDaAP8hvjkktY/ZPhdNYw1AGHQdHqlMh4xh0CLzFxCIZEdFtUdyYbU8j70jJCjm9/W6jgVtm4DYe8ShJMztaMo6rfb9wTLOg2m/SVQON9xjH3XZ7EZSgv2HbNits9wi4BUmH4REH4dDnvkF14rNWRqqOkxza6mJ9KHGP93lHRERERJku64Kl1WOm7958xmNqa5k15F7H+/55Z4SLIegF1Aw6vnUaF9LVHDp1iZjVo2oPvTzrIjkD90+FGId2kpHdwzKDjoML9Lw6oX+99OOjHr0lNdL2oI6sXmitYxDBfSyN92nWNz1FfPe+RKhEz6mR9/waWiN5dMZQ//elQ4p0n4Fqy3qWTIP3OKC6NO796VcUiXnQw6+9SvUv0tY4HjifI+J27vugEx+RuSi57xz/c4uIiIiIso88uOeIHqacQJcqBbWptEqb0H7SdnsQoqyEzqtUO2O/2+4QERERUaLJ8l5hKTrLxpjhMahNpap2avybnTqQoVxukXw2eEXkvRUTERERUY7FYJkTjf8gqOonSobi1V6QKB6WvdFbddrTPdLeiomIiIgox2JV2BzI6nTGH3qJzYjbphBFA7fZ6SwvzcMwz0kiIiKi3ILBkoiIiIiIiDxhVVgiIiIiIiLyhMGSiIiIiIiIPGGwJCIiIqIMtX7DBunT7wnZt3+/nuLux4mT5LlBL8rRo0f1lJxl4aLFct8DD/ntq9M0ig+cL++8974ey3xZvf7shMGSiIiIiKKGC+qLLmkT9HC6yN67d5/888962bdvn55CFB8bN22UHTt2ZtkPEVm9/uyEwZKIiIiIYnL5ZW3lt19+klkzpqrHj99/KwsXLg4qcWzc6Fz5+qsv5Izq1fUUyk5QoppTS90evP8+eWbgk1KwYEE9JWPg+OA4Bcqs9ecEDJZEREREFBclS5SQBx+4TzZv3iJHjx3TUym7w/tF7vAjCUolKTQGSyIiIiLKUG5tDDGO6aGq0VoCq94Glh7h4h8lpVbpmzXfTbfcptp4hmO1A92+fbtaDl4buD1YtrVcp+ejYW2vfXmBJb1uItkOt2Nub8NqHf/BrwyRz8d8qZYV6ni5LdNaDp4HLPuTTz/320an1wHWhXVa8zmtH/tnX5Z9fzFsHweMYz/DnTMQuH488DoLXnNZu6tl8m9T5OFHe6nn7e+T0/ohcLlO7y3mwTm3YUOqOj6h5nVjHftYXhtvDJZEREREFBe4yH3n3fflumuvUaWXoWDevv0GSOPG5/qq0latUlWFnEC40B/18Sfy2Sej1Hz494WXBjsGBVz8YznWMrvddae89L9XHEONk3ff/1DOa9JEvRbVHC3YBqzT2gZUAUYpVqwX8tifcuXK+rYTDxy3cFUq47kdeI/ef/ct6dL5VvXA8kJVWT7zzDPUv2gva2eNW89jH6pUqeyrJo1/K1euJF98OVY9b8H7d/ud3dR7ZB2Djz54VyqUL6+ex/5gv1C9GtWsrWXddmsn9XwoOI/Q/tFa7hsjhqnjFhha4cXnn/WbD++NNR+qcWPdZ9erp57DPOGqvlr79dSA/r7l4r1+pOdjQechjl3vx/vJgCf6qvmwf4BtCMfpM4T1vDzktSwJlwyWRERERBQTlOKgNMcqLbnmuhsFVWGvaX+VnsPdrFl/qrCBUGG5rG1r1W7TDhfP3//wo5rPCjz4F/NieuAFNF6P5ywXXXSB+jcwDDnBPAiVgdtvbQOCgrUNCBZ33Xm7LFmaLCtWrlLTIoVtRhhEALZDiAkl3tsRLQRRhBj7cce/GMd0+48JbVpf6gtf+Beh2d7JjfU6BFr78cYyrNdhf7BfCF3WsvGcfT1uEATtAbRe3bPknIYNJDl5uZ5iwnGsazxnseZDh1OxsParf9/H/d5Pa1tw3geyn9vWsUKYDgyhgaxl2ffzqivbZcq54ITBkoiIiIhiEth5D4ZxUe1W7dEOpUkoXbFCBGAY0+zQk2xaWpo0aHC2nmJq0by5Y1tOBEP7MqNRulSpoPWAtQ2lSpXUU0woWUMIibaNIrYP24lSNadqlG7ivR2xQHDZtGmzbNu+XY3jX4xjejj29wv/Yhzvoxs8j/2ySjCjERh0oxXrsbT2Cz+a2GFbsE047+3czrlIYFmB+5mZ50IgBksiIiIiigsEpkcf+T81HKqEEKU6TiV2EDgNJUcrVq5UVQutklE8UOU1s2Ab8uTJIyVL+gc6L1BKZ/Wii/2JJIxnxHZEC8EF1Vytkj/8i/HA8IfqoKHeL7eQbOf040O84VxEdVtrO632lLGKZL/iwfoMWW1j47X9XjBYEhEREVHchSoxsUomA0tvnOACvV7dur42hfYH2gd6KZWKFLYBYQGhIZ6w7dgH7AtKntBeLlS4zKjtiIZV2vr3ggVqW/FvYCmx6tDm3fd97SLxQPtEO4RjhORQVU7xI4O9+my8oR1llzu7qe23thOl7oHVsaMRyX7Fg/UZstrGBj4iqY4ebwyWRERERBQ3CD279+wJqgoYyCk0YBhBxS6zLtRDsbYhsH0eqoGiPVu4fY0E2skVL1E8ZGj0uh1OxzcWqLqJ6q8LFixU/9qrciJsohQ2sAOnwB8aChYooLZ3zty5ekowPI/9sqrdxhuOY1Lp0r52uGBVZY2V235Zx8WplD5WGR28o8VgSURERERxgYtn9MCKNl7oBCUUhBGEht+mTNNTRA0HVuNDOEFIQVVKey+wuJieOm26HstY1jbYewvF+j/+5LOI9jWQ07ajI5YD+w+o8Ogmmu1A6SYCvr2zGKfjCwgokXQWY7Gqw078aVJQNVgrWNlLo/G+Bfb2ixI37AuqctrfV9x6w9oOqyMd7J8VnvDvyjh1TIPtxDGywjyWPeL1N2X5ihVq3BJJCLa47ZfVI649xHqFZSEEB/YCi+NjPz9Q1dde1RolyrgVijUPehq2j8eKwZKIiIiIYuLUKywuwPs9/phf1Ugn6AXztSGDVUiyXo8wElhlElCtD9Ot+wjigfUeOfKvniPjYRvQG6vV1hPrR1XEcLeecPP7rD98+4IHjoO991M3kW4Hji/mQ6Cz1uF2fNGLLt43vH+RBAysB9VH586br0KUfb0YRjtbq+0oHghkqMqMElk79Joa+L6++L+X9bPmsnAugXWe4d+1KevUNK+wfvTIah1LVItFD7uoXmqH7cB0BHPMF+7WLliudUsca79Qsvj68NfCvr/RwLKwTLCODx5Dh7/u+4EC247zIxBKakP9iBGLPGmoqE1EREREREQUI5ZYEhERERERkScMlkREREREROQJgyURERERERF5wmBJREREREREnjBYEhERERERkScMlkREREREROQJgyURERERERF5wmBJREREREREnjBYEhERERERkScMlkREREREROQJgyURERERERF5wmBJREREREREnjBYEhERESWww+vWy8L7esuPpWvLt3nKybTzL5Ptk6aInDql5yAi8i4XBstFMuKSNjJimR7NEOY6LtKPxyZtU1OXvWGMv7FIDUdr96SH5KLHv5fdepziITPOhYzgdbtz6n5TRlLfMfo766JLhklinB4814Ps/l4eu+Qh+Yl/THKNA8tWyp9X3SrrP/hM8pUsIcUb1pP9S5bL7OvvkA0fjxVJS9NzJqYNI8fI9BZXyvFd0Z30mB+vw+uJKDLZJliGDE4R/iH0vzDyf/guLHanSqrxT2qqGfbib5v89HhvGddxqMyaMVU9Xruqgpq+wVwxw2F2oc+FHEdtdz2pjdOKKB6WDZPrB4sM+Mb8zpo1o5fU108RUc516tgxWTv0HTm0ep3Uf3mgXLF6jrRdPF1aTvhUTi9YQNa9PVKObt2u5yYnh1an6CEiCiebBMttMnfqCmneppkk6Sl2u+f9InObtZPmTk8GatZTJuhAZ388al0lJV0nrxnjZtjLALvnyZR5Ije3aaQnWCrI1UOMbRlyneM+xhtCtlVSmvhQKhFDCYs+F3znRkYwLthjLaV2tS1F5kotqR7mRMpd5wB5sWzqD8Z3Z4TfsdkQz3UiZ0e3bJM9s/+SkuefK9Vuv1ny5M0rkiePlGraSIqdfZYcWrVW/t24Wc9NdvnLJMmlc36W+oMH6ilEFE72CJYqjNWTts2cwl7o0Jk9ZXVpknnMcovdkz6QcR1bZ8MSlm3y0+gfHH5k8EaFgLD7m7vOAYqDatVy0HesHc91IjeFz6wubRZNk4unfisFK6VfmKSdOiVp//0n/x09JqdOnNRTiYi8yRbBctmY4TK3471ytdNVzbIv5KV510r3uJUwOrW5wTSzqm16ddrgqreqjaSteq3/L+SoAmtM72Dsi6yQlzoEz+PcxlK/zrZc38OppEtVC7bNE1h9WD3f2ThmInMHd9bzRbsvJnUs1DaYx0zNa9+mwG3BI5p2oIGvD9hftY0By7O2W71/KA00hq8fbFxUju8dvH48r8bTtz/8+2EI2q8wxw/LUK9JLzU1nzffh3E9zPkCj3H6uWY+HNuB+W0LtsOsUt28VojPg3pN+HMA/PbDeLi2RQs6JpGXEGMdat/1+2U9nM45JWA+PJy2K/D44RHuGDvNowSu0+k89r3HgZ9Z52MbfMzSH0H7E9X6zWNqzuv/PgS+n3i4vqeg13v/eGPY+gzZlxnBOv2+H/TD/VzGawOOn7WvgcfA6bMZSC0zzud6JO9FEL1PAdtsnX+B61LbYpsX4+q8tJ0zQedpFNsVfB4EvmcBrPUGHvPAdRoP5+MWxd8x2z6ajzDbRp6dlj+/5C1WVI+ZDixdoUori9Y6UwpV9nZ99d+RIzK/ywOqUyDrsWvGn/pZE9opOk0/uGK1/HxGE8d2jMv6D/JbplM7SWu51gOviVTgawNfH6qNpfWc/bVO82H/pjdvp/7FvlvzBh4HooSRluUWpg1v1TpteLIeDZD8euu0C19fqMdC2/VTj7QL+0xI26XHnTmtD9N6pA1/3f31ajuMeSZaT+6akNbbWE7vn7bqCZqabpvPJnhftqZN7GNMs68zeaj/ejS1b8b6Lmw1NC190819CT4+5vSgbdMi3Re1zteHOr8/+jVBxzHC98rcT9s6nfY78Fi6zuN8/oTcfn3sg46R3i77Md2VvNB2Tuj3zPY+4Hj27hN87pjvmf39Shf4HqjxwHMv8BhZ77fL/voLdQ6kL8f+vLm9AccX9DG2HxNz+533LZA5r/EIOs+dty/Z+Bzat8FpuxyPrbFM+3GJZB4laFscPpdgHQfjYV+G47HQ89r3z/E9hqjWb2w/luPwOXNa/q6fhga/nw7Ua50+u2HW6XRumMfd4b31HT/be2lNMz4/WI/vGOpjEv48hzie65G+Fw7UMv3m098x+G7wO3bmNgWeQ72N7yq3vx2Rb5ee7recrWnJybZjo4558HvgdPwi+Sw6bovaXod9cThfHD8/lKGO79ufNvuGO9O+kbJpy556Ke3UiRP6megd27krbVrzdmnzOt+fdvLwYTVt/Uefq2XjX7vkfs+refEawPx4HabbWcucVL1x2oHlq9Q0/LvyxWFq2ILXBc6Dcfu2ALbDvl6wtnHn9D/0FHOafZut7QjcD6f1YDlYXuC+YN5pza5IWzvi/aD1ESWirC+xXDZNxsm1cpljvb5F8tt4p/aKGWGFjEttJxOc2kDu/l5GYjvefiu9VDXpOhnQv57MHfxF7L+2Wu0xu9rWWf82GdBshbw0xunX+noy4Bt7pxqN5HZjG2T8tMi3Idp9Gf+DyNsO7RBVO7/A962RPPpwJO/VIhnR4wdp3n9MelvXCjWluTmUztiu7h31scCv3MZr/LYbHLcDdPW48Wul9jcO26+PfbVq9l9q07drlm0/kuo38r0/uycNUiXo79k6N6n/8FCpNi+4uva2tcb6naqsLhsm94/He5m+LxVqGe+jH4djZL3f8apq3XGoX1vjpKvulZuNz8GUef4lJapGAdou244J9vlm+UFGupU6BjGOmf2zVb+XTHA55+o/7P8eW9u1xrYqx2NrLNP+PkcyD84TVFf2PxYV5Or+PaX5vOHymcMHC++JfRn1OxvzGsfiN9u8ql24sc/2mhZqvqBlRrv+H4zvy6F+56dJl2QHnINJV/Xy/7zExG2dzudG0lVvub630Lz/wKDvHjE+i23t323G+/ReR5FxU52+B2MQ0bke/blgl1StlrEfxvtuFahYTTzaGNPt39Hqb17wZ3iu8V3V1vadkC6K7VI1fPy/WzBv/foBK7Pge7XDcBG/75l0kXwWo/k7Fp/vEvIi7eRJ1ZnP1u8mSZlLWkqNHt3Ndpcx2vr9L+rfc0e8KKcXLqyGq3fvLHX6PSz/vP+JXwlj7T491L9rXn1b/bvpy+/kcMp633SLtcw2f02WYvXqqGH8e9aAnmoYUAK48ctv5fyP3/SbB+Obxnwje+eH/u5AhzzYxjKXXKCnmNuNRzipH4+VpAubSZMPhvr2Gcu5ePp3apuwbXZHt++UjWO+lvY7V/itjygRZXGwtP5gOrcXU23nXEOnC+MP7fV+1Wwir2oTsvMgh+1QFxKyVjaErycVHw6da5jbELno98Xl+KsLhx/kfuP4hqxq58B6X30X3ahuhSrEDtWh1cU4qujpi5/AgLg7da1xXGoal06Btska42JH3KpYOwTSoO0Kskg+G2wEyP63OZ6v/iHVrcqqdc6nbxeqraE6r/3CLOS2xKmTFacOpmo304M+5o87wZ8Nc965ayO8GHT4jCdhP2L8/PjOixCf7Ujm8V0UBx6LpGpSzfgnuPdoh7bget6YRL1+p/cNjKDR9VqzOmhEVTej47xOt3Mj1Hvr1pY+fGdUXkR0rsfwXvip39o/dOE7BsfhKkxP/+HB/M5y+Ay7fa6j2K7oOmFaJCNChMr4i9N3CcUMoRJhb9X/RkjROjXk3LdeloIVy+tno4cqsDumzJSyl16oOrqxK39VWzm6bYcc25n+JYB5Grz8tKx++Q1Jef0DWfH8q2rc/tpQy7RDh0QFK5ST4vXP0lNMGC/VvIkKrKEUrVNTbUe0VVIRlHdO/0PKtW3lC5UWrBvbhG0LdOZ9d4bcH6JEkbXBUv3BrCcDOjtdtOhOe1wu4l059gobWdf5/sEgkBmi/AJrD+OPuBdJzYyLLJFxo20XguoXZ7cLuXiJYl8cQxsYF7Lo5fbta31tCCO9oFUlSfZt6LHWvM2BQ4mI76I9oMTBopbl1OmIviWH87llXdz575trCaNFLzPowtixBMIMtsHnlA68vvZsbeT+VPOcDVvaZnDd3wyW3n7Nepjt2rwLKP2AoDZYvY3jG0D36Ptex/TzKKhNWiTzaL5z2PdwWGcUzGDlXwqjSmtcfqiJfP0hSqvr9zK+68bIAEn/cS3aH32chS4hd//edHhvc4DYz4VGcpmtlBUhzwxR9un675rTj5hhPtcRb1dE3w/oB8B8fchAF9FnMbq/Yxn3XUIhpaVJ6qfjZEnPpyRv0SLS6O1XjCBUVz8Zm/+O/KsCHAKava0hHr9feoOeyx9K7FBSuOTRJ6XqrTcGleBZy0TwCwUljnvnLpCJZev5rRfjmB6OVaqK7cTrIm2biaCMwFyk5hl6SrrTCxdS051uT+I0P1EiytJgGfI2Ijp0Ov+6nQVcbmMya4ZT1aVIIZwNlZvtpayqumcG3wIjnvuiLmbxWms/wpUO65K8/mMiWO82UfcEbVZPmo//wKFDDv0LuENHNmbJrFspiK4m63cBFkGnOKqUM5gqJQhcl0t1N1/g9d0v0HgEVb82tyWIrsYcchszCM7J9PfL9nD6MSAq/sdIdXbS4Rdpaz8+OLf084HqP6zneVuX1jl0+BJ+noD3w/aIuSQHodZan/5s3z/evwp1uniuX//gY7wW1VERRtzCdLy4l+SFDqTZk7f3QlVpV9Ve8d2U/verfptrcaCM4OX2g1M4UWxXhPdKVt/B35il+k7nSOSfxej+jmXcdwm5MkLlprHfydLHnlajDV97Xsq2uVgNx0OTj4bLjWk7gh5Xrl/gq6ZqQYnkEX17E/yL8VhV6dxBrju83nHdkVRpxW1EMC+23wrHTh3wEFHksjBYhvjl1hAydGYyVfqA7Ynkr3WUVJXHgKCXkaEy4/alkTyKi5QIqzZGUu1p2Rud5SUxjs2QgcYFWnDbP9cSREPo0kfz4s7x1/Roq2PpsBe4LtfqbkpsJTlmiVdm/9jiXwoTM4d2wMHh36qlYGuDB+p9DqO+2WYz5EW10zyqtMXh3PLMrPLs/wOKQ6jMsPUbi77qLdVOMeOqGJrnxtyp84KOeegfdrKpOLwXvirAk6YZ3+u2zz/akOOYYLpLqbWrKLZLBduIvt/194jvB5BBAT/cRfdZjOzvWJy+SyhqO6f+Lot69JWThw5Lo3eGSPW7Oql7WXoVqoTODdpV7v5jnmqPiJJJjNtFukyUaOL1KOH0CiEUAdOpXWigAmWTVHVXp6q2kZa2EiWyrAuWupMB54tk3ZbNJXRmOuOPr+pEpkNg1bJFMsJje6aMqdqo26w4XPDFbV+WDQv6ldsMPuEuJisY7yt+1e/tt/5lb/jfIgC/lqsSHlWaZ7Ufc+oMxCmkhSl91IHUvzTFZbsm2Y6J6mDIdoGHtqGDRdoaF0uO65qXYmxJAKvaWA97yW7gsa8g1VH/1xfGUHLbRn6rheAe6cV6iHMgSr62igHnB96jyKta/iD3219vHDu0K3Wq6u7/PqMd2C9GSNejWuD5Yn1n2D9LkcyD4+RrmxhQkhn8+mhEWjIVr/XjHAmoLZAJJdxWh0TX27Yd54Xbe5sx4nWux+G9sELg1LX+55me/tJgtK8OUd3eUeTblXTVQLPTnA72c8E4N94I8d2uOkoKfI0pks8iRPp3LOLvEqsKbsD+UvQOLF0uf9/dU07s3a/uY7nx8/EyveVV6hYYeMy46BrZ/stUPXd00MYQbQ2dOqxxgnnQrrLe031UFVi0r8S4/bVYZuGqlVU7xlABr3TL81WVVKujn3hwahcaCO0k0f4T7UADS1sPLFulXo9tI8qtsixYmjd5d7t3pfmrbvzuXekdqtNZVcusqm1ob5LqMfymdzBiX67x8PQH1bgQ0T0GmlWT/C8+4rIvRsgSWzU/PNyr+vmzeo20r//+1PRf983ObET8esDVnQX59RyoQnJ626P0C5MwF/WqSmtwQHPcLvvf28DqjaNryoQhxlWWEWID12X2nmi17bNfsBnvzZAxvo6PzPUEH/v6D9vn6Sxruk6VR6uhMxC3Nq+BQp8DUcF++6o6W9uM96hW5CUvHYfKrK4pflXl/Hu8BRwbVLWzH5tpctmMt6S7amibrkItUT+OWNui2n5hHbbqdJHMo6A6t64SmD6v/zkZPbMHX//PmPkICuNxWT9+jLAfN+ORGR2zWOeGbdtVR1Rve6hGHLU4nuue3wvzR6G584xj4FcjQv9wZYgp6Ee8XU7fL53lpTBF/unfN9Z3VeSfRYj471g8vksoKvsWJcu/GzapYfy7a9ofsnfeQt9jzx/z5OjmoJ9AI1bxunaqBO+3sy/y6wgHw/Z2iwhhK18YqnpTrXKr2f4S4RLtLDHdHtKsXmKnnn+5L3QiZGJ51nyoYovXLjBCc+C9J3FPzVChFMvAPPbtxfzJ/Z5X21e4ehU91Vm1uzqpUtcF9/b2bQ+Whfaa2KbA6r9EuYq+7QhlBbd7tQXds4wo53K9R2ICc7s3nznd4f5+RDkV/46RAfdvxH0a7Q/7/R8D7zlpse4JGXj/R+sel/blBd6fEqz7R4aaD9vhdh9L+yNwG9zuYwlO2+c0n7V/vH8l5RZ58D+dMSlToepaZ5nSxqlEwXzupWrO944jyklQAn2/y30QExKq8alOTxw6pVLPDZdqGd1BF1Gm4N8xIiJKl7W3G6GANiwm1WmN621YiCj7WxF0c3izjZp5g/jbGSopgfDvGBERAUsss5T+RTfwHl7oXS/oFhREOVOuK7EEXTIZeHua4HalRDkd/44REZGJwZKIiIiIiIg8YVVYIiIiIiIi8oTBkoiIiIiIiDxhsCQiIiIiIiJPGCyJiIiIiIjIEwZLIiIiIiIi8oTBkoiIiIiIiDxhsCQiIiIiIiJPGCyJiIiIiIjIEwZLIiIiIqJsaP2GDdKn3xOyb/9+PYUo+2KwJCIiov9v717gpCjOvfE//OMt3nHVrCZZzAGNZI1BkgBRRF3wRVRAeSECokGiYvAQcZVIiCQmJmSVI6xwIKIJEi+AgYMCAcIrrJoQZTcnQJR1vcCJbIysynqJ8X7i/Oupqp6prq6e6Z6e3Zldft/Ppz+709PT3VVdPdNP16UB8sZBz9XXXEv9z6ryTb9du14vAfl688236K9/fYneeustPQegdHVJCfp/AAAAAIDIOHisuX0WnTtoIN009QY66KCD5Pz77n+QBgzoTyd06yZfA0Dnh8ASAAAAAGLjZpo3TJ1GV3zrcrrwgiF6LgDsq9AUFgAAAABiW/+7DXTql0+hQQPP0XPC/WLh3XIyffDBB/TjW3/mbDK7bftffM1q7c8yXoY//9xzz9P//eYYXxNcb93ePP6f59k4ODY/G7aczev7+Oqrr6a3Y+8j74e3Xp54f212Ou3l+H9uZmz2sbTT5vqstwy/5v3y3ue08r6bXOuLmg8AJgSWAAAAABALBx2vvfY6fbV373Tz10LhgOynM2vogfvupc1P1NHGDevktlzBzqMbN9FDy1fQg3rZad+bKpvmDhp8Pg0beqGc99vVD9Pf//4Kbdz0mP6UwkHXuMuvoJunT5PL8XTsscfQd6fcEHmwnLvu/qXMA/7sdyZereeqNNz76/vSaeC/nCYzaOQAb8EvFqaX4em/frOUjj+uXC/hxuvl/fQ+w2n+Us+eMp2n9fqKXkqZfN319PnPfT69LNcuz/z57b702evjifOu0McVOj8ElgAAAAAQywcffiiDtc9+9ng9pzA44Fm95rcy2PP6Z3KA863Lx9HTz+ygpueel/M8n/nMZ+R7XhDUv//pMsi6dOzodJB15BFHyEDpz1u3pgNT/svb4aDMDMbGjL5E/t28+Un5NxseVIeDSrsZsJcGDuK8NPBfrtnl+d4+8MA8Xbp0oSOPPFK+ZpwensLwurdt+wv169tXz1FpZrw/Nu77atYo28t6Nwg4+DTZASpAFAgsAQAAAKAk8OinPPxH166ZYIuVi2CLm91yMGsqO+ooX2B20IEHymDXDpRsYYExB6GnnfYV+tvLf9Nzwh3VtSudcsqX9KsMLw32exwM8jZ52+wLXzhB/v32VdcEmqcWSq4aZX6Pl+FaXrspL0BcCCwBAAAAIBYvgLMDvaRctXhtISyALQROQ9Nzz8lmtma/RW6WauIg9u675suaTW9ZV39Tk5fvW+rr9ZxM7aoXqMbFNa7cjJZrQnkf7D6dAFEhsAQAAACAWLimi/vlmc1LC4EDPQ742vq5jRy4cgDLQWChcRp6nnyyr++kN3EgyQGliQM7fo+X5/6O2YJLzvfrvvvv6SCQJ25ee/ttMwPrjcMLcnk/uMb2ezdNR3AJsSGwBAAAAIDYuGknD55j93uMquXVV2W/SZMX8O3Y8ayeo3jLFqpPp6vmj3l9GHM1pc0m36CV+2Fy7WWuZrjcP5L3nQc1CgtWk+B+pocfcXibB/fQ+SCwBAAAAIDYeIAXHiSHm3ja/fP4ESBmv0EO1HhUVm8e13L++r4H5OM6TBwg8UA7XHNnL8t9LHue/EU5Lymu+ePtPLhkmW+k1qXLHpJ/vUFu8uGlgfPFXDeno+6xx/WrYB55g/7kCmo5GOba4mx9J6Oy94lx09p/vP2PNm+ODJ0PAksAAAAAyAs/YoObcHLQ6DXN5OkHP7xFL6Fwc08endTrS+g9DoQDUxsvy6PCmstyIPWjGT8oSDDl4cDYewyIt988Qurc2jsS1wByGubdOUcGl966OR3vvfe+XoLofRHUmf0wLxx2sWyGyp/NZsh5gwP5zVOu/plh/rD5j771cFA//fvfK2gtKOwbuqS4ITsAAAAAAJQ0rgHlQPiOWTXpR5mwsPkA7Qk1lgAAAAAAHQA3gzWfj+nhEWHzHRUWoFAQWAIAAAAAdBDcD9MesZX7hh526KHyeZ8AxYKmsAAAAAAAHQQPlMSDDpm4ryr3dwUoJgSWAAAAAAAAkAiawgIAAAAAAEAiCCwBAAAAAAAgEQSWAAAAAAAAkAgCSwAAAAAAAEhknwwsW9dfS/2nrqZW/bo0bac7z6qiOxv1S1PrarpBvNdfT85l2kHjvMw+5J2fMi3X0rrSPhidiy4/UcqNPMbztutXORTpWMrz+aw5VKTTACCRWOdYCegYv585ZPmuUt8n3m8bvlcAAOIomcAy649VzgtWFYRlfgxcUwf7gWhtpmbxp7m5Rb1OE2kdUUs0bQltfqJOTtdV6rfaER+viSuG0kK9D5tnDaMy/R7so1p2UT010Yt2kQWAEC20m7/ooTQ0zqHhNUTTV+rftSeupyL8vAIAdFglEli2UH1dE/Wt6uMMTlobNlB9n8HUNzRy6UXXeQEOTyunUF/qafw48NTBfiDKhtEdYr/vGFKuZ2iNj9FykbaBfaz57UodLxp5TuQ85bvyxapZhXZSeb0814pxo6Ojy3Z+7LvnDt8w7Cg3BFto3dR8auvL6fxZ4vdpci/9ui10pHwsrsa6NURZrzUAACCb0ggsWxtoU0NYsJQ96Nw39aBuJZAZfXtEDW6308YV+l8AsGQ7P/bhc0feROsgGpfSTCrNgKR1/T20PMZNwH1eRQWuNQAA8lQSgWXjklqqH3kVne/6Nucf7IahNMGuuSsE3dcs3Vw2S78R2Q/GWPaG9RHa+zXOEcvad7F1s117W4Hmvmq5TE2F/tykNeL/NTRR74e/JoPvmmf2Mfh+bnY67b4/qv/JWHFMiOprxqplsvW3kXlQLS8Ql0/y1uu6e27ve5a7/3KdxrJx+vvYx1xM4cdS57k5BfpC5VjGWQYEvR/28fH371GTc/8i54G9fyLvyyqoQr8bmb09V58wZ5N13r6al0mbvUyMcuvYj7KKHvrNCCIef7mvnEZ7+ThlzZGuwOdlekLOj2zvGXKds5JMh/psZnljXen3C3cequMd3N90vrj2U5P7aH3XBZcPnntxv+8C64iQBq8cy3LjlQ/e14ZaGi7XkyNfzXTIPHTlUe60Zc4nMcn9zpxrkj4+w2uaiFZUG8sZ7PKd5ZgE2J+1122I8vuZPufMtJv7Y2+PJ9c2c5RLJ/2ZiXwTx8sr53HpuD5qfYOaflhD6447hR7uciw9+sV+tHvxUvrkww/1EgAABZAqum2p2gHnpGp36JeWHXPPSZ0xd5t+FdHeVanqAZNSa/fq15a96yalzhDbPGPA7FRms2o/XNuS+2CuT67/nFT1uj16RhhH2nbMTp1x46TA/sl9unFVKjMrJF/487799uxJrb3RSpNcNjxv/Ryf1+n07xdTy+ZOv6bX49wPbxvW+yrPHenUacpsW+93YB/dOJ8Dx8O1b660792W2mFuJMoycv2OsujIE1UurTSLzwf2LXIe6DLt2z93fodRx8G9jsDxl/PttPI+iDyfa5dvT4xyG0i3l2fW57OIevzd6w3/jnDi/PAtG/J5R1lIy/ZenHNWzhdlKez71Pucta1k52HId1jWNGU4zwePt79GWrxjFiiXYex1OPfLSkOWZZzb5Xy6UeS7yBvX+3KfncfKyssd4ntF/8vs3yReT7X4XQnkl3N/NfsYyteO7ypL3HMj6u+nXO9ckVeu/Q3Ld3t7kcqlINcXTKvcV9f50cG9/0pL6vdnDUutpGNSa8srU5tOOyf1yEGfk6+f/WFN6pOPP9ZL7ls+fH1v6rG+g1Mv/epBPUfZcdNPUg1jJ6b+99139RwAiKr4NZayudNQGuRsp6OagY2qaov+J9wH0+x32YvGTetJtOIx/13K1tW0iPdhwfxMjWrZMJoulq2vWZrjjmY5ndiHaHld5q6r7MNRMZgG9mmiTQ3eXVvdZzFJExxZs2ulqfJ6WjhSbH9xlDu2js9zP0/ur9pQSw+08a3bvtOW+PrmVY7lfrJraKNvuy20brHIv5Gzjb6n5XT+tOj7WDZkvr8PYOUYmi6OkT1IkqxF7zOFVpmDEpX1okrjAEVZJo6WnY5+q+IY+vssRs8D2QSOy/k0c//EMV0wVL+Iaigt9KVxGE0Q5aq+riF3uZKaaHnzYH8+eSKXW51ukd/TjdYLfDx52aiiHn8l4ndEGM5rX985/fnm5oj5lkPsc3aNKA+zs/bnK+x52IsGOb5/VJ/5KTTOPA4xpc89Iy18bFdF+l5mIg013FLGyA9nTb46ZioN29MDp/nKkBxozd2VQ37fN4hpvKO/vNiH4Pe+sV/m+VIpvlf0v1y7NnEFH/fMb1LZkBk0UJxnge8POaCW6/dVpGXSGnm80/tV3l0c66ginhtxfz9XiLxa4Oin7UxHL7rOV5ajfzfuU1Ipav71Mtr7xFNUcfk36f+8WE9VW+vonD/9P/p0t8/RS798gP7x7PN6YfC8u+sl+td77+tXABBVkQNL74fA3f9DXRiHBZ0JOTrou5rUyYsgxz6oZXfS7qxXiOXUt8q8kFQjAI6qGibnZy7MW+jFhmQBdNigA+U9xPYbdoktZBc6aEFZH3HBFHbhXSiOizLXRZ7si+vIJ71s4fZR3dDI3q83yjLxyIt42QwrSxOsGHkgA1XXMY11ASk4zk9ZrmIIy6fo5VadI671xN2XyCJ+RxRLPuds9u+Ywp+Hskzzd2j6e3I7PVCTtM98+LlXxvmR83tZ8ILysToNspllNS13BLxlQ66iUSIwGc7v+4IWTQY9rn7vesTX0CDa8b1v71eA95vp7jpi93tvbd4ptt9d/BL5eb+t6S4m3BRUBM2hXVJsEc+N+L+fIb/38gaQahYd2ty53X4fOpb//ee79MaWP9P+XY+g7pOvpP0OPUTOP+TfulHZGX3og1depY/ffFvOA6WyZgadveV3dMDRUU4GADAVN7DUg/a4f0T1oD3TxjiDzvZl9PPxJtn/Jzd5oeNdWMn0qh9O3/ystbYxyIsf/37K/jVRZakxrd9ZOj/Kmf5m3qT6oUVj911S/UVdKirsy7GgKMtExrVNT9TRwpGZ8hbW/zNyHpTIQBRZ8ylGuU2e39GPfyHYfctinY9RxDpne9KJBSyukcqgDHKN1hkFHNU6vCzkfuSNDLjEcjNH6H0XQVXFgrqQxyapliccIJo1pJ6w4C0dOI53rVPQNZ3mMVHrctwsSAu5CamDKjtP5M0lRxmR883ftUk7SY6inqU2O38xfj+d+cj06LkLhmbKXUjfyWS/D53PfocdSv0e/jUN+dt2OvKrX9FzhVSKUv/6l3j/EPrUQQfqmQAAyRQ1sMz6GBEddBbiAiQxvqBIP7bEnIzmPWHk3VJ1YSXT69X+6AsuvgAKvzCJiZtPOffTbLKURZYmetFHgG1r3ATLlUZXUzOLHKChWja1ynxuiWwK6RLlDndb3AWvnKz3TVxEyQGSAgNqxMiDQjW7bEsxym2i/I55/JNRAexEbnpqpImbahZU0c7ZqGVQtdrwmj3KWtaotWI5hJeF3AG0anbuPzaB5pda47yxNFOs092cMks3Bh1Eh+2Lqs3z13SGBYJp+vnGNrUue1u6ZjdQDlRNKjeDzaQ/wm9ZvpL8ftr0I402PzFb1yLbrTsS/D50Zl260KcOOUT+ZVyL+dKipfTKyrX0mSED6dCTT5Tz87V70RI5IJBr2vvEk3KZj/a20uP9zku/NvHn+T1exvRO0wv0uxN6+9bXOO1W/W4Gf/5Pl15D/3rvPfk+L2evz9u+tx7+/8O9b+h3/Xgd3vpM3rq9ifeN99FkppMnc3nXvgN0NkUMLLM/RiRr0NmOfDWLeVH9jOp3Nsj0Zu40l1O3CqLldauz5kNUlVVDo/f9cpCfd6Uz5E54Udi1HzGpi9rZ1gWkqgHwUzUU2fsQRlkmC9l8LgdxESUDETN4iJEHoc2go2y7nUQvtzq/HTXnqvYlt+jHvwB0K4SFVg1Q1H2NomjnbMzzUDYllf00C9VnXn+nOs49V7AWKsJNFx6pdOIK7mM8X/YrNvvLKyE1iEKu2kcV3Dq6gcS+GaSaFwe2laXvJ2uPVijJfz/D9KLr5POqjea0CX8f9hUchK057Av09HenU7cJY6n3L2tp/yMO1+/Gx8FS00/+gwY9u5kuTr1Gw959iT43doSc+P+jzzpdLxlf868fos+Pvliul6czH3+EXrhtnkyDyzM33kKvP/5HuuD1Jl9TVg7+6r52rvyf3+N1nXLbD+mP510ia26j4HW8/thmXzq5KfGfr/huICBmfzj7Itpx00/S2/P2HcEldHbFCyx1XxL3j14h+uEUiByoRDWZ8vft2E53RhnGXJAXgM0bxA+e/46yuqiuzZIPMaT7oFiPB+C+Q1GGkJef53Qad4D5s9zvJrSPUES6j0vwoiyucjp/vLsWr3FelscimFbcYyzXQuum3kPNgRqrzIAPw63h7u9MN02NsoxQeY64qBb5WmOUFa45czQFC6ZBXzD6ajCi54F3QT/RLKd8TCM2424XkcutSjc/CsBsHqwu/PWLKCId/0JZQ4usfV3U7KixzHZ+ZHuvLc/ZrOKehyoQbF4cr8+86odnDxykqL6b/nOP85ebGkfpPqGCcvHdax0f33e8OE+H1xB5g9SoPtBm+clw1Z5mr33UtYZWbaJ7v1Znjq9dHvh4n/UYncg3oJzbcjUL1n3/xblkpjfyd2gcBfj9lMSxsLsFyAGcfDcR4pbLfRM3jT30ZNUf9qWF99GzN8+UNZj54ICKAzkO/g7reZKc96mDD6YvXH05tf6xgd7b/bKcly/u68iTh4PUk26aTK9t+n2gNvHlJStp/8MPc/aN5AD1oPJj6fTfPph+j9fV84c30psN2+TrXDh9Z9dv8KXz5Jur6YOW1+gfjcHBj7r27R3YXu9f1cr8cgWiAJ1F0QLLrE2i9N3+Nnl2ZR64aSLXHPn7blRTc9TAlwdLaWgK1sDKoINFvMOelfhRncX989SPeHo/ue9QpBoC7/NGfxg5mIM1OmFeetF1PBJpIZ4Pxk2h+E51el1qmtgcXjPgqZzMzR7N/LmVaNp8ms4XWTZvdE1zOyI/fM3Qoizj3Vnni2BvmUlECx1NMMvFb73v2HHfIM5/u99T5DwQ2043GdPLjdhFE9qs+Wc+YpRbTrfXPFgvN3znVSov9CLZxDr+SenaZnNfZ9IMumOaOEZ6kYxs50e299rynM0h5nnIQRmJ78BYfebFNuTowN73rhksyP7Iomwb2+egctSCiE0eXWWppkc66OUgk2/+2KOZyiBpiRm0qNFQvfVkgh934JihajoDtcrO/dql32T6+8RLtzyfr6duIogNbEvubyb/zMDOG0HX/E2L8h2aj8S/n0z8hpKRJ3J/uSbZbi4fs1zuiz47ahid2/QkDf7rf4tg5xv0P79YTK89+rh+Nz+HniSOTzsJ2xaPcFvxrUv0qwwOQN/729/pmLPPCAScR33ja/Jz+TrwmDIZsLq4tndI9xP0fwCdVxd+5oj+HwAAoPBkTeoGGmg8IgMAiuvZGT+n5386R9YCmjWDcXDTzr8te5jOWL9M1uZxILf1qmr5Xu97ZsuaPca1dE9eeKlsgmo3j+WmrX+9+z5fDR/z1sW1kSZuZmuuO+zzzNsu16Jy019T2HucJg5GzW0w7jPJTVxt3MzVS1O27fHnuXmsaz8BOovijgoLAACdnnruJGqNANrbu//zEv3x/4yihkuupI/f/oeeK8hRYT+R/+53+GHybz44IOWmsBu/1F8OULP6EFUrZwdlcXEQ5q2L+zN6/Sy5OWl74wCXB/PhoJKDSG9fuP8kN3kFgAwElgAA0HYa+YH+WR67AQBtZv8jj5CPFXnl4XX09xVriD5RweTbzzxLr/zXGvm4kWPOzn+AHXtQG56+/uBdiYJKDuS4BtKumWT/fMFsGp7bpw7+tGyCGvdzpjf/tF3Wmpo1k+zD11tlH0sAyEBgCQAABSf7KXIfN9lXMfxxHgDQdg44qit9cfoU2u/QQ2jbldfThh59aNOpZ9FjXztXBFv/Qz2uv4a69sm/1u2Np/5bPsaE+xtG8e6ul/R/CgeRPBiPy8Gf/6wvqORmpjz4TRz8eV6Pa9AcHnTnzfqt+lV23BfzwGOP1q8UTvv7CQcoAuhsEFgCAEDB8QAx3jMEEVQCFM8xVWdS/43/Rcf/3wvpgz2v0jvPvUhdv9aLvr7kLhl0dtlvP71kfMcNGyz/rj2mp++ZjfYzHrlPIQ9os/XbU2QzV+b1ofz4jbfkaw8Hg8cOHCAfz+Et6/VdPKDrkfJ1HDyoD9cs/uW6H8htsrD+ki6HV35RDtLz3E9npz8v+3Uu/HWiwX8AOiMElgAAAACdVZcudGTvU6nvikU0/P2/0UUfvUJnPbmOPjdmBP1/Bx6oF4rPC/a4qanZD5L7HnIg9scho33BJffH5IGCOKDz+mNyAHnStO/qJTJ44BtzWQ5ceeAf17K58KBCVf/9qKwt5W3y+ngQnfN2b5XNbXPhoPir986Vj1DxPs+1rKevXSKfZQkAGRgVFgAAAABiCRs9lXFAyYHl1379n4FRYAGg80KNJQAAAAAUzIev7ZV/7X6JANC5IbAEAAAAgFgOPam7HC315WWP6DkK9z/kJqz8GBJuhgoA+w40hQUAAACA2MIGwbEfzQEA+wYElgAAAAAAAJAImsICAAAAAABAIggsAQAAAAAAIBEElgAAAAAAAJBICQSW2+nOs6qov55uWN+i53dsjfNEeuZt169KhcrrOxv1S60099Wtdf211H/qamrVr0tW62q64axraV3J72hEnS09hlItUyW1X0U+/iV93su8CX6vAgAA7GuKHFi20Lqp1bR85Gza/ESdnO4YUq7fAwhq2dlE1LBLlByAwkCZAgAAAEiuuIFlawNtaiAaVdVLz+hg+E51R6g963C4ZnUOuSoAKifzDYjrqVK/hhLVgc6NditT+L4AAACATqwEmsL2pBM7aCVla8MGqtf/QwE1PkbL9b/QMeHcCEKeAAAAQGdWpMCSm8BWUf8RteJCq4lmjgj2r+R+f/K17r/i6n8p+93o9+QUUhuQXlfjHN/yqk+M3pf0/Cj9iNRnhtdwE7paGq4/6+wfam0zvC+jvR/x+uzIfpLGZ/uH1PjFYuR91nUGlstM/jQE02gfM5mOSWvEf2tooreMkWfZ+loF8sCZ11wbqo6xvbwzv11pi1XrZKfZnYfpMpq4vOvtOdIu0+v6jF1G05PrXLDTYy+j3o90blgCx68dyhtzlim5Dd5+rvRqWctJ/nki2et2HnfFzkPXNmR6Zfkw+reHfi/ZouSHXiZyGfT3s1dTxGMftt+O45E1LyLnsb2vYj/LKqhCvwsA4X6x8G45FdNLu3fTVRMnyb/t7a2336arr7mWtm3/i56THeeV913z27Xr0/O8/wuF94f3i/cPILFUMe1dlaoeMCm1dq9+bdgx95xU9dzZWd8/w/fetlTtAJ43O7VDz/GoZcU0d5uek/l89Y1iO+v26Ll7UmvF6zNuXJVybDJAriNk2fQ2zfdles3tefR2zX3fMVt+vtZOjJNIu28/wtKh8shep9xXI28kva/BPLPy15Gm0HzhZX3b0cfM2vbedZOC29Hke4F1O/LP2/+QPOC8NfdZbdMqa3od/vwSn7fzysXbvu/zjv3UOM8KU971Nhz76DwugXIW8nlnerz9cqfHWQZCifT4lg8pw3o/Cl7eQrYTKb162VzlJG6eqDJpb8+dBqb2zSgjjrxicr2irPF6/PucRZz8iFUGVXr8+yg+P9efT8688PbJsR1e3pe2kO/TeHms55v7H5IvAPuaN996KyUCNn0+ZaY1v12nl0ilFty1UE7F9NeXXkpdefV35N/25uXR1m3b9ZxwnG+8LH/G8/7776du+clPC56HvD/2tgDyVQJNYcPVr9hJA1fOp/PL9AxP62patIJo1ALzvV503ROzaRStoUXOmoChtHBypi9n5WRetonqK2YbAwaV0/nTplBfbrIWViUQi9jmrGGU3sWyYTRhpEhXXYP/bnjjUprZ0JOmrzT6eVVeTwvFsssXh9dOZIi0m9vhdIwfmmhAksYltVTfZwqtCuSZP39V876hNMEYdKlyLOdhLT1gVzmI9N9hrI/3e9y0nkTNzRHSmIUr/3hbK0P2g400j7tYfMhVsjxsajByrGWXTNsgX+c7kde+NGTXd9oSui79eXFcZoWX0cKW92ga69YQieM8ztxHLjsr7nHWzPnTo4+12IeNzuqlOKKV4fYub5HSW4ByEs4q114aVjzmr9FzlRGR/uli2fqapcHavxXiuC+o86UtioIf/9ZmahZpHNjH7A8hjv1ksyx4HOf4AndZLRsy35+2yjE0vQ8fete5Ei2PW9ffQ8t52Wn+73S5DwD7MK5Bu3DYxfTZzx5PGzesSw/GePWV36ZTTvmSXgri+NvLf6PTTvsKHXnEEXoO0UEHHUQ/mvED+s7Eq/UciINre6PWFkP+SjqwpD6DqW/w6iJ9cem/kGO9aBAHbjsdFw8jzzEuHDL69jAvaArMsc3yHuKCxaIu7oNplcsWZbTK7bRRXKT2repjXdyV04ni4syZv0UUln9U1kdcsLovJoMDRqm0+ciLUdUkN06z5Az7gpllKaOFLO9twpGeTt0MMGJ6E5eTLBxloqyih/4vI6yMqGV30u5AJO0qT7m0wfEXgdmEkao7RM6mwa7zo/IceUPoxSSnQMQ8lqMHu/ahvLsIrgH2Tdyk9N5f30fTvjdVBj0c/Hguv+xSOqFbN/0Kovrggw/otddep89/7vN6DiTl5Sm0vdIOLCsqHHettT7dRSgQImkNWDEYfa+8SfbJiijQ/072U0ymvmasf51njaWZDfpNrYwvtKxaM1nbGXLhavcBi5PGrLKUlfwDL65hrKPNC4bS8kl6n7P0b4vFVUaLUN4rq7hW0Kzta6F1i0MC9TYWpQyXTHnzacNyEovRL9mbwr4HspWndiZH5V05hSj9fRPSvzKL4M0juy9k8LsrL9nOUYB90PrfbaBTv3wKDRp4jp4TH9ciZc7VTH9Clq1foqvPJn/WXFfUGir7c//3m2MC/TB5XT++9Wf03HPPy/e9Ze198Jjr5OX/+teX9DvheBuDBp9Pj27cRDW3z/Ktn4Mj3r6ZP948/hwvZ27P1Y/UW95bjv/neTb+LK/DW44nc7su/Jkbb/o+7d7dLI9Zrm14xzZsOU6Pl3YPv7b7g/J2s/WbNfN08nXXO7fFy3j7wZMrrVHyJCwPvHTwX2+enY4wcctdsZV2YJlNtpq8jvjjbzzL0z+ZTbRc9MAgdYNplfm5AjTPGrXAWJ85mU38dFMwMwiduGIoLQzst7rQm0j+dK7iJmeFkCW4SlwrXXm93t/ZNEreAIh/4RsQt4y2VXkXaeNjkA6I+AKcptAqX7PUthajDJdKeXNpi3ISBzddN9KamRzNq0sNH1e5r0t07W/IIEkhKiqMc1wORlUtm/pm8oDXq99PoiPetARoI3xhzrVAX+3d21dTGQdfNPPF/rw758hz9berH6bVa36bvmDnpqDcJHRLvX9Mbb4g37btL9Svb6a9AH+Ga08fuO9euS7++9OZNXIbuZSVHSW37X1ncKD86/seCAREHJzMrp1Lv7rnrvT+8n7YAYa9L7z8L+66m55tyn5z87ReX5HNic8dNFDWAvNnozR95TzkGk5v/6/41uU08+e3+wIXTstts+6Q/3tNlocNvZCmikDIxJ/hz948fVp6fZzOL5+S/WqUcfBcPfUmmv7978nP8XYY54WJt/G9m6bLY+tt49hjj5H75+U5p4fLl/faO+ach2aQvmPHs/S5z32Wyj/zGT3Hj/OU9/9LPXumy5lZu56rDJp+9pNb0vvLy3O67ICW9+1nP7+Nbr9tZnq5B5csk9cr3jHifOGm40uXPaQ/lV3UclcKOmRg6dVaBPv16Cacbdm8tQ3IWiO7z1RU8lmgVr8fobV5p/4vH6qJ5fK6KCNFqhou7nvlnWzOYFg+QsTfz5XJ5mUJqVq3DcF+sfo5qb6LzkR60XXcb9PZtNDF6rMpxS+jhSnvLbS7Wf/rs50eqGny30Ro16BSiFWGi1/ecotbTpKTZcR1DpSUsDJo4tpf7jvsaN7qSp88zv5HVsmm8SNnW/1HW+jFhDWWoV0TZB9bgH3PBx9+SH//+yvyAjkfHDDwBfylY0fLi3/GgSQHOzzfC4o4eNy46THfBfzmzU/Kv1/4wgnyLy/Ln+GAymt+y385QOT5doBo+0a/vr7+jEPOG0zv/POfMo2271xzdXpZb3//vHWrLwDibXJg5u0LL8efaysciJq1xv37ny7/mgFY03PPy+N13Xf/PR1Ucb5z/pveeustHtiTunY9Us9R+9+tW7SOD+Yx4O1w/nAQ5B1P5h2/MaMvkX8Z5/nTz+yQ+8m4f+7LL/+dWl59Vb7m/Tr8iMNl313zRgP3R8335kbUMsg4TSef/EX9iqin+J9r69988y09J8MsI7wcHx/zGIXlSza5yl2p6Jg1lrJfjgh8Jpl3tbmGolpeTJoDe7QldaFRgIu5dB8t6y49D4Ef6TEATTRzibFc4xwaXicCDv0yH3JQjhXVgSZ93FzRfqQDX7BFC96sgX/EuhY1B2uQVP+mGAOCyPzjflpGDRHnHT/OxjcwTUwiH+1+X6rZZQ/qFjHy4pq1TH5xzVweZTRWeS+nvlUiT8Wx8283pCmgHjyl0M+SjX9uRC3DhS9viUUsJwX7vnCRZUT1VfSfn6KctHuz3Bhl0PEd5w2SEyyTjnOcm/qOvCpYI+sb0Ie3fQ81J6yxVAN8ie9pMz+9fQjgbXKNejvXWgN0IF5gatY6Mg4oOLDhQIJ5F/BcM8X4QpovqPnC2rvQ9oIhe7AgXjdvwxUg5vL2W2+n98HDtV5eMBvGFZgxfv2ZkFq1pKIEVt5NgIMOPFDPUey+nFzzxzWA4y6/IlJtr+morl0jDdjkGpyIt8vHmffTe8374QVufPy7/9sX6MtiGS8g44n/z/vmRsQymI23vx7OA/PY83Hh2lie8gl+WZRyVyo6bFNY7pezahqln4HJTZ+Wy6ZguZqOFk7ZkBk6oFH7kHPwiVCqj9ZCfWHoNfHj53xWBAaZseimgXwRl/5c3Tm0edZViQfVuCPdpC+zT8Nrelh92dQIipmmlJnJd4Grm1yaTRhn0gy6YxrXxlm8EXG9deYMrr38M/qYcVDJzYuT1L6Vdzf6fanJ3ewyhCyPS+jExd7n+cI6xucNcco7j4jpyz+x3U1VS0KblnoBiZdGNcVrimiLdW7EKsNtUN6SilhOCvd94abKiJ031dQcGISr7UUugzz4j3ncxTS8hmi6Y3RkWUu9sjst8pb1znGrVrpyMjd7Ncv0rUTT5tN0DnYT0SMxm9+JI3bRhEI1swXoYDhA4Qt6+8I6Kr5ob33jjXS/N2/igOaNN9/US6kLcw6cvNoZrsHimiwzgOHgo+m55+RnzXXxuqOw+8/Z+xAH70uXLl3oyCP9gSW/LjvqKP2q/XEw5wpu7KCM3+emotyE0zs2hezPx8eQm7h6zUO9yesH6fECMq6d9G4mcADIARbXXHL54Yn/zzfoiloGGe8D93UM21/QREQOkDf3c+wcz9SDEhTyrEhvvuO4FhvKGwBA6eBnKvKzFfkZi7nYz7GM81xH8/mT/IxHe5tRn0/pWo7XN2LUaN8813Jhz3u098f1WRY1vd7zKs1ngDLX/LBlXduy99OT6zmW3rpyPT8zLN2u9dtlIQx/lve5qek537r5s5yesDTZwvI+bL6Nt8tlJFfeh+WBK7258t0TtlzUtLe3jjt4DxRf62patMJ+Bpyinm+X8DEA0Lbk8z+Hku9Zq1K5eoZkO/YRjATlDQCgpHANEtfaeP3i4ohT4+k1i/zTn/4sa67spp9cG8i1hK7+btl4NWHc983rF8h4PfnWWIbtC/d3zDV4T1vy8tpuFmwPjGTj5qrcv88cSCcpe2CeMNyklGunn9nR6Bugh8sdH7fnnn8+0eBRUcsgN8Pl2mav7yrzmtGCHwJLSKjJ3zdO2k53Ju3fCO3E3w9RytZ3rehQ3gAASoU3+As3JbSbS/LjEewRM00cDHA/SX6shj26Zd1jj/uCDl6WA4j/9+jGQDNY5g1mwvth9gvkdfC6wnjNLc0gh/eZR5PNF+8L9x/kUWC9gVn4L78uJq+5qDkSKecVN0k1cfr52Hk4X3ggmyR9BG0coHFQZo4Cy+wy491QuHPef/oCSC/g3LNnT6Q+nV4AaQfRUcsgf5abzHp9Lnn+nXP/s6g3Cmy8T9xU13yMCZ+T3MTby1NOo/m6LSCwhPxx3zge/dLqIyX7dXF/qPYeXRTi4cdjWI/ukBP37eVRYq2+a0WH8gYAUHL4cRj8WA0eudX8bv7BD2/RS4TjwJQ/y49tMD/7/AsvBIIYDiC4FrF3716+2kXPhRcM8fUL5In7wb333vt6CTcexZTxsvwZfszIgnm1iQZL4Tzh4PLCYRfLdX77qmuoesp35cigxcIBLz8Cgwe78fKHA8ZfLvyF7Kdo4mPnLcP5wrx8KgTel7m16tEnXr7zxI/UMPumeoE/D3pkBpBewPnOO/8M9GV14fV86/Jx6TLKAZgXNEYpg7wMp9/rw3up+Mvrs0fULSYvr2xc0xoljwqlC7eH1f8DAAAAAAAAxIYaSwAAAAAAAEgEgSUAAAAAAAAkgsASAAAAAAAAEkFgCQAAAAAAAIkgsAQAAAAAAIBEEFgCAAAAAABAIggsAQAAAAAAIBEElgAAAAAAAJAIAksAAAAAAABIBIElAAAAAAAAJILAEgAAAAAAABJBYAkAAAAAAACJILAEAAAAAACARBBYAgAAAAAAQCIILAEAAAAAACARBJYAAAAAAACQCAJLAAAAAAAASASBJQAAAAAAACSCwBIAAAAAAAASQWAJAAAAAAAAiSCwBAAAAAAAgEQQWAIAAAAAAEAiCCwBAAAAAAAgEQSWAAAAAAAAkAgCSwAAAAAAAEgEgSUAAAAAAAAkgsASAAAAAAAAEkFgCQAAAAAAAIkgsAQAAAAAAIBEEFjGsGXWZdRlVpN+BQAAAAAAAKz4geXT91KXXiJgM6dJm6hFvw0AAAAAAAClraiBZcvqW6jL5XU0/CezKbX9fjXdV0X0ZDO9pJdpd3s30UWdObDt7OkDAAAAAIB2V8TAsokW/3CXDCofGXaMnieceoUIMK+gfvple2t58g+0Sv/fGRUjfdyEuOZp/QIAAAAAADqdDtTH8nVaNsnfZDY0WLGb10aqoVPrP04Eu/TkYjpOf/ai1a/r9w32+sP6XXLtoLlcr3tpi34rkkifb6KaXrfQsr26D6ixvD9/cqePPy9fG9tV7/M2suWF2n6YflOnE10e3B4AAAAAAHQSqSJ66vZxKfrKj1JLX9czQr2WWvodXnZR6ik9J/WXReL1uNTP/6Jfe/T84ate0zP0Z7+zMbVHz8lG7lPIsmp/rfdf35ga7tuepufT7c/qGd7njTRkE/nzz6Z+zstZ+7Bn1Y/EvGDe5krf8NsXie0GPyfX5/hctvUFecdRTEa6AAAAAACgYytqjWW/qffTU5fuojGDctRmPf1bGvNkd1q60Wgie+oV4rNE37/LrI18nZbdVUd06XSjee0xNPon42n4k4tpcUGaY1bRUwsGUrl+RUcPpGliP1b97mlfreiWexfTqtPH056pPfUcVXP3c6qjmgi1drE/70szUfmwS8Syu2jZk/FqCFc9uJtGb7yFRh+tZ2jlp5/pyMMmevxBop9fY+RHVuJYLFB9aZ+imfKYY5RdAAAAAICOr+hNYTm45EBjz0+606ofVjsDzC0bRLAoApuzrWDnhC929w/0s/dpEUiJQGdwJhiTjj5eBqRbXooXZDld2i/Q/1Puh48KuIafd6oVcB1NJ5wugrfns7QbleJ/PpBmvWxsjnyWdAD9/Q2ZQLBl9UP0fRFon32qnhGDCpKFB2ei/yUAAAAAQAdXMn0sy4fd4gswA8GG0S/Qm2R/QYfv6/58mWmmCIDanxcoZ6ZqGiMC36iSfj4vXzg+tPax3+AqEQhu0f08X6fHfyfy3xFoZyNHApZpeYhO2KhuKkzLIzAFAAAAAIDSUXKD96gmnI7axUunyyAkONkjyHKTWddy9/tHn20HP7/PvR8po3lrNkk/X3Cn9ss0xZW1wyKvr4iyL2rwHw4oj/vdmbRHpiPY3BYAAAAAADqmDjEqrL+mLIujT6XRp8fvV1h4Pelsq9loPEk/31Z60niuUf7d07SFH1sS1mzWsmXWTNriPavU7J8KAAAAAACdQvECS/lIC/sxFVyzxc1Wq2ia79mWF9LS0+voG/byvA7f4C/H0OhrqlQTUmtQmC2zsj8Sw6P6bf6BHo+wbDb9rhhPwx+cGXjUCTcFjdKnMOnnwyRNnxrE5w9U87tdjj6gbtyPtr1riwEAAACgdDTf/xt6adES/Qo6o+IFlnJAncyIsGoSQaVs8mo3b1WjiZojyMpp0GLqZw9ac+oVlNqog7L0ei+jb/w1Wu1a+bBrRRAbYaTaXI4eSI9sn04/t/qGHvfDbtEGu0n6+RCJ0ycH8dlFq560gn8AAAAAgBBvbX2atn17Cv3P/F/pOdDZdOFnjuj/ASLZMksE6jS9eH09AQAAADqBd5peoD8OGU3v735Zvv7c2BHU+57Z9KmDDw685znz8Ufo6LPU0P+N026lF26bJ//3mOsIs/eJJ+kPZ18Uuqz3vrktz7/ee4+2XlUt/8+1HROHHNuunEK7Fy2lr/znz+nfrv22fgc6iw7RxxJKyN5NVMPPrgw83gQAAAAAovpobyv9+Yrv0udHX0wXp16jYe+qB+i9+aft8q+n969q5fveZAd6Xfv2pgteb0q///UH78oZ7L26fhN17XMavbvzr/SeFbi2lS5dutBpv6ylbhPG0F/+/fuoueyEEFhCDK/Tsh8uplWnj6fxeEQIAAAAQN4+fL2VPmh5jQ49ST0PnYNBDgrtwLHQuCb0b8seppN/NJUO6fEFav71Q/qdtmcHl+hz2bkgsIQIvMeFVNMYGk97MLIrAAAAQCIHd/sclZ3Rh7Z+ewo93OVY+tOl18hmpjbvfZ52OwKxN+u30tpjesr3H+93nqwJzeaNp/6bDio/lo7qcxodO3CADDI52Gw3qRR98tHHIsoUgcgB++uZ0BkgsIQIetI07xmaCCoBAAAAEvNqKLkZKzdnfXnJSnr0S/0DQZ7ZFLbbhLF6bobZFPbsLb+jA44u0+8EcdD517vvo2POPkMud9ywwTLI5GCzPaQ++YT+/K1/p789uIJOu3s2VYwbpd+BzgCBJQAAAABAkXCAxwHhoGc3y9cfvpbwmXdZ/KPxeVnDyQP+cA0n13Tyaw42c9V0JmUHlSdcOU6/A50FAksAAAAAgHbGNZOP9x2crqH0AsoDj43wfLw8cDNbDiB5JFgeKMirBeWRXzm45KCzLf3lu9MRVHZyCCwBAAAAANrZv959j4786ldo45f6y9pDfrzH1379n3RYz5P0EorZx5InfhSIyexjyVNYX82Xlz0im9t+4erLfaPGdv16Lxls7rjpJ4FaS96nsPXyulYfckL6fXu/bEef2Y++dv8CBJWdGJ5jCQAAAAAAAImgxhIAAAAAAAASQWAJAAAAAAAAiSCwBAAAAAAAgEQQWAIAAAAAAEAiCCwBAAAAAAAgEQSWAAAAAAAAkAgCSwAAAAAAAEgEgSUAAAAAAAAkgsASAAAAAAAAEkFgCQAAAAAAAIkgsAQAAAAAAIBEEFgCAAAAAABAIggsAQAAAAAAIBEElgAAAAAAAJAIAksAAAAAAABIBIElAAAAAAAAJILAEgAAAAAAABJBYAkAAAAAAACJILAEAAAAAACARBBYAgAAAAAAQCIILAEAAAAAACARBJYAAAAAAACQCAJLAAAAAAAASKRLStD/t7+mRdRv5g79IouqK2jLFV/WL/YhRv5cMn02Xd9T/gsAAAAAAFBSEFiWMgSWAAAA+5Snd7fo/wAAStup3cr1f0rpBJb9RtOj409W/9v2/zQddsD++sU+BIElAAAAAAB0AKXTx/JgETwecrh72heDSgAAAAAAgA4Cg/cAAAAAAABAIqXTFDZSP8p/0BO330I3PcP/H0SXTf8xXdvTqM18fRNNuWktbfmYqJtY331ifQfqt9g7rzTQ2gfq6OHnXqPdYhna/yAaUDWKbhp3GpWpRdJaN9XQBYtfowN6j6S1Vx9Pv198P83/85v0Bu1H/QZPoNsuOVms+w3a+pCYX7ebGt8jOuDgY+niS0fTpAEn+LZL9AzNuexeekjs85SfzqTRR2yjZXf/lu57Tqzv4/2o28mn0U1Xj6Tex1g1szmbwn5MrU8/QnMe2kZbmj+gf4o5Rx19PJ178UV05YAedJhayPAPeuH3K+iXv3mOfv/2/4rXvO2T6cpxI+ncboerRQAAAAAAAGL61C2C/r/97d1Gv/zDa+r/L5xGV572GfV/qAPphJP2ox11L9LLn/wvPb3zIxp07sl0pHxPBJ3z76HFe8S/R5xCd0w5j44/QL4h/IO23j2TLv/VVvrja+/S25/o2WIdu3c9TSue3o/OO/vffIHY+3/dTEu2v0v/2vs32vLEH+jhXR/Q+/y5Tz6hl1/4Mz13xPH0qfvm0o31b9PrHKQK//r4XWrcWi/e60Xn/duhaqb0Gm15eDs10v/SO2/tpNX3P05r9uj10Sf09t5XaG3ds9Tt9NOp+yHyA4qRP6ecOZi+cYz8V3ufdtwr0vTgLnpRBIkfeXPfe0fsw5/o4ab96NwBZprU8lf81yu0+8N0Bohtv0aP1T1OLx39darq9mk9HwAAAAAAILrSaQr73vv0zrv/sKb36UP9dtoxA2nGpceTjBn3/J5qN70qZ3/456U0Q9dkXnLtGDrFDNDo03TA/h+L4Gs/6j14NC2bfQs9etcN9MsL1Xo+2rWW5j/1D7Wo7eN36EXqTjN+dLP8zJx+B8nZWxbfSzN2EVVWXUYP33ULrf3RAOqnKxy3PLiWdD1sQOPWXbS7+zfol7epfVhQ1VWl5eNX6NbfbAumN8Q7T91Nk+reEWk6iC649Aq5D4/edTMtm9SLKsV+/PO5tTTn90aaXtlAc+o+kP926zdaLT/7u7Tg0i9S74qv0+ivHiXfAwAAAAAAiKt0Assty+jca26xpjtp4+v6fUPZwMvopu7q/y0PPkJPvfUMLbj7eVlrd9yZo2hST7vmbX865Yof0xO/up0WjOtDJxzDgwJ9lk655CK68mC1xMZnRJTo1FUEldfSBT2Okp/5xlUX0cX6HTp6AM244jQ67pDDqazHRXTTN7uq+R/vphdeUf8GdK+i+38wik45Xu1D7ysm0JTj1FsfbWmgrV7VY1Y76eHFu2V6uw0eQ5PO7EaqfnQ/KjtV7MfFaj9+X/cnapX/CW+/QY3yn650+Tf7yH0+7JgTqPd5E2nBz+xAHAAAAAAAILoOOnjPZ+iCqwdQJf/78fNUe/NSeug98f/Bp9CMS0+z+jd69qcD001jPYdRmQ7q6JU3MkGYj9Xv8YBPqxpGdsRhvuazxx3/Wf3fO7T7bf2vrVs38japiODyTG8tu+nFZv1vNq8/R1s4vcLuDffSBVZAfvlv3lRv7tpN3DJYOuIolV/0Jt1Wu4ge3flG5NpRAAAAAACAbEonsOTBe+6fbU3T6AJfv0LD8RfRTYNVs9Tdb6smnheMH0O9s9W8vft32rrpPrr5Bz+iSyZUU7/LbqNbwyoq82HFoFEddrBXw/oBter+mlntfY226n+zEutNB8HHD6brqw5TTX+bd9CMH/+UzprwPZpy9xP0wrtqEQAAAAAAgHx04MeNvEq7d6qA0vPo1mdCauE+pj2b/oMGXXMHTVq8nTY2v6NGhe2w9ksHjP3G3+wIyPW0cAydpJfjfqanXHEzrf3paJry5cNU09mP/5e2/GEVXT75P2ito8kxAAAAAABAFB02sHznqWW6tvEg6tdd9Sn8aMsjtODp9+X/PjtX0JTFr8jHcRxacQrNmHS1HsBnEn2vQi1STK17vEF2utJJR+t/sznus9Rb/7t7jx5VN5L96bBufWj0935MG++/he4b35268eyPX6HbfvucXAIAAAAAACCujhlYvttAC+5Rg9cc0O8ium36RXSJHITnA3ro7uW0wxoA54Utz9Bu+d8pdPvPJtAF3zhZD+BzWEh/zDb0MT8/0vQcbfmDrnk9uAedGNb013TkyTRAd9TcU/cEPRVoyvoxffiuI8D2OZxOGjiSLteDIH0kPgMAAAAAAJCP0gksnY8b0dNHZtDzPm198BF6mGftfzzN+GYfOvCAL9Okq7+omoe+vZ3mbHiJ/0s77GivD+NOevSpv8t1tu7eRivnLKDbogyWU0h/WE63/u4Z2sPpeuUZsQ/30QI9EE+/b1YZTVez+SxdcIlO78fP0003L6JHd7+h09VAy27/KZ17zQ9oin4Ui/T6JpoyoZoum/MI7XiF8/UNeun3j9B9uo9pv4pj1T8AAAAAAAAxlU5g6XzciJ4ezDTT/LBpOd2ma/j6ffMyOlfX8B341YvSjyBp/M0yX5/B4079sh4R9QN6eMEdcp0X3Hw/3b7rWLqknzmua3v4gNY+eC9dzOm66V66fatKywHdL6CbBn5G/h/FgV+9nH45WD0D86O9O2jGzRxMcrqWUe0z/HzLTD9MtufpP9FWEYy/uPX3dOVNnK8/pdH3PC9rcg84+ut05ZnRtw0AAAAAAGDqYE1hd9JD87erYKhiAE05zwyGPkMXjPsGnShHZn2Nbpu/KfOojeMvotrpA2jQcfup1/sfRAPOHE733XYtXXvhKaqfYXupGk3Lxn+RKvXzMw84uCtdPH4Srb1loPUYklw+TSeNm0FrfzqcLjn5MDpKj0h7wMGH0YB+A2jB7J/R7UagetzAaYFlDz3iWBp04WX08JwxdIoZhQIAAAAAAMTQJSXo/6HNPENzLruXHuJ/+bEqV3xZzgUAAAAAAOgMOuyosAAAAAAAAFAaEFgCAAAAAABAIggsAQAAAAAAIBH0sQQAAAAAAIBEUGMJAAAAAAAAiSCwBAAAAAAAgEQQWAIAAAAAAEAiCCwBAAAAAAAgEQSWAAAAAAAAkAgCSwAAAAAAAEgEgSUAAAAAAAAkgsASAAAAAAAAEkFgCQAAAAAAAIkgsAQAAAAAAIBEEFgCAAAAAABAIggsAQAAAAAAIBEElgAAAAAAAJAIAksAAAAAAABIBIElAAAAAAAAJILAEgAAAAAAABJBYAkAAAAAAACJILAEAAAAAACARBBYAgAAAAAAQCIILAEAAAAAACCRThFYtq6/lvpPXU2t+nXRta6mG866ltYVaIca51VR/3nb9SslUZoLvH+2zn48imM73XlWFd3ZqF9qrrIhyTSL9/Rkf64tyON+1hxqm02p9HvpuWF9i57vbdd7r622H64Uynvb5n08Bf++AgAAgA6hiIFlC62b6l0gqv8zFyP+i0j3VBoXUcXSsrOJqGGXyDnYd7XQ7mbxp7nZumAX58+IWqJpS2jzE3Vyuq5Sv9Uh8fdDNS0fOTudnjuGlKu3GufQ8Bqi6SvV/M1PXE/OpIrl3N8jxuQK0DuhXEFe6M0KAAAAgCxKpMaynLpVEPXtoS8WqRddpy8g5bRyCvWlnsbFI08hF5D7iMrJ7ZgHXPuF2oYSVE7nzxLlYNYwKtNzpMbHaLk4Xwb28c6nDA4qzNq+DqG1gTY1EI2q6qVnZDTWrSHqM5j6+jLAofJ647ujjlZN6yk+N4VWGfM2Tw6uH9pfhyyjifHN1H37ZikAAHR8RQwsVTBZURG8+IXS0tqwger1/9BR9KBugWCrherrmvT/HU1POjHsq6Kiwh9YQwfWkctoAvJmEAAAQMdWMn0sy3v0TB5kWv3Kcjb3MpaNc4fc/ixPOfuwefumm5iF94mymwW7hTZnC23y5+pjqLcVuox6f3gNN7utpeF6uch5FfV42MuJyb0NVxPpOHf57fRm+aydj6FlyV6nuyxwmZFpstebsMmhv9mizp9Ja8T/a2ii3obcH5nHY2lmA1F9zVi9/WCZiHxeONJRVtFDvxlR4Li7y1//EbVUT000c4RazszHiSvEYiuq9ecLXOOTc/9ycJyLBSkbhcj7fERMT94illH13WnsR+zWFI7vESOv5frla2M5+1gEykZI2QssFzyn5DlnnbN5b88p+B3lzDO5DV6vvXzMcg8AAPuuVEewd1WqesCk1Nq9+rVl77pJqTMGnCOm2akdel4qtS1Vy/PmbtOvM3bM5WWN9cn1n5OqXrdHzwgnP3vjqpS5K3vXzfbvm72/zvWr/avN7LCilzXny21a6ZBptvYjtWO2zIfMZ/ek1t7oyAO9Df+yXr6Yeai40pxN3OPBy/vyIZAOpj7vz0ORvrkR9suZXp03jvR6289sSy8byAPHOpz77uWttQ5nuQjjLi+usqH2wZEuZx5mqH2McF4E8ifsmGfhWIeXR3Ya1X64z39n+iNwnj+mGPsXtq4dc/37rPIomA5vvZHKRgHyPlfaw/I0Vnqsz+faZkbMMup9r0Qtd953gS+vt6V22OmaO9t5vkneOow0qv0K7gOvy7cOffycZSgsDTG258Sf9x0PnWf2Mfa2Y+1frG0BAMA+rVOMCqtwH0yzz2EvGsf9qFY85r+z27qaFq0gGrVgPp3vtZ8rG0bTxbL1NUtz3AVWg6X0rerja3pXNuT6zLpsfBdYD6SSHnBE6kWDRhItX+y/cyybnfaZQuPy6Dyp+puZny2n88cPFXlwj/OOc1+xT+agLpVjuS/rGtpYkFqIiMdDKBsy3z+4TOUYmt6Hx6Qx7uy3NlNzoN+gSN9kq39hFv70cv/E2TRKpHeRrwahhdYtFvk4crZxvMSy00TeNNTSA+bONy6lmQ1WOiuvp4WO46oMpYVmf0hR7iaIZevrGmLWuLSByOeFzh9RzqYb5ZmPIac7Glceq37D4XnXngqzf5WTjbwUyoZcJcpbE73or7DSopSNQuS9ZrRAsCdZC+wQLz1twFVGZX9813ns1rikVn6/rvLldS+qNNIlrRD5vMA96FV6HUaf3MrJ7n2I9N2WQ5ztOYmydIev/7D+Lg4M+qW07e8CAAB0Zp0nsHQM4OFqHqb6Cw6lQdYFg1p2J+3OesWoAjXZTCtS86vt6dE5/UGlIn+weX/SK9pOD9Q0BQLXtuEY3KWsgir0v4lFPB6RyQtt1RwytHlmVq7BbFRwX7/TWF/YQDE6b8wLwrCBY7hZt3PE3pHnBAZbksuWgOjnRQu9KPLHVUYjpyXLYDyVVUOLP9pxMfYvUtkoQN57OFAxBy4ypthBajsJK6PO89hpO20UgWm071fXdljYOsrpRBEw5t6HuNp7e238uwAAAJ1aJ6qxjMPoy+JNso9LBHJ0ySU0nTJ3/N39jDgIqpYDMoT++Jf1ET/iTeIiVr+fZTTPKNRFr1mr5tVwRBg1s6jsPk+qn5VNjoS7cgpRuv9VgfrUOe7cL59k7g9P6lgGOGp+ZJ/UDin6eZF80K0sg/HkvMHTHgqwf7LPmpmfIWUopqINeNZG6YmlT3cRUoUIqYGzRcq/bNsRMn1Avcn9nRX1uy2X6Ntzs/tOd9zvKAAAKGX7ZmAZerfe39QrHDejVJ/hxxZwEOKqReMmRfJRKSuqQ2rZyqlvVaapoawBG3lVxH1wEEGvtz/piw8SabUfR1FK5IAg1bLZWeY4iMC9j37fxs260stwIFSAgSUCo4raj7bJTIGaZ+PZiv6pAz4OJ8Z5Eacpn1u2JpSuEW3bW7L9kwPAjNhAA33liJsvJpc87+Nry/TEkq22OOLowIXIv1G+7ytjMpucxv1uyyLS9pxUYDuR/N9T8nE7AAAABbbPBZZlXHvna36ajNe/KVgrqWseORBawM1nb3UGQKqfEvdfUU2eXM3volNNaX0XIaUcVAoqmJ5t9WVSTf6y8/pIRu3jZdQMp+lmZunnpwp2LXIWsobY0We0I4p+XoQ3wWvZGbEWROYx0fK64Kinqnlx9tqiNpd4/9QjM/pOm+EPyGU/4SQKkPd5aav0xCPLqLOvn+M8dtL5l6hPs+4b7ygbtvy/20zRt+ckW8EMpYVWANq25QUAAPZV+16NpdFXz9+EdTvdmbPfZAutm2o1v9QDSmS9qJEDuvA2XU031YVD8+J75AWAu19PRHqAm/AmfPlRfQYLF4wH+AYX4jy+h5rFBaAPN8OzhuBvXc95Fj293Jwsc8x5O9yUbyhN8NVCGv1ore01zrNqR+VAHI5aU8e+loYsF9aRzwuVP/yID7MWnmu0wgZ9CXKvg5vr8TpGjS/2zZDC7J9/0CORjyM2iKBUv8xLIfI+f4VPj0uuMsrN1M3zjWvkXOexi8g/PQjXcPP8FOfrnc4WJW6yb7w4BnY/ez4OgW4RUb7bBNWX2T1ATqztOfkH+eHPLWpGjSUAABTePtkUlvvq+ZuM8lRNzTkHdSinbhVWP7Qsg/OYKid7TTeDwSVfOFAD1wiMSdZ80ggOMuniKVlz0bIhM8S+Z9brbtabH5Uv5j7fKvJzPk2vsi58eAAJvrgy0jW8hmj6yojNl2UzzyV04mLv89xHaSgtdDVZ5X60ugmzub2JzXZfVXGhOosHO7HyXJSJikQ1z23FuLCW++ovF5HPC84fWQuf6fc1fOdVKs/0IjnpPM70l+WgTTVBdo3E2e4S7R+XCzVqZ+a74jEa9MR8mpB0FJRC5H1sbZiegChllIzzTQSV8tyO2PScW5DY57Y4X2PVvPI6uBmw1b96eE0P343ByN9tTBxXOeKwd+6ZgW/E7TmJ9fI5bZaXmTSD7pjGtb8AAACF1YWfOaL/h2LhGi7ZfylqH08Xvhvu6lOp54cFUQAAAAAAAAnto6PClhb1nDK7Niwm+UxF61l4UrlqPlcSI20CAAAAAEBnhMCy2BrnFLBfmeOB2Vwbyo+MSDLaLAAAAAAAQBZoClskPICC9ywxHsW1IP3KeHh7x3MHC7Z+AAAAAAAABwSWAAAAAAAAkAiawgIAAAAAAEAiCCwBAAAAAAAgEQSWAAAAAAAAkAgCSwAAAAAAAEgEgSUAAAAAAAAkgsASAAAAAAAAEkFgCQAAAAAAAIkgsAQAAAAAAIBEEFgCAAAAAABAIggsY9lOd55VRXc26pdF0DivivrP265fQalpXX8t9Z+6mlr1awhT/HOpkHBehito3rSuphvOupbW4QQDAAAoOQgs42htpmbxp7m5Rb0GgPzocwkA2pd580v+f9YcKv79nRZaN7VK7It/6iw3ngAA9hUILOMoG0Z3PFFHdwwp1zMA2gDXynSYWk+ueczjwlSfS9dV6tdtoXFOYWsRO9RxAcitrKIHUZ/uVNxfNP4OGUszG4bSQvGdsFlOS2h6H9zEBQDoaBBYApSY1oYNVK//L3Wt6++h5SPPobaMD/PTQusWr6FRVb306+Q60nEBCCODyYoKKtOvi01+hxAHldcb3yPldP4s3MQFAOhoSiCwVH2tcjZ/kX1ruGbEbjITXlsi+/YY671hffDup2wKxLUacv3G8s6aCXe/MN6OXDfXkJjrCKstsZdLT/n2HXI0I3LtfzoPzbyx8i/yvgW3Ga/ZUrTPx85bwT7uzmXl+hz5rctBcF8ceexNrvVHKk82tY3hNU1EDbU0XH82UG7tdedTbux1WGmQeWjts5evMm/08ZD7uqJarcNcnt+XrzPnt5kOua4o+eZIm+/48jrkZzLlWL3PNSBEyyep5ew8VE0AM+vJXnYjHhcWtZwG0hn+PWYL/c4K25a9T2IqzLmW4DsgkH4xRTpHPPa2Xd9j7vNClo+I27LLiX+dXLbV68xy1jYd6XSVm3bNe1N5d+pbQkFmbsF0O49l+jvBWt5bNnI+AwBALKli2rsqVT3gnNQZc7fpGWLWukmpM8S86nV79BzNW1ZMtTv0vNSe1Nobed7sVHqWtmMuz5+UWrtXz9Cft9frbc+/jm2pWp5n7Jei5me2r6htienGVSlvc2HbS+2YLZcNpCGwLTe5LXtZ3pZvXsj+y32anap1rYNF3jdHvgc+m030z8fKW9d69bK+zzO5PaN8ePTy/v3Q6zXXEZ62WZQAABmSSURBVPL5eOXJTabZ3l+Pzicz7V4eRct7wV6HKy0yH4x5ocu4tyvzYa4oa873VX6GnRtmPu3dsc3Ih+Dx5bRX3yi2ZeWXOg7mMchQ+ZVJS9b8NmRbzjsGvvfDyqlXJo10qs+799fmLGOOdXp2zPUfN/V561gKsdIQ9xw298tZbsQ5EuX88NLp+7xjX8LKmD4Xg/ODvPww93OHKI8ZvK5JYr+D5c/Dee1LZ7Y84nQVOO87hCxlN4CX9S2X7beO88go59488X3Bv4OdIu8AAEpMUWssG5fUUn2fKbRqcqa5WtmQ+bRqWk+qr1nqvIPfd9oSo18WN5eZTaNoDS0y7wK3rqZFK4hGLZhP53u3YsuG0fTQ9fak6SvNZji9aJxYllY8FrkWgbgpz6xhmTu/YnsTRhLV1zX47qY21q0hEmkeZ6Zh/FCxrXucd9cj4f5qRh6m97+52XFXfg0tp9m02be8EnnfGpfSzAYrzyqvp4UivcsXR6gJiP35aHnrXC/nzcop1Lehlh7I544+a22gTQ2iPI039qFyDE3v00Qzl7judBeiPLm0yOadNHK2r4lY5eS66HnPtSyT1sjzKL0OrrVQ/2XIPNbp47v/4jO+84m17KJ6cWwGZRKqtYhjwzWZO+nElY5+lDo/KyrMZm6Z/TLLZlllr3Set66/VffDyuRt5eTZVNHQRH2r+vhqXVp2iu27mug2zqGJK/j4ZNJS3kMcm4KI+B3g+N7jdAS+x7JylPMF7u+Rysn+41Y25CqxrSZ60bmpBOda1O8AZ7npRdc5vpPC5P4dKBdlwvF93/iYbHY5IVcTy/RviL/8Vory6NdEy5sH0yozzwz8e+Yr//J7I6zvYDvkfSnissvf0V7Lh2y197xs5N86LiczAtcAJL57Brryrg61lgAASRUxsNxOG8UPt31ByMr6DBYXujtpd+CXoicN7GNfEPSiQfzjuzPzQ636QgUveGXfEtd6eXvWTqhlY3BcxBbugrWwkvY7UwFoMM9keht2ibAiu9ifj5i3YesVBUqUm3YcCKIQ5cnFC3Adx6+ySgQVEfLe68+UvrDmJmEjRKAz8ip/0ChUjtUXe+J98l3IK63NO0VaXQN/tNCLYj/JsU7JEVgE9itgOz1QIwLIaWMCZYH5g9QW2t0svlt62OvyAvPMfnETRG7i6rtpkK9I5TTse6+cThRl1Pwey8pVzivPyRIwRpTwXIv0HSCDqzU0UQQReTXfjPg7oALoNbQxvQ3v+DtuOFjCfkNcXL9heWmPvC9VHDDKQXvUDQIuG3Gah7u5ygnrQd0KcsAAAMBW9D6W/gtCU8wLpMAdS+/HyZgmiR/kIlMBgFl7pi92XBeKMah+ZZlJ9gdz6kknhmR5rH0z+prl3qZD0s+HydJfKPJFu00Hpr7aAFlrkDxIjy/8+DlvmlhkTZ55bkzaSdNXigs6V21RWQVV8F+rhtQj1+XKb/kokZ40faw7b1wBaWgNo0evM3ChKGug7DxRgW3wu0UHvOmakSqa2DyFVrX16LQO9TVj0/ugJtUntBACN1AC/fyqRZ4VQN7nsBqYZfOCoek+sPH6V2bh+x1QwWa6JirLjRmniKOlhv+GsUwfYzUV6Di31fenk52GmFOs/ou96DozwHSUi+i/dQAA0N6KHliG1yJlu4B2sC9wualZeuhyc7Ka87W3yutlU9/0BRVfaJDY15CmVLmpH/2J3LzVSCdvI7Y4+yaCDXN7mcloYpRN0s+HCWkSxYI1WFHppnbmxZxsGtr+AUn2Gy657sTrmjxubprO77DzoYXWTRUBSJ+e1NfZTFvXvDnyVNX2hO2LbibrO1/DahgNspYzSNbe2NtyBpuCF/ByIO2lP+/zLhkuO5ljYEwxmoOGMQMdOajMiA000EyzvGgvgKTnsPi+Uct751bSGirB+h2QN8t0+ZXl0tfUP4ektX9ygJhqIt+xVo/RSKytvj+dvGAvzymvMq2buPqOQQF/6wAAoE0UMbDUTZfs/iNC+IVpE21qsH/qgxe4siktryMswigq1aTPd2GZ5OJW9xlaaP14q5qpuKLtm7pYy7+/YNLPh1E1ro7j7uzTFyIkgJFNNa2bFe0eVHo1p46+QKp5XLQalig1t43zvJsKM8Q2HeddWA2ikL32UdUaumqNYtco635w9rZUjWhYC4CETUUTs2rR8uUq54GAWgXxvn5mTB67ZAp7DovAhfvYRahxV6L9Dki6L/Smhu0qLyI2W1VN181mtPHJc1IEgP7vCV1rnkBbfX+WvIL+1gEAQFsoao2l7MPFd6qNpjJ8h52btoT1peImZJl+ObpWxe6bJQc9aKKZI+w+PNvpzkI1ucqXviCPVRubk3/QD87DRc153MWNum/pPlKOofWjNHtK+vkw+iJy5gij5oPXyX0I7ZoK3R9tZo3ZvHVOaHPp0GafbUD1lXLdGPEGU6r2PbKAm4ZNFBfVufsJqgFN+PPmedE4z38cuPxMXOENJKK26R70yhWk5ah9dJaxkP1abxwbOcCQEVDwsaohGiiCNOe2XLVNXmA+yawZi/6dEH5c4kn3XbW2y/kevc+ho5xz2XX0a/UfO5HeERtE4K1f5ivJOSyOnf3IDTmgUYy+b5F+ByQ9iE/dPaLshPW5c/AGdJnkT1/jvJi1qr7aft7Pe6i53fKet8ctLApQE9yGZNNWq8yEXwcU6LcOAADaRHGbwsoO+7NplNHniX9MuMbM/WBkbsa2hE5crJsjyv4q4gLY0fyHR8r0N+vkqZqaCzXQQr6MoDezXzxZFwlR6earZp+tmTSD7pg2ODjSZy6R9031kVpoLysCuIpI/ZeSfj6Mt16+6Mqss56bjQVqXnUtia95K4my5G6qlg4GvGW9KUkgHKJsyAwdIKtt+C7Cufmg2G8yjrca5TRaDao36rJ5XkxsztTuqcFsyBpxUl3I+kYslWWFL7zVOsyLfHf/Rk3WCAcDCOd+1ek3GX9XLOAAV6d7cXdaNUscKBHE2tvyBm0JDgDC5YOPr1E+YnwnZD0ucXjfe1Y/ueE1PSINFiNx7fnK7rTI+7xXzn21OZxebvZqpvcxGvTEfJogO88mkeAcLu/uK788yRsZUZtxypYD0X4HmCwPDU3OAaqyUaMt+9PHN3CiqpzMZc38/K1E0+bTdL6JkkhbfX8Wh7xhY323qu8g6zqgkL91AADQJrrwM0f0/6VN1jxxX6Ei95FMhO8gu/ot6vlZLo7aXinvW5HpmsxAn0o93/foDoA2Jmtz6sIfcQE27pun+jq2f59oAACAfUfRB+/Zp8iRREWAFrggLFdNHCP3MWoDpbxvRSUC68UqeAxclMqavDz6BgJAu/EeZRO5NhgAAADygsCy3Tkegp6lf1T7KuV9Ky5XH0M5wA0/qDzksRoAUGTi+2ums68eAAAAFBqawra3kAFiAs0si6GU962ovObA+qWH+3qhOSK0MzSFjcD4LkNTdQAAgPbRcQJLAAAAAAAAKEloCgsAAAAAAACJILAEAAAAAACARBBYAgAAAAAAQCIILAEAAAAAACARBJYAAAAAAACQCAJLAAAAAAAASASBJQAAAAAAACSCwBIAAAAAAAASQWAJAAAAAAAAiXT4wLJxXhX1n7ddv8qhdTXdcNa1tK5Vv84l7vIlqHX9tdR/6mrqwEnYt3SCMke0ne48q4rubNQvS0y+5wTOJQAAAIBwRQssZUDoukiTF9YhwaJ+L+8L1pZdVE9N9GKLfp1L3OXbibzA5TwKm9J510L1dU1EFRVUpue0FXk8fftxrThOxcq4Flo31d4fNZVqsJMmy1wpc+etL18bH6Pl1JNOLNevS0zLTnFOxNYO51LjnEC+3rA++znknXd5l2v9nZprO0UXyJssN1+83xBvCr0Z4CjLOW5Set+9JZ9fAAAAxZAqlh2zU2cMmJRau1e/9sj554hpdmqHnuXZu25SYP6OuWLZudv0q/zwOmrtjXUUYfkobUvVirysXrdHv24Le1Jrb+TjZeahmle8PFXp7rDHtESp888+N/lY+8uf6zzt+Nq2THl561u//i50nr97V6Wq5bGwz7143Me0tMjveCuNap7je8/Ll/Rvgv5+unFVyreot5w5P/BZkzr+Xn637XcqAABAx1S8prCV59AoR21gY90aopFDxXtraKN1F17WNPTpToWtCNlOG1fofzug1uadIk8GU19XNUprMzVTTxrYpw2rjhqX0swGolEL6ui6Sj1PHKHzZ5mv21mJ15h1SI1zaHhNE/WdtoQ2P3E9ZQ4tH+v5dL5R/uR5OvIcY5lOQJ9LbVWmyobMF/lqnTOV19PCkUT1dQ1Wjdt2unNELVWIc27zE7PFd2W+VC3sqAW8juD3bamonMzp9OdN5eQlNL1PE21q8P+ANC6ppfo+U2jV5F56DpdPkb6GWnrATF/ZMLpDrHPzrGGZGmiet2Ao0YrHyJ8VXLNZTc2y7PN29WwAAADwKWIfy3I6UfxAL68zmx6pIG9U1Rj5XnOzedGg3utb1cfdFM1uKhXalNZoQiU/Uy2CELEfk7zPzslcVNjLS9x/TM2zm3+GNUcLNhPVUwH6a8mL+LDmebJZZQ/qVuZv8hXWjMtuYhu9eV3EC25fE7VMHtr7k57nWD4KGWzLdKvXLultpMtNcP2+48blSe6PUT4Yf14ex/zy2F8G1Dr8n3U018vWhDw92emx1xM9P2WZn8Q3fGbTHUNyHegW2t0sztMeYjnfOWnlG0vnp7Fv1nlrnzvuMqk+L9+LtE132u1t+fYlfS7p12mqP2n6MwU4pwMC53cvus4OQvMhbwoNpUGVvWiQCGD938UZMl8c6VJlOSyPjTwxpryb7Iao32meK2G/Ea7fmmx20m5fYtWNstxlHwAAYN9W1MCyb1VPjh4zFyyypokvdNR7vjv12WrfVlRT/8XdaRXfgeZp5RTqK+aFXdynVV6vlhX/co2b/KyvNiZME80cUUWLevAdbPW5VdN6iuDUHZxMXDGUFpr7JubL7Zl3y/OiL6T4It5B1f4SbTxrLL04PrOf9TVLAxeDvJ/Da4imr1TLcU3J8sURLpLLu4v0iPxYkuOijS/4R9QSybv+nA+DaVPNtbRI7H9Fhbn/uga57lax/AYaKPeHa1TENmqiXbTnrjFTwU/FzqXUfxLpY2PWuqlAxTxuC0mUp5oNVG/VmMs8pg00U+TxpiqVNlnLVHOrsyxwrV+mrC2hhePNi+AWerHBnx+N88bKi/90+eG8sAMNnbf1IvBTy4jjvOAqoxabgx+xHpqSPkdWTSNRhiMGl7oGePpYrxYoi9YG2tTQU+StOH7pc1LViC2yz0cO1sQF/8apmbzbnK5pCh6DzQuGyhtAgeBEblN8lSwWgY53POV5toYm2jeYnAGity2RRl3+eZ8XVmXSK4+z3VpCBlDVtNzLd96mXTOWNyP96TwpLPX9oM6TyrH8nXlPjJsNIThPzPNcTHw+ENciiv8L14pBnSujjGPk8X+fsHLqViH+mL81IbK2AAEAAICsijoqbFlFD6IGcbGuf+3Vj7q6eCvjH3fzPf4/tBZKXHxZTZom8MV9oAlZAVm1N2VDrpLBj79plg78po3JBDl63yIFbbnIYNt1IcVU8EQrdtKJ4mLZu6CT+WrfkReBibqozgRX5T1E0B9FuvmYCO5Da8FUjRc3o0znmfjc9CpxjOSNBDVL0mmqb+ghAgRvf1SNSjRGjVkYHYgsb+bAJ3gjoXX9rTqYy7xXOXk2VTQ0WbUhOo/FfG6W6KWtskrkhy2dx+bFdTlVVhr7GWjCq9Nilh+urfIFGpm8zQRlInsre6X3s3GeCH74wt44R9zl1U0FVREvtmXg1iTScZVx40QdP3/tkl5vg5jGB2uDXMeAKsfIZoiBmie5TS5LgzPHs6wPDRTL2lwBYmZb5s2FXuLY6H+942Ad+3U1Opj38r2sgjh+yZ8KJlXtHt9Q4PIS5UZXHkQAuIjLo3ezQOZXtPKQjfqeHkoTjOMpg9aCBdyKV6bHmZmTpblypO8zkScz+cbP+KQ3/AAAAPZNRQ0s/f0sVX+f9MWbdaGTtRbKMT9yYJSn4J1y1dyqXckLaiswS1N39PtOm+Hr/xassREXs4u55uKq9HLpmrWoF1hc8yv7HqmaXLs5Y+v6e2RNtHmxmWbXAukgYdQC84JaB3BRRuTUQWN9zdh08zs5mU35vG0407edHpB9Cc1gLsMfxKs85psMZk1MsCluMI9dgrUluuZepCWsCWHWvJWyNw+0g72gGHkvqLTbtWw6MPMF+3q9dnAg6RFYA+e1u+ZJbVMESdPM46nLv2Ob/rzIfryVYE2yakZqBGZe7aUzPVGpJpdeTZ+s1XecT4UgA0CrrJ0/fmjb3owrEG6CK2/S+I53Uttlv1W+UVC4WlUAAIB9S3EDS12TIWsgdBO6TFNXszls9iafpUvX1JhNT2VNgetCPz5n8zxPSNPh4Gd0cCRrHFUQNrE5n2Zr6qKYm9ryusxAyH1TwP34Brl/gWDZFSSEkEEj1/QYF+g8GbV1KoALCQDCmly7BgSS84I3GWR6HXnsarZncvWX5UFdVDNrPjbB/mw5m/2GpUeLek5FXc65PzrYdwXl7uA+R3758kiXI7tGVdd8u7bpm5cjfyS9jHnsVTCrb6TweeMNppO4ebsh3RqgAE1UfXSeNdTScO/GC0/cjzZhzaJqEeFv9iwH1Am9ARYPB5Wqyb5/wChJ1hi7Hw8ly2UobiqumzS3UbNjAACAfUGRA0sRjnDNItdAcEBgXRyqprK7qCXKxV+JUqMXrqGJ3sWb7n+UfCCI7DVJ7qbDjhobnbe+QCzBxbFqYmnS+2nTwYarRikYmLiCBLdgrZ/NHdCm6dpMmwp4/fnp1c7ZQXDguDgCk6DwmydqxFCvHJnBpT6e2YI+mR5HE3JnsBcud80mC0mD3Acrn1yBuic0v1zr1zcd7Bs1+gZD8EaANS8sfwyuc0kF0Jk+rTy1SU2X7MNcYHrQnky/3cwk+1ZHHuTGQQfDZosB1U82eZPerEGlpGrh/YO+Mcc5mYagEgAAoFCKHlh6fSlnclNB+4dfNpVdQ4vkoCnZgoUS5riISx5Usuy1OvLCN1Cb6aixkdx3+fOia/FyUbUY9s0CHSRYgYnXbytKjYdMd1jQKGXPNyddy2wHvM481gFbcP058jjnzRPVVDE4YmWUoC/4Ge+xDLmbbepBtqLUmoXcAFDBvj+fct8ACOaXs9lvyDZVzbx//eHbDOaPSQWRjlrhCIPBJOW+QZSMzJuQWm7ZPzhiDanMlwDV7Fs9lsb7zmuPoJKpptKB5ryh5ySCSgAAgEIqemDpNV+qd/7w66akDbmChQT0gBuJ7tJn4bqodpJ9tGIMx5+1FkzXZNm1OK4aGz3IyfJJZk2YuODK+dgEHmjEGqyHRyfl5nS+gEX3i0s/G04NULKxB4/aaV0w6/2zgyt3kOwSocl01nwT9Ci36UFMOE3ignagKIf+9eptRakpC8njdeYoqYGaM5FP88xjoPtp+gIjL+jzNz1uXG98Tg544x9RV41UHL2PmjfQDzf7NLfDF/u+8uqqmRT77aohznoDwBvgysgvFVjwiLr+IMV908FdQ+Xcpu7n7RtxWJyL69LpctcKywCsoZZmGscwkB8Cz3M+ksPCx8QexdpLc/b+n3Gpcht6Y0XnhzmIjyutqgzpFz5hN68s+vsuSv9RlQ+5gkrFGyhoeHq9uu9k4CYKgkoAAIBCK35gqYPHYJNCxRthM1YNUyy96Lr0qKbcdCv3RWAc8qLc7svEkx24OS/Kw2WvyXBf3LlrbLhvpNVcV1xwNUfqA2r0MeNJBJWypsJqSutvDqwefXJdhUivqxYrkKZszdgsOWv9hFxNH+2mfPzIjFncvs7Kz2y1c4H1u/N4k36XBW9AiICczHKjHxdi5a2/D6aaJtbpNyW9bWNdqmli7ov0DH5uIu8/B3uZ7XDQY3LfRHHVELuDNRM/FH/hyEx+eY/CsZubum86uGq+w7bJaVMP0E/ntQhEXtTverVdgUCJB6yymnwOr+kROH/l/oXUDpr4e84ecMp7NE1hWjgoXq1v+PeMvpln1vqJtKrHFBnNW0kEZPrRSX69aJxVHr0p8k0zH31jwv6uSU/WzS0+f/l4pr/P1YBK9nmTbllh9C33TW0wYBIAAEBn1yUl6P+h0PiuvKtPpZ5vPqpA1gDwxRrungN0EqpWjERwuK+MNKpqMoN9KtO15BFqHQEAAKBjKoEay85L9mMTwWOgxkE39cv00VK1KW1XKwsA7U7WakdvhdDhta5Wz8Z0PHtTNlGlAvblBgAAgJKDwLKtOQbC4D5D3D8p86gF9agOPD8NoBORzTKTD1zTsTTRzCV2M9Kwfo4AAADQmaApbBtzD3JRmOH3AQBKitfMX7/0cN/rQvYVBQAAgNKDwBIAAAAAAAASQVNYAAAAAAAASASBJQAAAAAAACSCwBIAAAAAAAASQWAJAAAAAAAAiSCwBAAAAAAAgEQQWAIAAAAAAEAiCCwBAAAAAAAgEQSWAAAAAAAAkAgCSwAAAAAAAEgEgSUAAAAAAAAkgsASAAAAAAAAEkFgCQAAAAAAAIkgsAQAAAAAAIBEEFgCAAAAAABAIggsAQAAAAAAIBEElgAAAAAAAJAIAksAAAAAAABIBIElAAAAAAAAJILAEgAAAAAAABJBYAkAAAAAAACJILAEAAAAAACARBBYAgAAAAAAQCIILAEAAAAAACABov8f7Q/s782nuRkAAAAASUVORK5CYII=)\n",
        "\n",
        "In *Python*, *dictionaries* can be thought almost as lists of *key-value* pairs, where each *key* is associated with its given *value*, similar to how each word is associated with its definition. we might define a dictionary by the following\n",
        "\n",
        "\n",
        "```\n",
        "dictionary = {key1 : value1, key2 : value2,...}\n",
        "```"
      ]
    },
    {
      "cell_type": "code",
      "metadata": {
        "id": "60et7I6vxptc"
      },
      "source": [
        "dictionary = {'extricate' : 'to free or remove someone or something from an entagnelment or difficulty'}\n",
        "\n",
        "# prints out the definition of 'extricate'\n",
        "print(dictionary['extricate'])\n",
        "\n",
        "# prints out the whole dictionary\n",
        "print(dictionary)"
      ],
      "execution_count": null,
      "outputs": []
    },
    {
      "cell_type": "markdown",
      "metadata": {
        "id": "5aJPPreayG8s"
      },
      "source": [
        "Here we see that similar to lists, we index dictionaries by indexing by their keys."
      ]
    },
    {
      "cell_type": "markdown",
      "metadata": {
        "id": "cQ21MoiroayW"
      },
      "source": [
        "# Mathematical and Logical Operators\n",
        "In programming we have access to very similar set of 'Operators' as we did in mathematics. Primarily we have the:\n",
        "\n",
        "\n",
        "\n",
        "*   '+' - adds to numbers together\n",
        "*   '-' - subtracts to values from each other\n",
        "*   '/' -  divideds a dividend by its divisor\n",
        "*   '**' - raises a base to a power\n",
        "*   '%' - returns the remainder of a division\n",
        "\n",
        "\n",
        "\n",
        "```\n",
        "1 + 2 = 3\n",
        "\n",
        "5 - 2 = 3\n",
        "\n",
        "6 / 2 = 3\n",
        "\n",
        "3 ** 2 = 9 \n",
        "\n",
        "9 % 2 = 1\n",
        "```\n",
        "\n",
        "We can assign the results of these operation to variables such as\n",
        "\n",
        "\n",
        "\n"
      ]
    },
    {
      "cell_type": "code",
      "metadata": {
        "id": "JO9go4Zrs6Zu"
      },
      "source": [
        " # assigns add the result 1 + 2\n",
        " add = 1 + 2\n",
        "\n",
        "# assigns sub the result 5 - 2\n",
        " sub = 5 - 2\n",
        "\n",
        "# assigns div the result 6 / 2\n",
        " div = 6 / 2\n",
        "\n",
        "# assigns exp the result 3 ** 2\n",
        " exp = 3 ** 2\n",
        "\n",
        "# assigns mod the result 9 % 2\n",
        " mod = 9 % 2\n",
        " \n",
        "# Prints the respective variables and their values to the screen\n",
        "print(\"add is \" + str(add))\n",
        "print(\"sub is \" + str(sub))\n",
        "print(\"div is \" + str(div))\n",
        "print(\"exp is \" + str(exp))\n",
        "print(\"mod is \" + str(mod))"
      ],
      "execution_count": null,
      "outputs": []
    },
    {
      "cell_type": "markdown",
      "metadata": {
        "id": "ROfKviRvwr-m"
      },
      "source": [
        "We can also perform operations on variables with assigned values:"
      ]
    },
    {
      "cell_type": "code",
      "metadata": {
        "id": "WxDrmt2nwzK0"
      },
      "source": [
        "x = 2\n",
        "y = 3\n",
        "\n",
        "# Adds the values of x and y\n",
        "print(x + y)\n",
        "\n",
        "# Subtracts the value of x from the value of y\n",
        "print(y - x)\n",
        "\n",
        "# Multiplies the value of x and y\n",
        "print(x * y)\n",
        "\n",
        "# Divides the value of y by x\n",
        "print(y / x)\n",
        "\n",
        "# Raises x to the power of y\n",
        "print(x ** y)\n",
        "\n",
        "# Returns the remainder of the value of y divided by the value of x\n",
        "print(y % x)"
      ],
      "execution_count": null,
      "outputs": []
    },
    {
      "cell_type": "markdown",
      "metadata": {
        "id": "IsqMkLMWvdsD"
      },
      "source": [
        "*logical operators* allows to evaluate statements that can either be considered 'True' or 'False'. *Logical operators* include\n",
        "\n",
        "\n",
        "*   AND - evaluates to True when both statements/conditions are True\n",
        "*   OR - evaluates to True when only one or both statements/conditions are True\n",
        "*   NOT - flips the boolean value of a statement/condition\n",
        "\n",
        "Some more colliquial versions of these ideas are for example, the sentence \"my name is Noah and the sky is Blue\" would be considered a *true* statement since both statments are true. The sentence \"my name is Noah and the sky is red\" however, would be *false* since, though my name is Noah, the sky is not red. In a similar fashion \"my name is Noah or the sky is red\" would be a *true* statement since, though the sky is not red, my name is indeed Noah. The not operator would be similar to saying, \"my name is NOT Noah\", which would take a *true* statement, \"my name is Noah\" and flip it to being *false*."
      ]
    },
    {
      "cell_type": "code",
      "metadata": {
        "id": "8_uBI6TNyrNy"
      },
      "source": [
        "statement1 = True\n",
        "statement2 = False\n",
        "\n",
        "# prints the result of statement1 AND statement2\n",
        "print(statement1 and statement2)\n",
        "\n",
        "# prints the NOT result of statement1 AND statement2\n",
        "print(not (statement1 and statement2))\n",
        "\n",
        "# prints the result of statement1 OR statement2\n",
        "print(statement1 or statement2)\n",
        "\n",
        "# prints the NOT result of statement1 OR statement2\n",
        "print(not (statement1 or statement2))"
      ],
      "execution_count": null,
      "outputs": []
    },
    {
      "cell_type": "markdown",
      "metadata": {
        "id": "T5M-cMaqUu-m"
      },
      "source": [
        "We also have *equality/inequality* operators such as\n",
        "\n",
        "\n",
        "*   '<' $\\rightarrow{}$ Less than\n",
        "*   '<=' $\\rightarrow{}$ Less than or equal to\n",
        "*   '>' $\\rightarrow{}$ Greater than\n",
        "*   '>=' $\\rightarrow{}$ Greater than or equal to\n",
        "*   '==' $\\rightarrow{}$ Equal to\n",
        "*   '!=' $\\rightarrow{}$ NOT Equal to\n",
        "\n",
        "Thus we can evaluate the following statements to be either *True* or *False*\n"
      ]
    },
    {
      "cell_type": "code",
      "metadata": {
        "id": "OiUCptaUVuQC"
      },
      "source": [
        "print(1 < 2) # Evaluates to True\n",
        "\n",
        "print(1 > 2) # Evaluates to False\n",
        "\n",
        "print(2 <= 3) # Evaluates to True\n",
        "\n",
        "print(2 >= 1 and 2 < 3) # Evaluates to True\n",
        "\n",
        "print(2 == 2) # Evaluates to True\n",
        "\n",
        "print(2 != 2) # Evaluates to False"
      ],
      "execution_count": null,
      "outputs": []
    },
    {
      "cell_type": "markdown",
      "metadata": {
        "id": "WPHJN_2VFhU7"
      },
      "source": [
        "# If-Else Statements\n",
        "Building on the concepts above about Logical Operators, we will cover the topic of *if-else* statements. In the world of programming, we may want to set conditions for when certain blocks of code might execute, for example checking the value of a piecewise linear function at a specific location of $x$.\n",
        "       \n",
        "\\begin{equation*}\n",
        "  f(x) = \\begin{cases}\n",
        "                                   0 & \\text{if $x < 0$} \\\\\n",
        "                                   1 & \\text{if $0 \\leq x \\leq 2$} \\\\\n",
        "  2 & \\text{if $x >2$}\n",
        "  \\end{cases}\n",
        "\\end{equation*}\n",
        "\n",
        "We will cover what this looks like in code later, but first I will show you what the basic structure of a *if-else* statement looks like...\n",
        "\n",
        "\n",
        "\n",
        "```\n",
        "if (condition 1):\n",
        "  (body 1)\n",
        "\n",
        "elif (condition 2):\n",
        "  (body 2)\n",
        "\n",
        "else:\n",
        "  (body 3)\n",
        "\n",
        "```\n",
        "It's important to note that the order of these conditions matter. If the first condtion within the *if* evaluates to *True*, only *body 1* is executed and the rest of the code is ignored. If the condition in the *if* evaluates to *False* then *body 1* is ignored and the condition within the *elif*(else-if) is checked, if *True* *body 2* is executed, else we execute *body 3*. We can keep extending our checks by addung more *elif* statments, and we can nest conditions as well.\n",
        "\n",
        "An example of the piecewise linear function above is portrayed below:\n"
      ]
    },
    {
      "cell_type": "code",
      "metadata": {
        "id": "l69weNWW3ixH"
      },
      "source": [
        "# Assigns the variable x the value 1.5\n",
        "x = 1.5\n",
        "\n",
        "# checks to see the value of f(x) from our defined above piecewise linear function\n",
        "if x < 0:\n",
        "  y = 0\n",
        "\n",
        "elif x >= 0 or x <= 2:\n",
        "  y = 1\n",
        "\n",
        "else:\n",
        "  y = 2\n",
        "\n",
        "# prints out the value of f(x) for our given x\n",
        "print(y)"
      ],
      "execution_count": null,
      "outputs": []
    },
    {
      "cell_type": "markdown",
      "metadata": {
        "id": "D8nIGqNC4D0i"
      },
      "source": [
        "# Loops\n",
        "In programming we might come across instances were it might be desirable to repeat a block of code multiple times, for example calculating the *Taylor Series* approximation of $e^x$ up to some $n_{th}$ order term, that is\n",
        "\n",
        "\\begin{equation*}\n",
        "e^x \\approx \\sum_{k = 0}^{n} \\frac{x^k}{k!}\n",
        "\\end{equation*}\n",
        "\n",
        "where we might want to repeat the process of calculating each ordered term of the series and then add them together to calculate the approximation of $e^x$. We will write the code to calculate this series later.\n",
        "\n",
        "In *Python* we have access to two main types of loops: **for** and **while** loops.\n",
        "\n",
        "## For loops\n",
        "If we already know ahead of times we will be iterating or if we simply have an object we want to iterate over, a *for* loop is suited best for such tasks. The structure of declaring a *for* loop is denoted by\n",
        "\n",
        "\n",
        "\n",
        "```\n",
        "for (interable):\n",
        "  (body)\n",
        "```\n",
        "\n",
        "\n"
      ]
    },
    {
      "cell_type": "code",
      "metadata": {
        "id": "yxy_7PRLnyhi"
      },
      "source": [
        "# A for loop that iterates through a list of numbers and prints them.\n",
        "# Note: range(n) makes an iterable list of numbers from 0 up to n-1, where n is the number you input\n",
        "for i in range(10):\n",
        "  print(i)"
      ],
      "execution_count": null,
      "outputs": []
    },
    {
      "cell_type": "markdown",
      "metadata": {
        "id": "vKlxt5YJT4fg"
      },
      "source": [
        "So if we wanted to add the numbers of 0 to 9 (inclusive) and get their sum, we could do the following using for loops:"
      ]
    },
    {
      "cell_type": "code",
      "metadata": {
        "id": "-M8F2H27UDK6"
      },
      "source": [
        "# Creates a variable to store the sum\n",
        "\n",
        "sum = 0\n",
        "\n",
        "for i in range(10):\n",
        "  sum += i # this is the same as sum = sum + i, which reassigns the variable 'sum' the sum of the itself plus 'i'\n",
        "\n",
        "# prints the value of sum to the screen\n",
        "print(sum)\n"
      ],
      "execution_count": null,
      "outputs": []
    },
    {
      "cell_type": "markdown",
      "metadata": {
        "id": "ONT4mKw3U9gG"
      },
      "source": [
        "A little fun fact, is that we can actually verify these results by using the following:\n",
        "\n",
        "Let $S$ be the sum of numbers from $1$ to $n$ (ignoring $0$, since its trivial) that is\n",
        "\\begin{equation*}\n",
        "S = 1 + 2 + 3 + \\dots + (n-1) + n\n",
        "\\end{equation*}\n",
        "If we reverse the order of $S$ we get the following\n",
        "\\begin{equation*}\n",
        "S = n + (n-1) + (n-2) + \\dots + 1\n",
        "\\end{equation*}\n",
        "Thus by taking to $2S$ we get the following result\n",
        "\\begin{equation*}\n",
        "2S = n + (n-1+1) + (n-2+2) + \\dots + (n-1 + 1) + n\n",
        "\\end{equation*}\n",
        "we becomes\n",
        "\\begin{equation*}\n",
        "2S = n + n + n + \\dots + n\n",
        "\\end{equation*}\n",
        "we can see that $2S$ is adding $n$ to itself $n + 1$-times, thus\n",
        "\\begin{equation*}\n",
        "2S = n(n+1)\n",
        "\\end{equation*}\n",
        "hence,\n",
        "\\begin{equation*}\n",
        "S = \\frac{n(n+1)}{2}\n",
        "\\end{equation*}\n",
        "Thus if we wanted to know the sum of numbers from 0 to 9, we simply use the equation and get the following\n",
        "\\begin{equation*}\n",
        "S = \\frac{9(9+1)}{2} = \\frac{9(10)}{2} = \\frac{90}{2} = 45\n",
        "\\end{equation*}\n",
        "thus confirming our results.\n",
        "\n",
        "Now let's cover the concept of a *while* loops. *While* loops will continue to loop a block of code, \"while\" a certain condition is *True*. The basic structure of a *while loop* is given by the following...\n",
        "\n",
        "\n",
        "```\n",
        "while (condition):\n",
        "  (body)\n",
        "```\n",
        "Suppose we want to do what we did before with the *for* loop, that is summing the integers from 0 to 9.\n"
      ]
    },
    {
      "cell_type": "code",
      "metadata": {
        "id": "BFSnIpBvYRP5"
      },
      "source": [
        "# initializes a variable 'sum' to contain the sum\n",
        "sum = 0\n",
        "\n",
        "# initializes a variable 'counter' to keep track of which num we are adding\n",
        "counter = 0\n",
        "\n",
        "# loops for the sum\n",
        "while counter <= 9:\n",
        "  sum += counter\n",
        "  counter += 1\n",
        "\n",
        "# prints the result of 'sum'\n",
        "print(sum)"
      ],
      "execution_count": null,
      "outputs": []
    },
    {
      "cell_type": "markdown",
      "metadata": {
        "id": "1PT8nB48vFbb"
      },
      "source": [
        "# Functions\n",
        "\n",
        "Similar to the concept of mathematical functions, such as\n",
        "\\begin{equation*}\n",
        "f(x) = x^2\n",
        "\\end{equation*}\n",
        "in *Python* functions usually can take in an input and will return some output or perform some operation. We can define a function in *Python* as\n",
        "\n",
        "\n",
        "\n",
        "```\n",
        "def (function name)():\n",
        "  (body)\n",
        "  (conditional 'return' statement)\n",
        "```\n",
        "An example code is...\n"
      ]
    },
    {
      "cell_type": "code",
      "metadata": {
        "id": "Fnaaje6MWjnE"
      },
      "source": [
        "# creates the f(x) = x^2\n",
        "def f(x):\n",
        "  return x**2\n",
        "\n",
        "# we call the function f and pass it the value 2, by writing f(2)\n",
        "\n",
        "# returns the result of f(2) = 2^2 = 4\n",
        "print(f(2))"
      ],
      "execution_count": null,
      "outputs": []
    },
    {
      "cell_type": "markdown",
      "metadata": {
        "id": "9Te0_H3VapTn"
      },
      "source": [
        "Similar to variables, its important to note that functions need to be defined before they are called. It is also important to know that there can exist functions that do not take in any inputs but return some output, as well as functions that take in inputs but do not return any explicit outputs. An example is given by the following..."
      ]
    },
    {
      "cell_type": "code",
      "metadata": {
        "id": "9AnFWFc5oBNV"
      },
      "source": [
        "# Here we define a function called 'one' that takes in NO inputs but returns the number '1'\n",
        "def one():\n",
        "  return 1\n",
        "\n",
        "# prints the result of calling the function one()\n",
        "print(one())\n"
      ],
      "execution_count": null,
      "outputs": []
    },
    {
      "cell_type": "code",
      "metadata": {
        "id": "-blwqrasoxAc"
      },
      "source": [
        "# defines a function 'doNothing' that takes in a list and append the string 'Nothing' to it\n",
        "def doNothing(x):\n",
        "  x.append('Nothing')\n",
        "\n",
        "# assigns the variable x to a list of strings\n",
        "x = ['I', 'like', 'to', 'do']\n",
        "\n",
        "# calls the doNothing function passing the list x as its parameter\n",
        "doNothing(x)\n",
        "\n",
        "# prints the value of the list 'x'\n",
        "print(x)"
      ],
      "execution_count": null,
      "outputs": []
    },
    {
      "cell_type": "markdown",
      "metadata": {
        "id": "N0ZKOeBmqQmZ"
      },
      "source": [
        "Here we see in the second example, that though *doNothing()* does take in a parameter, $x$, it does not return a value explicitly but instead alters the value of the parameter passed in, namely it adds the string 'Nothing' to the end of it, if its a list."
      ]
    },
    {
      "cell_type": "markdown",
      "metadata": {
        "id": "FgvhYyuQqlSU"
      },
      "source": [
        "# Introduction to Object-Oriented Programming\n",
        "The last topic that we will introduce, is the concept of Object-Oriented Programming(OOP). OOP is based the idea that we can represent \"Objects\" as members of a \"Class\". A real-life version of this might be the idea that a \"Pigeon\" is a specific *Object* of the \"Bird\" *Class*. A *Class* is a set of \"Objects\" that have shared characteristics, such as all members of the \"Bird\" *class* have similar characteristics such as having wings and beaks, but not all birds are the same, such as different birds have different shape and sized beaks or different wing spans, but they do indeed have appendages, so a specific bird would be considered an *object* of the *bird* class. They way we implement classes in *Python* is by the following...\n",
        "\n",
        "\n",
        "\n",
        "```\n",
        "class (classname):\n",
        "  def __init__(self, args*):\n",
        "    (intialization body of Attributes)\n",
        "  \n",
        "  def (behavior 1):\n",
        "    (body 1)\n",
        "  .\n",
        "  .\n",
        "  .\n",
        "  def (behavior n):\n",
        "    (body n)\n",
        "\n",
        "```\n",
        "Traditionally we start by defining a class with its respective name and then create an \"intialization\" function that is responsible for truly creating an *Object* and giving the *Object* its specific attributes, and then we can continue to give the Object of the Class, different \"Behaviors\" or \"Actions\" that the *Object* can be performed.\n",
        "\n",
        "\n"
      ]
    },
    {
      "cell_type": "code",
      "metadata": {
        "id": "n03_7tee9R-g"
      },
      "source": [
        "# Creates the class 'BankAccount'\n",
        "class BankAccount:\n",
        "  # Initializes an Object of the 'BankAccount' class with a 'balance' attribute\n",
        "  def __init__(self, balance):\n",
        "    self.balance = balance\n",
        "\n",
        "  # Creates the 'withdraw' behavior of a 'BankAccount' object\n",
        "  def withdraw(self, amount):\n",
        "    self.balance -= amount\n",
        "  \n",
        "  # Creates the 'deposit' behavior of a 'BankAccount' object\n",
        "  def deposit(self, amount):\n",
        "    self.balance += amount\n",
        "\n",
        "# Creates a myAccount Object of BankAccount class, with $10,000\n",
        "myAccount = BankAccount(10000)\n",
        "\n",
        "# Prints out the balance attribute of myAccount object\n",
        "print(myAccount.balance)\n",
        "\n",
        "# Calls the myAccount behavior from the BankAccount class, and withdraws $1,000\n",
        "myAccount.withdraw(1000)\n",
        "\n",
        "# Prints out the balance attribute of myAccount object\n",
        "print(myAccount.balance)\n",
        "\n",
        "# Calls the myAccount behavior from the BankAccount class, and deposits $2,000\n",
        "myAccount.deposit(2000)\n",
        "\n",
        "# Prints out the balance attribute of myAccount object\n",
        "print(myAccount.balance)"
      ],
      "execution_count": null,
      "outputs": []
    }
  ]
}