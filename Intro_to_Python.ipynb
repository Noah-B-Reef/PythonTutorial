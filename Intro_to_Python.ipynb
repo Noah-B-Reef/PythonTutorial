{
  "nbformat": 4,
  "nbformat_minor": 0,
  "metadata": {
    "colab": {
      "name": "Intro_to_Python.ipynb",
      "provenance": [],
      "collapsed_sections": [],
      "authorship_tag": "ABX9TyPT7MUl2Sfg5sY7uIeoiygs",
      "include_colab_link": true
    },
    "kernelspec": {
      "name": "python3",
      "display_name": "Python 3"
    },
    "language_info": {
      "name": "python"
    }
  },
  "cells": [
    {
      "cell_type": "markdown",
      "metadata": {
        "id": "view-in-github",
        "colab_type": "text"
      },
      "source": [
        "<a href=\"https://colab.research.google.com/github/Noah-B-Reef/PythonTutorial/blob/main/Intro_to_Python.ipynb\" target=\"_parent\"><img src=\"https://colab.research.google.com/assets/colab-badge.svg\" alt=\"Open In Colab\"/></a>"
      ]
    },
    {
      "cell_type": "markdown",
      "metadata": {
        "id": "MFHdgQu3WUln"
      },
      "source": [
        "# Python\n",
        "*Python* is a high-level programming language, that is, a lot of functionalities are built-in to the language itself, so there is no need to worry about the nitty-gritty low-level implementation of programming concepts. That being said, *Python* is still a strong language with many usages across many fields, such as Data Science and Machine Learning. In this \"Introduction to Python\" Notebook, we will cover some of the basic concepts to know when using *Python*."
      ]
    },
    {
      "cell_type": "markdown",
      "metadata": {
        "id": "ixreQjSFgHPS"
      },
      "source": [
        "# Variables and Data Types\n",
        "Here in this section we will cover basic programming concepts, such as: declaring and assigning values to variables, as well as data types. We start by discussing what are Variables. Variables can be thought of in a similar way to how they are introduced in math, that is, a symbol that represents a value, i.e.\n",
        "\\begin{align*}\n",
        "&x = 2 \\\\\n",
        "&y = 4 \\\\\n",
        "&e = 2.71828\n",
        "\\end{align*}\n",
        "We would say, for example $x$, is the variable/variable name and $2$ would be considered the value that is associated with the variable. We call the '=' the assignment operator, since it \"assigns\" the variable $x$ the value $2$. In Python we would do the following:\n",
        "\n",
        "\n",
        "```\n",
        "x = 2\n",
        "```\n",
        "This being the code that assigns $x$ the value of $2$.\n"
      ]
    },
    {
      "cell_type": "code",
      "metadata": {
        "colab": {
          "base_uri": "https://localhost:8080/"
        },
        "id": "kilP8gqzgFTS",
        "outputId": "b67338a1-57aa-4d27-88be-d409d921860e"
      },
      "source": [
        "# assings the variable x the value of 2\n",
        "x = 2\n",
        "# prints the value of x to the screen\n",
        "print(\"x is \" + str(x))"
      ],
      "execution_count": null,
      "outputs": [
        {
          "output_type": "stream",
          "name": "stdout",
          "text": [
            "x is 2\n"
          ]
        }
      ]
    },
    {
      "cell_type": "markdown",
      "metadata": {
        "id": "DmsFS6eSlPj1"
      },
      "source": [
        "*Data Types* in Python are the different \"forms\" of data that can be represented in python and be understood by the computer. The main data types to know are: *integers, floats, strings, chars, and bools*. There are more data types that we will cover later.\n",
        "\n",
        "\n",
        "\n",
        "*   *integers* - are whole numbers (i.e. $1, 2, 3, \\dots$)\n",
        "*   *float* - decimal representation of a number (i.e. $1.5, 3.14, 2.0$)\n",
        "*   *char* - is a single letter or *character* (i.e. 'a', 'b', 'c', $\\dots$)\n",
        "*   *string* - words or sentences (i.e. \"Hello, World!\" or \"Word\")\n",
        "*   *bools* - stands for boolean value, can only be \"True\" or \"False\"\n",
        "\n",
        "Note we usually enclose *chars* and *strings* in *single* and *double* quotes respectively. To bring it back to what we cover in *variables*, to show that we can assign these different *data types* to variables.\n",
        "\n",
        "\n",
        "\n",
        "```\n",
        "smallestPrime = 2\n",
        "pi = 3.14\n",
        "letter = 'A'\n",
        "name = \"Allen Smith\"\n",
        "skyIsRed = False\n",
        "```\n",
        "\n",
        "\n",
        "\n"
      ]
    },
    {
      "cell_type": "code",
      "metadata": {
        "colab": {
          "base_uri": "https://localhost:8080/"
        },
        "id": "QMpcCLjqnjRh",
        "outputId": "e6218b85-98e3-4dc0-c33f-f36a365a99dd"
      },
      "source": [
        "# smallestPrime is assigned the integer 2\n",
        "smallestPrime = 2\n",
        "\n",
        "# pi is assigned the float 3.14\n",
        "pi = 3.14\n",
        "\n",
        "# letter is assigned the char 'A'\n",
        "letter = 'A'\n",
        "\n",
        "# name is assigned the string \"Allen Smith\"\n",
        "name = \"Allen Smith\"\n",
        "\n",
        "# skyIsRed is assigned the boolean value \"True\"\n",
        "skyIsRed = False\n",
        "\n",
        "# Prints the respective variables and their values to the screen\n",
        "print(\"smallestPrime is \" + str(smallestPrime))\n",
        "print(\"pi is \" + str(pi))\n",
        "print(\"letter is \" + letter)\n",
        "print(\"name is \" + name)\n",
        "print(\"skyIsRed is \" + str(skyIsRed))"
      ],
      "execution_count": null,
      "outputs": [
        {
          "output_type": "stream",
          "name": "stdout",
          "text": [
            "smallestPrime is 2\n",
            "pi is 3.14\n",
            "letter is A\n",
            "name is Allen Smith\n",
            "skyIsRed is False\n"
          ]
        }
      ]
    },
    {
      "cell_type": "markdown",
      "metadata": {
        "id": "cQ21MoiroayW"
      },
      "source": [
        "# Mathematical and Logical Operators\n",
        "In programming we have access to very similar set of 'Operators' as we did in mathematics. Primarily we have the:\n",
        "\n",
        "\n",
        "\n",
        "*   '+' - adds to numbers together\n",
        "*   '-' - subtracts to values from each other\n",
        "*   '/' -  divideds a dividend by its divisor\n",
        "*   '**' - raises a base to a power\n",
        "*   '%' - returns the remainder of a division\n",
        "\n",
        "\n",
        "\n",
        "```\n",
        "1 + 2 = 3\n",
        "\n",
        "5 - 2 = 3\n",
        "\n",
        "6 / 2 = 3\n",
        "\n",
        "3 ** 2 = 9 \n",
        "\n",
        "9 % 2 = 1\n",
        "```\n",
        "\n",
        "We can assign the results of these operation to variables such as\n",
        "\n",
        "\n",
        "\n"
      ]
    },
    {
      "cell_type": "code",
      "metadata": {
        "id": "JO9go4Zrs6Zu"
      },
      "source": [
        " # assigns add the result 1 + 2\n",
        " add = 1 + 2\n",
        "\n",
        "# assigns sub the result 5 - 2\n",
        " sub = 5 - 2\n",
        "\n",
        "# assigns div the result 6 / 2\n",
        " div = 6 / 2\n",
        "\n",
        "# assigns exp the result 3 ** 2\n",
        " exp = 3 ** 2\n",
        "\n",
        "# assigns mod the result 9 % 2\n",
        " mod = 9 % 2\n",
        " \n",
        "# Prints the respective variables and their values to the screen\n",
        "print(\"add is \" + str(add))\n",
        "print(\"sub is \" + str(sub))\n",
        "print(\"div is \" + str(div))\n",
        "print(\"exp is \" + str(exp))\n",
        "print(\"mod is \" + str(mod))"
      ],
      "execution_count": null,
      "outputs": []
    },
    {
      "cell_type": "markdown",
      "metadata": {
        "id": "ROfKviRvwr-m"
      },
      "source": [
        "We can also perform operations on variables with assigned values:"
      ]
    },
    {
      "cell_type": "code",
      "metadata": {
        "id": "WxDrmt2nwzK0"
      },
      "source": [
        "x = 2\n",
        "y = 3\n",
        "\n",
        "# Adds the values of x and y\n",
        "print(x + y)\n",
        "\n",
        "# Subtracts the value of x from the value of y\n",
        "print(y - x)\n",
        "\n",
        "# Multiplies the value of x and y\n",
        "print(x * y)\n",
        "\n",
        "# Divides the value of y by x\n",
        "print(y / x)\n",
        "\n",
        "# Raises x to the power of y\n",
        "print(x ** y)\n",
        "\n",
        "# Returns the remainder of the value of y divided by the value of x\n",
        "print(y % x)"
      ],
      "execution_count": null,
      "outputs": []
    },
    {
      "cell_type": "markdown",
      "metadata": {
        "id": "IsqMkLMWvdsD"
      },
      "source": [
        "*logical operators* allows to evaluate statements that can either be considered 'True' or 'False'. *Logical operators* include\n",
        "\n",
        "\n",
        "*   AND - evaluates to True when both statements/conditions are True\n",
        "*   OR - evaluates to True when only one or both statements/conditions are True\n",
        "*   NOT - flips the boolean value of a statement/condition\n",
        "\n",
        "Some more colliquial versions of these ideas are for example, the sentence \"my name is Noah and the sky is Blue\" would be considered a *true* statement since both statments are true. The sentence \"my name is Noah and the sky is red\" however, would be *false* since, though my name is Noah, the sky is not red. In a similar fashion \"my name is Noah or the sky is red\" would be a *true* statement since, though the sky is not red, my name is indeed Noah. The not operator would be similar to saying, \"my name is NOT Noah\", which would take a *true* statement, \"my name is Noah\" and flip it to being *false*."
      ]
    },
    {
      "cell_type": "code",
      "metadata": {
        "id": "8_uBI6TNyrNy"
      },
      "source": [
        "statement1 = True\n",
        "statement2 = False\n",
        "\n",
        "# prints the result of statement1 AND statement2\n",
        "print(statement1 and statement2)\n",
        "\n",
        "# prints the NOT result of statement1 AND statement2\n",
        "print(not (statement1 and statement2))\n",
        "\n",
        "# prints the result of statement1 OR statement2\n",
        "print(statement1 or statement2)\n",
        "\n",
        "# prints the NOT result of statement1 OR statement2\n",
        "print(not (statement1 or statement2))"
      ],
      "execution_count": null,
      "outputs": []
    },
    {
      "cell_type": "markdown",
      "metadata": {
        "id": "T5M-cMaqUu-m"
      },
      "source": [
        "We also have *equality/inequality* operators such as\n",
        "\n",
        "\n",
        "*   '<' $\\rightarrow{}$ Less than\n",
        "*   '<=' $\\rightarrow{}$ Less than or equal to\n",
        "*   '>' $\\rightarrow{}$ Greater than\n",
        "*   '>=' $\\rightarrow{}$ Greater than or equal to\n",
        "*   '==' $\\rightarrow{}$ Equal to\n",
        "*   '!=' $\\rightarrow{}$ NOT Equal to\n",
        "\n",
        "Thus we can evaluate the following statements to be either *True* or *False*\n"
      ]
    },
    {
      "cell_type": "code",
      "metadata": {
        "id": "OiUCptaUVuQC"
      },
      "source": [
        "print(1 < 2) # Evaluates to True\n",
        "\n",
        "print(1 > 2) # Evaluates to False\n",
        "\n",
        "print(2 <= 3) # Evaluates to True\n",
        "\n",
        "print(2 >= 1 and 2 < 3) # Evaluates to True\n",
        "\n",
        "print(2 == 2) # Evaluates to True\n",
        "\n",
        "print(2 != 2) # Evaluates to False"
      ],
      "execution_count": null,
      "outputs": []
    },
    {
      "cell_type": "markdown",
      "metadata": {
        "id": "WPHJN_2VFhU7"
      },
      "source": [
        "# If-Else Statements\n",
        "Building on the concepts above about Logical Operators, we will cover the topic of *if-else* statements. In the world of programming, we may want to set conditions for when certain blocks of code might execute, for example checking the value of a piecewise linear function at a specific location of $x$.\n",
        "       \n",
        "\\begin{equation*}\n",
        "  f(x) = \\begin{cases}\n",
        "                                   0 & \\text{if $x < 0$} \\\\\n",
        "                                   1 & \\text{if $0 \\leq x \\leq 2$} \\\\\n",
        "  2 & \\text{if $x >2$}\n",
        "  \\end{cases}\n",
        "\\end{equation*}\n",
        "\n",
        "We will cover what this looks like in code later, but first I will show you what the basic structure of a *if-else* statement looks like...\n",
        "\n",
        "\n",
        "\n",
        "```\n",
        "if (condition 1):\n",
        "  (body 1)\n",
        "\n",
        "elif (condition 2):\n",
        "  (body 2)\n",
        "\n",
        "else:\n",
        "  (body 3)\n",
        "\n",
        "```\n",
        "It's important to note that the order of these conditions matter. If the first condtion within the *if* evaluates to *True*, only *body 1* is executed and the rest of the code is ignored. If the condition in the *if* evaluates to *False* then *body 1* is ignored and the condition within the *elif*(else-if) is checked, if *True* *body 2* is executed, else we execute *body 3*. We can keep extending our checks by addung more *elif* statments, and we can nest conditions as well.\n",
        "\n",
        "An example of the piecewise linear function above is portrayed below:\n"
      ]
    },
    {
      "cell_type": "code",
      "metadata": {
        "id": "l69weNWW3ixH"
      },
      "source": [
        "# Assigns the variable x the value 1.5\n",
        "x = 1.5\n",
        "\n",
        "# checks to see the value of f(x) from our defined above piecewise linear function\n",
        "if x < 0:\n",
        "  y = 0\n",
        "\n",
        "elif x >= 0 or x <= 2:\n",
        "  y = 1\n",
        "\n",
        "else:\n",
        "  y = 2\n",
        "\n",
        "# prints out the value of f(x) for our given x\n",
        "print(y)"
      ],
      "execution_count": null,
      "outputs": []
    },
    {
      "cell_type": "markdown",
      "metadata": {
        "id": "D8nIGqNC4D0i"
      },
      "source": [
        "# Loops\n"
      ]
    }
  ]
}